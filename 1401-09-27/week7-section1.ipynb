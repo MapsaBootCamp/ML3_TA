{
 "cells": [
  {
   "cell_type": "markdown",
   "id": "85b822c2",
   "metadata": {},
   "source": [
    "<br><p style=\"margin-left: 25%; font-size:20px;\">Machine Learning Camp: HomeWork 7 Section 1</p><br>"
   ]
  },
  {
   "cell_type": "markdown",
   "id": "062c1974",
   "metadata": {},
   "source": [
    "## 1. **Extracting twitter data:** In this problem we would like to extract data from twitter."
   ]
  },
  {
   "cell_type": "markdown",
   "id": "3ee06a3d",
   "metadata": {},
   "source": [
    "a. **Twitter API:** Set up twitter API using any of the methods as mentioned in the class."
   ]
  },
  {
   "cell_type": "code",
   "execution_count": 1,
   "id": "7b1dc13f",
   "metadata": {},
   "outputs": [],
   "source": [
    "# TODO"
   ]
  },
  {
   "cell_type": "markdown",
   "id": "7bf5903e",
   "metadata": {},
   "source": [
    "b. Now search twitter messages for \"data science job\". Display few job informations."
   ]
  },
  {
   "cell_type": "code",
   "execution_count": 2,
   "id": "b4706756",
   "metadata": {},
   "outputs": [],
   "source": [
    "# TODO"
   ]
  },
  {
   "cell_type": "markdown",
   "id": "d18cc5c7",
   "metadata": {},
   "source": [
    "c. Search 300 tweets using the hash tag `#chess` and save them in an object called `rTweets`. Show the top 7 sources of tweets (such as android or iphone) in a ordered bar plot."
   ]
  },
  {
   "cell_type": "code",
   "execution_count": 3,
   "id": "300c3271",
   "metadata": {},
   "outputs": [],
   "source": [
    "# TODO"
   ]
  },
  {
   "cell_type": "markdown",
   "id": "a0d8fec3",
   "metadata": {},
   "source": [
    "d. Convert rTweets into a data frame and store it in an object called dTweets. Display some data from dTweets."
   ]
  },
  {
   "cell_type": "code",
   "execution_count": 4,
   "id": "0e7c4cde",
   "metadata": {
    "scrolled": true
   },
   "outputs": [],
   "source": [
    "# TODO "
   ]
  },
  {
   "cell_type": "markdown",
   "id": "62f70679",
   "metadata": {},
   "source": [
    "e. dTweets has a column showing the time the tweet was created. Generate a plot showing number of tweets on each of the hours."
   ]
  },
  {
   "cell_type": "code",
   "execution_count": 5,
   "id": "13c6b827",
   "metadata": {
    "scrolled": true
   },
   "outputs": [],
   "source": [
    "# TODO"
   ]
  },
  {
   "cell_type": "markdown",
   "id": "1817c004",
   "metadata": {},
   "source": [
    "f. Arrange the dataframe dTweets based on the retweetCount. While doing this select only columns text, screenName, retweetCount. Store the data in a object called mostTweets. Display five texts that are most retweeted."
   ]
  },
  {
   "cell_type": "code",
   "execution_count": 6,
   "id": "9f5673a7",
   "metadata": {},
   "outputs": [],
   "source": [
    "# TODO"
   ]
  },
  {
   "cell_type": "markdown",
   "id": "494b69c0",
   "metadata": {},
   "source": [
    "g. Generate a bar chart showing top 15 screen names and count of retweets from mostTweets. Order the bars based on the retweet counts."
   ]
  },
  {
   "cell_type": "code",
   "execution_count": 7,
   "id": "fd0c8c4f",
   "metadata": {
    "scrolled": true
   },
   "outputs": [],
   "source": [
    "# TODO"
   ]
  },
  {
   "cell_type": "markdown",
   "id": "0f90e93b",
   "metadata": {},
   "source": [
    "## 2. **Working with databases:** Please follow the instruction below before answering the questions:\n",
    "* Import the sqlite3\n",
    "* Connect to titanic.db"
   ]
  },
  {
   "cell_type": "markdown",
   "id": "2f63c26d-b830-47d2-a406-ed1bd0eb8d23",
   "metadata": {},
   "source": [
    "!pip install ipython-sql"
   ]
  },
  {
   "cell_type": "code",
   "execution_count": 1,
   "id": "53ac1b7a-49f4-419c-8c54-03f92f5a4af3",
   "metadata": {},
   "outputs": [],
   "source": [
    "%load_ext sql"
   ]
  },
  {
   "cell_type": "code",
   "execution_count": 2,
   "id": "fbb4dd38-2513-4f5c-a957-671473d748f7",
   "metadata": {},
   "outputs": [],
   "source": [
    "%sql sqlite:///data/titanic.db"
   ]
  },
  {
   "cell_type": "code",
   "execution_count": 3,
   "id": "4506a4ef-ea7e-4004-86ec-9654e83dcb95",
   "metadata": {},
   "outputs": [],
   "source": [
    "import seaborn as sns\n",
    "import pandas as pd"
   ]
  },
  {
   "cell_type": "code",
   "execution_count": 4,
   "id": "8d422620-a267-4639-8db4-0b66706a80fb",
   "metadata": {},
   "outputs": [],
   "source": [
    "import sqlite3"
   ]
  },
  {
   "cell_type": "code",
   "execution_count": 5,
   "id": "884b56ca-ded3-4c5b-980b-de57d2ec3ece",
   "metadata": {},
   "outputs": [],
   "source": [
    "class DB:\n",
    "    def __init__(self, db_path):\n",
    "        self.conn = sqlite3.connect(db_path)\n",
    "        self.curs = self.conn.cursor()\n",
    "        \n",
    "    def execute(self, command):\n",
    "        self.curs.execute(command)\n",
    "        res = self.curs.fetchall()\n",
    "        return res\n",
    "    \n",
    "    def pandas(self, command):\n",
    "        return pd.read_sql(command, self.conn)\n",
    "        "
   ]
  },
  {
   "cell_type": "code",
   "execution_count": 6,
   "id": "cb64d452-9309-4ff1-a086-a55d036d5b37",
   "metadata": {},
   "outputs": [],
   "source": [
    "titanicdb = DB('data/titanic.db')"
   ]
  },
  {
   "cell_type": "markdown",
   "id": "23126c1f",
   "metadata": {},
   "source": [
    "a. What is the average age of passengers who survived? Group the data by Sex. Display only the column `Sex`, `AverageAge`"
   ]
  },
  {
   "cell_type": "code",
   "execution_count": 7,
   "id": "76f0b7bd-6083-4911-86fe-4202276d16b3",
   "metadata": {},
   "outputs": [
    {
     "data": {
      "text/html": [
       "<div>\n",
       "<style scoped>\n",
       "    .dataframe tbody tr th:only-of-type {\n",
       "        vertical-align: middle;\n",
       "    }\n",
       "\n",
       "    .dataframe tbody tr th {\n",
       "        vertical-align: top;\n",
       "    }\n",
       "\n",
       "    .dataframe thead th {\n",
       "        text-align: right;\n",
       "    }\n",
       "</style>\n",
       "<table border=\"1\" class=\"dataframe\">\n",
       "  <thead>\n",
       "    <tr style=\"text-align: right;\">\n",
       "      <th></th>\n",
       "      <th>PassengerId</th>\n",
       "      <th>Survived</th>\n",
       "      <th>Pclass</th>\n",
       "      <th>Name</th>\n",
       "      <th>Sex</th>\n",
       "      <th>Age</th>\n",
       "      <th>SibSp</th>\n",
       "      <th>Parch</th>\n",
       "      <th>Ticket</th>\n",
       "      <th>Fare</th>\n",
       "      <th>Cabin</th>\n",
       "      <th>Embarked</th>\n",
       "      <th>FamilyCount</th>\n",
       "      <th>IsReverend</th>\n",
       "    </tr>\n",
       "  </thead>\n",
       "  <tbody>\n",
       "    <tr>\n",
       "      <th>0</th>\n",
       "      <td>1</td>\n",
       "      <td>0</td>\n",
       "      <td>3</td>\n",
       "      <td>Braund, Mr. Owen Harris</td>\n",
       "      <td>male</td>\n",
       "      <td>22</td>\n",
       "      <td>1</td>\n",
       "      <td>0</td>\n",
       "      <td>A/5 21171</td>\n",
       "      <td>7.25</td>\n",
       "      <td>**EMPTY**</td>\n",
       "      <td>S</td>\n",
       "      <td>2</td>\n",
       "      <td>0</td>\n",
       "    </tr>\n",
       "    <tr>\n",
       "      <th>1</th>\n",
       "      <td>2</td>\n",
       "      <td>1</td>\n",
       "      <td>1</td>\n",
       "      <td>Cumings, Mrs. John Bradley (Florence Briggs Th...</td>\n",
       "      <td>female</td>\n",
       "      <td>38</td>\n",
       "      <td>1</td>\n",
       "      <td>0</td>\n",
       "      <td>PC 17599</td>\n",
       "      <td>71.2833</td>\n",
       "      <td>C85</td>\n",
       "      <td>C</td>\n",
       "      <td>2</td>\n",
       "      <td>0</td>\n",
       "    </tr>\n",
       "    <tr>\n",
       "      <th>2</th>\n",
       "      <td>3</td>\n",
       "      <td>1</td>\n",
       "      <td>3</td>\n",
       "      <td>Heikkinen, Miss. Laina</td>\n",
       "      <td>female</td>\n",
       "      <td>26</td>\n",
       "      <td>0</td>\n",
       "      <td>0</td>\n",
       "      <td>STON/O2. 3101282</td>\n",
       "      <td>7.925</td>\n",
       "      <td>**EMPTY**</td>\n",
       "      <td>S</td>\n",
       "      <td>1</td>\n",
       "      <td>0</td>\n",
       "    </tr>\n",
       "    <tr>\n",
       "      <th>3</th>\n",
       "      <td>4</td>\n",
       "      <td>1</td>\n",
       "      <td>1</td>\n",
       "      <td>Futrelle, Mrs. Jacques Heath (Lily May Peel)</td>\n",
       "      <td>female</td>\n",
       "      <td>35</td>\n",
       "      <td>1</td>\n",
       "      <td>0</td>\n",
       "      <td>113803</td>\n",
       "      <td>53.1</td>\n",
       "      <td>C123</td>\n",
       "      <td>S</td>\n",
       "      <td>2</td>\n",
       "      <td>0</td>\n",
       "    </tr>\n",
       "    <tr>\n",
       "      <th>4</th>\n",
       "      <td>5</td>\n",
       "      <td>0</td>\n",
       "      <td>3</td>\n",
       "      <td>Allen, Mr. William Henry</td>\n",
       "      <td>male</td>\n",
       "      <td>35</td>\n",
       "      <td>0</td>\n",
       "      <td>0</td>\n",
       "      <td>373450</td>\n",
       "      <td>8.05</td>\n",
       "      <td>**EMPTY**</td>\n",
       "      <td>S</td>\n",
       "      <td>1</td>\n",
       "      <td>0</td>\n",
       "    </tr>\n",
       "    <tr>\n",
       "      <th>...</th>\n",
       "      <td>...</td>\n",
       "      <td>...</td>\n",
       "      <td>...</td>\n",
       "      <td>...</td>\n",
       "      <td>...</td>\n",
       "      <td>...</td>\n",
       "      <td>...</td>\n",
       "      <td>...</td>\n",
       "      <td>...</td>\n",
       "      <td>...</td>\n",
       "      <td>...</td>\n",
       "      <td>...</td>\n",
       "      <td>...</td>\n",
       "      <td>...</td>\n",
       "    </tr>\n",
       "    <tr>\n",
       "      <th>884</th>\n",
       "      <td>887</td>\n",
       "      <td>0</td>\n",
       "      <td>2</td>\n",
       "      <td>Montvila, Rev. Juozas</td>\n",
       "      <td>male</td>\n",
       "      <td>27</td>\n",
       "      <td>0</td>\n",
       "      <td>0</td>\n",
       "      <td>211536</td>\n",
       "      <td>13</td>\n",
       "      <td>**EMPTY**</td>\n",
       "      <td>S</td>\n",
       "      <td>1</td>\n",
       "      <td>1</td>\n",
       "    </tr>\n",
       "    <tr>\n",
       "      <th>885</th>\n",
       "      <td>888</td>\n",
       "      <td>1</td>\n",
       "      <td>1</td>\n",
       "      <td>Graham, Miss. Margaret Edith</td>\n",
       "      <td>female</td>\n",
       "      <td>19</td>\n",
       "      <td>0</td>\n",
       "      <td>0</td>\n",
       "      <td>112053</td>\n",
       "      <td>30</td>\n",
       "      <td>B42</td>\n",
       "      <td>S</td>\n",
       "      <td>1</td>\n",
       "      <td>0</td>\n",
       "    </tr>\n",
       "    <tr>\n",
       "      <th>886</th>\n",
       "      <td>889</td>\n",
       "      <td>0</td>\n",
       "      <td>3</td>\n",
       "      <td>Johnston, Miss. Catherine Helen \"Carrie\"</td>\n",
       "      <td>female</td>\n",
       "      <td>None</td>\n",
       "      <td>1</td>\n",
       "      <td>2</td>\n",
       "      <td>W./C. 6607</td>\n",
       "      <td>23.45</td>\n",
       "      <td>**EMPTY**</td>\n",
       "      <td>S</td>\n",
       "      <td>4</td>\n",
       "      <td>0</td>\n",
       "    </tr>\n",
       "    <tr>\n",
       "      <th>887</th>\n",
       "      <td>890</td>\n",
       "      <td>1</td>\n",
       "      <td>1</td>\n",
       "      <td>Behr, Mr. Karl Howell</td>\n",
       "      <td>male</td>\n",
       "      <td>26</td>\n",
       "      <td>0</td>\n",
       "      <td>0</td>\n",
       "      <td>111369</td>\n",
       "      <td>30</td>\n",
       "      <td>C148</td>\n",
       "      <td>C</td>\n",
       "      <td>1</td>\n",
       "      <td>0</td>\n",
       "    </tr>\n",
       "    <tr>\n",
       "      <th>888</th>\n",
       "      <td>891</td>\n",
       "      <td>0</td>\n",
       "      <td>3</td>\n",
       "      <td>Dooley, Mr. Patrick</td>\n",
       "      <td>male</td>\n",
       "      <td>32</td>\n",
       "      <td>0</td>\n",
       "      <td>0</td>\n",
       "      <td>370376</td>\n",
       "      <td>7.75</td>\n",
       "      <td>**EMPTY**</td>\n",
       "      <td>Q</td>\n",
       "      <td>1</td>\n",
       "      <td>0</td>\n",
       "    </tr>\n",
       "  </tbody>\n",
       "</table>\n",
       "<p>889 rows × 14 columns</p>\n",
       "</div>"
      ],
      "text/plain": [
       "    PassengerId Survived Pclass  \\\n",
       "0             1        0      3   \n",
       "1             2        1      1   \n",
       "2             3        1      3   \n",
       "3             4        1      1   \n",
       "4             5        0      3   \n",
       "..          ...      ...    ...   \n",
       "884         887        0      2   \n",
       "885         888        1      1   \n",
       "886         889        0      3   \n",
       "887         890        1      1   \n",
       "888         891        0      3   \n",
       "\n",
       "                                                  Name     Sex   Age SibSp  \\\n",
       "0                              Braund, Mr. Owen Harris    male    22     1   \n",
       "1    Cumings, Mrs. John Bradley (Florence Briggs Th...  female    38     1   \n",
       "2                               Heikkinen, Miss. Laina  female    26     0   \n",
       "3         Futrelle, Mrs. Jacques Heath (Lily May Peel)  female    35     1   \n",
       "4                             Allen, Mr. William Henry    male    35     0   \n",
       "..                                                 ...     ...   ...   ...   \n",
       "884                              Montvila, Rev. Juozas    male    27     0   \n",
       "885                       Graham, Miss. Margaret Edith  female    19     0   \n",
       "886           Johnston, Miss. Catherine Helen \"Carrie\"  female  None     1   \n",
       "887                              Behr, Mr. Karl Howell    male    26     0   \n",
       "888                                Dooley, Mr. Patrick    male    32     0   \n",
       "\n",
       "    Parch            Ticket     Fare      Cabin Embarked  FamilyCount  \\\n",
       "0       0         A/5 21171     7.25  **EMPTY**        S            2   \n",
       "1       0          PC 17599  71.2833        C85        C            2   \n",
       "2       0  STON/O2. 3101282    7.925  **EMPTY**        S            1   \n",
       "3       0            113803     53.1       C123        S            2   \n",
       "4       0            373450     8.05  **EMPTY**        S            1   \n",
       "..    ...               ...      ...        ...      ...          ...   \n",
       "884     0            211536       13  **EMPTY**        S            1   \n",
       "885     0            112053       30        B42        S            1   \n",
       "886     2        W./C. 6607    23.45  **EMPTY**        S            4   \n",
       "887     0            111369       30       C148        C            1   \n",
       "888     0            370376     7.75  **EMPTY**        Q            1   \n",
       "\n",
       "     IsReverend  \n",
       "0             0  \n",
       "1             0  \n",
       "2             0  \n",
       "3             0  \n",
       "4             0  \n",
       "..          ...  \n",
       "884           1  \n",
       "885           0  \n",
       "886           0  \n",
       "887           0  \n",
       "888           0  \n",
       "\n",
       "[889 rows x 14 columns]"
      ]
     },
     "execution_count": 7,
     "metadata": {},
     "output_type": "execute_result"
    }
   ],
   "source": [
    "df = titanicdb.pandas('select * from titanic')\n",
    "df"
   ]
  },
  {
   "cell_type": "code",
   "execution_count": 8,
   "id": "48e4b1aa-192d-44fd-805a-7684131324a2",
   "metadata": {},
   "outputs": [
    {
     "data": {
      "text/plain": [
       "dtype('O')"
      ]
     },
     "execution_count": 8,
     "metadata": {},
     "output_type": "execute_result"
    }
   ],
   "source": [
    "df.Age.dtype"
   ]
  },
  {
   "cell_type": "code",
   "execution_count": 9,
   "id": "07a77696-7241-4ce7-9f96-f75cefba5ed3",
   "metadata": {},
   "outputs": [],
   "source": [
    "df.Age = df.Age.astype('float')"
   ]
  },
  {
   "cell_type": "code",
   "execution_count": 10,
   "id": "efd7cb62-6720-4375-a7aa-dbf1855a1b1e",
   "metadata": {},
   "outputs": [
    {
     "data": {
      "text/plain": [
       "dtype('float64')"
      ]
     },
     "execution_count": 10,
     "metadata": {},
     "output_type": "execute_result"
    }
   ],
   "source": [
    "df.Age.dtype"
   ]
  },
  {
   "cell_type": "code",
   "execution_count": 11,
   "id": "2aa7d5b8-cc1b-4fa4-b62b-983d4c20a910",
   "metadata": {},
   "outputs": [
    {
     "name": "stdout",
     "output_type": "stream",
     "text": [
      " * sqlite:///data/titanic.db\n",
      "Done.\n"
     ]
    },
    {
     "data": {
      "text/html": [
       "<table>\n",
       "    <tr>\n",
       "        <th>Sex</th>\n",
       "        <th>Average Age</th>\n",
       "    </tr>\n",
       "    <tr>\n",
       "        <td>female</td>\n",
       "        <td>28.631</td>\n",
       "    </tr>\n",
       "    <tr>\n",
       "        <td>male</td>\n",
       "        <td>27.276</td>\n",
       "    </tr>\n",
       "</table>"
      ],
      "text/plain": [
       "[('female', 28.631), ('male', 27.276)]"
      ]
     },
     "execution_count": 11,
     "metadata": {},
     "output_type": "execute_result"
    }
   ],
   "source": [
    "%sql SELECT Sex, round(AVG(age),3) as 'Average Age' FROM titanic WHERE survived=1 GROUP BY sex"
   ]
  },
  {
   "cell_type": "code",
   "execution_count": 13,
   "id": "58c6fb9c-5b51-4c81-b2ac-83dceb766d43",
   "metadata": {},
   "outputs": [
    {
     "name": "stdout",
     "output_type": "stream",
     "text": [
      " * sqlite:///data/titanic.db\n",
      "Done.\n"
     ]
    },
    {
     "data": {
      "text/html": [
       "<table>\n",
       "    <tr>\n",
       "        <th>Sex</th>\n",
       "        <th>Average Age</th>\n",
       "    </tr>\n",
       "    <tr>\n",
       "        <td>female</td>\n",
       "        <td>27.745</td>\n",
       "    </tr>\n",
       "    <tr>\n",
       "        <td>male</td>\n",
       "        <td>30.727</td>\n",
       "    </tr>\n",
       "</table>"
      ],
      "text/plain": [
       "[('female', 27.745), ('male', 30.727)]"
      ]
     },
     "execution_count": 13,
     "metadata": {},
     "output_type": "execute_result"
    }
   ],
   "source": [
    "%%sql SELECT Sex, round(AVG(age),3) as 'Average Age' \n",
    "FROM titanic\n",
    "GROUP BY sex"
   ]
  },
  {
   "cell_type": "code",
   "execution_count": 15,
   "id": "f4711973-e2de-4394-a3eb-00aac400f98a",
   "metadata": {},
   "outputs": [
    {
     "name": "stdout",
     "output_type": "stream",
     "text": [
      " * sqlite:///data/titanic.db\n",
      "Done.\n"
     ]
    },
    {
     "data": {
      "text/html": [
       "<table>\n",
       "    <tr>\n",
       "        <th>Sex</th>\n",
       "        <th>Average Age</th>\n",
       "    </tr>\n",
       "    <tr>\n",
       "        <td>female</td>\n",
       "        <td>28.631</td>\n",
       "    </tr>\n",
       "    <tr>\n",
       "        <td>male</td>\n",
       "        <td>27.276</td>\n",
       "    </tr>\n",
       "</table>"
      ],
      "text/plain": [
       "[('female', 28.631), ('male', 27.276)]"
      ]
     },
     "execution_count": 15,
     "metadata": {},
     "output_type": "execute_result"
    }
   ],
   "source": [
    "%%sql SELECT Sex, round(AVG(age),3) as 'Average Age' \n",
    "FROM titanic\n",
    "WHERE survived=1\n",
    "GROUP BY sex"
   ]
  },
  {
   "cell_type": "code",
   "execution_count": 79,
   "id": "0e19af2a-75a0-4c73-b7e7-c710295a2320",
   "metadata": {},
   "outputs": [
    {
     "data": {
      "text/plain": [
       "Sex\n",
       "female    28.630769\n",
       "male      27.276022\n",
       "Name: Age, dtype: float64"
      ]
     },
     "execution_count": 79,
     "metadata": {},
     "output_type": "execute_result"
    }
   ],
   "source": [
    "df[df.Survived=='1'].groupby('Sex').Age.mean()"
   ]
  },
  {
   "cell_type": "code",
   "execution_count": 80,
   "id": "0be2b451-7d5b-4542-b29b-5d21bd558e43",
   "metadata": {},
   "outputs": [
    {
     "data": {
      "text/plain": [
       "Pclass  Sex   \n",
       "1       female     92\n",
       "        male      122\n",
       "2       female     76\n",
       "        male      108\n",
       "3       female    144\n",
       "        male      347\n",
       "Name: Survived, dtype: int64"
      ]
     },
     "execution_count": 80,
     "metadata": {},
     "output_type": "execute_result"
    }
   ],
   "source": [
    "df.groupby(['Pclass','Sex']).Survived.count()"
   ]
  },
  {
   "cell_type": "code",
   "execution_count": 81,
   "id": "6c31ef73-76c2-40aa-9c1e-a261eb88f470",
   "metadata": {},
   "outputs": [
    {
     "data": {
      "text/plain": [
       "Pclass  Sex   \n",
       "1       female     92\n",
       "        male      122\n",
       "2       female     76\n",
       "        male      108\n",
       "3       female    144\n",
       "        male      347\n",
       "dtype: int64"
      ]
     },
     "execution_count": 81,
     "metadata": {},
     "output_type": "execute_result"
    }
   ],
   "source": [
    "df.groupby(['Pclass','Sex']).size()"
   ]
  },
  {
   "cell_type": "code",
   "execution_count": 16,
   "id": "48079bd7",
   "metadata": {},
   "outputs": [
    {
     "data": {
      "text/plain": [
       "[('female', 28.630769230769232), ('male', 27.276021505376345)]"
      ]
     },
     "execution_count": 16,
     "metadata": {},
     "output_type": "execute_result"
    }
   ],
   "source": [
    "titanicdb.execute(\"SELECT Sex, AVG(age) FROM titanic WHERE survived=1 GROUP BY sex\")"
   ]
  },
  {
   "cell_type": "markdown",
   "id": "833db4b5",
   "metadata": {},
   "source": [
    "b. What is the percentage of passengers who survived in each Passenger Class or `Pclass`? Group the data by `Sex`. Display Pclass, Sex, percentage value. "
   ]
  },
  {
   "cell_type": "code",
   "execution_count": 16,
   "id": "7c3a4412-a718-49cf-b389-66af5a6a18d9",
   "metadata": {},
   "outputs": [
    {
     "data": {
      "text/plain": [
       "[('1', 'female', 42),\n",
       " ('1', 'male', 57),\n",
       " ('2', 'female', 35),\n",
       " ('2', 'male', 50),\n",
       " ('3', 'female', 67),\n",
       " ('3', 'male', 162)]"
      ]
     },
     "execution_count": 16,
     "metadata": {},
     "output_type": "execute_result"
    }
   ],
   "source": [
    "titanicdb.execute(\n",
    "    \"\"\"SELECT PClass, Sex,\n",
    "    (Count(survived)*100)/(select Count(*) from titanic group by pclass)\n",
    "    FROM titanic\n",
    "    GROUP BY PClass, Sex\")\"\"\""
   ]
  },
  {
   "cell_type": "code",
   "execution_count": 60,
   "id": "d775cefd-37a6-4f51-8a5d-0fed9afc6ef6",
   "metadata": {},
   "outputs": [
    {
     "data": {
      "text/plain": [
       "[(27,), (35,), (22,), (31,), (42,), (102,)]"
      ]
     },
     "execution_count": 60,
     "metadata": {},
     "output_type": "execute_result"
    }
   ],
   "source": [
    "titanicdb.execute(\n",
    "    \"\"\"with const as (\n",
    "        select Count(*) as c from titanic where survived = 1\n",
    "    )\n",
    "    select Count(survived)*100/c\n",
    "    FROM titanic, const\n",
    "    GROUP BY PClass, Sex\"\"\")"
   ]
  },
  {
   "cell_type": "code",
   "execution_count": 18,
   "id": "d2056dd3-b450-4fb0-9a51-1ef9ff49f00c",
   "metadata": {},
   "outputs": [
    {
     "data": {
      "text/plain": [
       "[(214,), (184,), (491,)]"
      ]
     },
     "execution_count": 18,
     "metadata": {},
     "output_type": "execute_result"
    }
   ],
   "source": [
    "titanicdb.execute(\n",
    "    \"\"\"select Count(*) from titanic group by pclass\"\"\")"
   ]
  },
  {
   "cell_type": "code",
   "execution_count": 19,
   "id": "c6cf32e1-d3ce-4e4e-b2ed-8b4cb5b68812",
   "metadata": {},
   "outputs": [
    {
     "name": "stdout",
     "output_type": "stream",
     "text": [
      " * sqlite:///data/titanic.db\n",
      "Done.\n"
     ]
    },
    {
     "data": {
      "text/html": [
       "<table>\n",
       "    <tr>\n",
       "        <th>Count(*)</th>\n",
       "    </tr>\n",
       "    <tr>\n",
       "        <td>214</td>\n",
       "    </tr>\n",
       "    <tr>\n",
       "        <td>184</td>\n",
       "    </tr>\n",
       "    <tr>\n",
       "        <td>491</td>\n",
       "    </tr>\n",
       "</table>"
      ],
      "text/plain": [
       "[(214,), (184,), (491,)]"
      ]
     },
     "execution_count": 19,
     "metadata": {},
     "output_type": "execute_result"
    }
   ],
   "source": [
    "%sql select Count(*) from titanic group by pclass"
   ]
  },
  {
   "cell_type": "code",
   "execution_count": 28,
   "id": "80059f04-797c-4738-b626-4ac509df231c",
   "metadata": {},
   "outputs": [
    {
     "name": "stdout",
     "output_type": "stream",
     "text": [
      " * sqlite:///data/titanic.db\n",
      "Done.\n"
     ]
    },
    {
     "data": {
      "text/html": [
       "<table>\n",
       "    <tr>\n",
       "        <th>Pclass</th>\n",
       "        <th>Sex</th>\n",
       "        <th>(select Count(*) from titanic group by PClass) / 1</th>\n",
       "    </tr>\n",
       "    <tr>\n",
       "        <td>1</td>\n",
       "        <td>female</td>\n",
       "        <td>214</td>\n",
       "    </tr>\n",
       "    <tr>\n",
       "        <td>1</td>\n",
       "        <td>male</td>\n",
       "        <td>214</td>\n",
       "    </tr>\n",
       "    <tr>\n",
       "        <td>2</td>\n",
       "        <td>female</td>\n",
       "        <td>214</td>\n",
       "    </tr>\n",
       "    <tr>\n",
       "        <td>2</td>\n",
       "        <td>male</td>\n",
       "        <td>214</td>\n",
       "    </tr>\n",
       "    <tr>\n",
       "        <td>3</td>\n",
       "        <td>female</td>\n",
       "        <td>214</td>\n",
       "    </tr>\n",
       "    <tr>\n",
       "        <td>3</td>\n",
       "        <td>male</td>\n",
       "        <td>214</td>\n",
       "    </tr>\n",
       "</table>"
      ],
      "text/plain": [
       "[('1', 'female', 214),\n",
       " ('1', 'male', 214),\n",
       " ('2', 'female', 214),\n",
       " ('2', 'male', 214),\n",
       " ('3', 'female', 214),\n",
       " ('3', 'male', 214)]"
      ]
     },
     "execution_count": 28,
     "metadata": {},
     "output_type": "execute_result"
    }
   ],
   "source": [
    "%%sql select PClass, Sex, (select Count(*) from titanic group by PClass) / 1 FROM titanic\n",
    "GROUP BY PClass, Sex"
   ]
  },
  {
   "cell_type": "code",
   "execution_count": 33,
   "id": "2d191f8b-5c13-48db-a7a7-0bac6016e4c7",
   "metadata": {},
   "outputs": [
    {
     "name": "stdout",
     "output_type": "stream",
     "text": [
      " * sqlite:///data/titanic.db\n",
      "Done.\n"
     ]
    },
    {
     "data": {
      "text/html": [
       "<table>\n",
       "    <tr>\n",
       "        <th>Pclass</th>\n",
       "        <th>Sex</th>\n",
       "        <th>AVG(Survived)*100</th>\n",
       "    </tr>\n",
       "    <tr>\n",
       "        <td>1</td>\n",
       "        <td>female</td>\n",
       "        <td>96.73913043478261</td>\n",
       "    </tr>\n",
       "    <tr>\n",
       "        <td>1</td>\n",
       "        <td>male</td>\n",
       "        <td>36.885245901639344</td>\n",
       "    </tr>\n",
       "    <tr>\n",
       "        <td>2</td>\n",
       "        <td>female</td>\n",
       "        <td>92.10526315789474</td>\n",
       "    </tr>\n",
       "    <tr>\n",
       "        <td>2</td>\n",
       "        <td>male</td>\n",
       "        <td>15.74074074074074</td>\n",
       "    </tr>\n",
       "    <tr>\n",
       "        <td>3</td>\n",
       "        <td>female</td>\n",
       "        <td>50.0</td>\n",
       "    </tr>\n",
       "    <tr>\n",
       "        <td>3</td>\n",
       "        <td>male</td>\n",
       "        <td>13.544668587896252</td>\n",
       "    </tr>\n",
       "</table>"
      ],
      "text/plain": [
       "[('1', 'female', 96.73913043478261),\n",
       " ('1', 'male', 36.885245901639344),\n",
       " ('2', 'female', 92.10526315789474),\n",
       " ('2', 'male', 15.74074074074074),\n",
       " ('3', 'female', 50.0),\n",
       " ('3', 'male', 13.544668587896252)]"
      ]
     },
     "execution_count": 33,
     "metadata": {},
     "output_type": "execute_result"
    }
   ],
   "source": [
    "%sql SELECT Pclass,Sex, AVG(Survived)*100 FROM titanic GROUP BY Pclass, Sex"
   ]
  },
  {
   "cell_type": "code",
   "execution_count": 29,
   "id": "5f493ff6-ea8d-4a99-8c81-9a428b54cfea",
   "metadata": {},
   "outputs": [
    {
     "name": "stdout",
     "output_type": "stream",
     "text": [
      " * sqlite:///data/titanic.db\n",
      "Done.\n"
     ]
    },
    {
     "data": {
      "text/html": [
       "<table>\n",
       "    <tr>\n",
       "        <th>Pclass</th>\n",
       "        <th>Sex</th>\n",
       "        <th>Count(survived)</th>\n",
       "        <th>(select Count(*) from titanic group by pclass)</th>\n",
       "    </tr>\n",
       "    <tr>\n",
       "        <td>1</td>\n",
       "        <td>female</td>\n",
       "        <td>92</td>\n",
       "        <td>214</td>\n",
       "    </tr>\n",
       "    <tr>\n",
       "        <td>1</td>\n",
       "        <td>male</td>\n",
       "        <td>122</td>\n",
       "        <td>214</td>\n",
       "    </tr>\n",
       "    <tr>\n",
       "        <td>2</td>\n",
       "        <td>female</td>\n",
       "        <td>76</td>\n",
       "        <td>214</td>\n",
       "    </tr>\n",
       "    <tr>\n",
       "        <td>2</td>\n",
       "        <td>male</td>\n",
       "        <td>108</td>\n",
       "        <td>214</td>\n",
       "    </tr>\n",
       "    <tr>\n",
       "        <td>3</td>\n",
       "        <td>female</td>\n",
       "        <td>144</td>\n",
       "        <td>214</td>\n",
       "    </tr>\n",
       "    <tr>\n",
       "        <td>3</td>\n",
       "        <td>male</td>\n",
       "        <td>347</td>\n",
       "        <td>214</td>\n",
       "    </tr>\n",
       "</table>"
      ],
      "text/plain": [
       "[('1', 'female', 92, 214),\n",
       " ('1', 'male', 122, 214),\n",
       " ('2', 'female', 76, 214),\n",
       " ('2', 'male', 108, 214),\n",
       " ('3', 'female', 144, 214),\n",
       " ('3', 'male', 347, 214)]"
      ]
     },
     "execution_count": 29,
     "metadata": {},
     "output_type": "execute_result"
    }
   ],
   "source": [
    "%%sql\n",
    "SELECT PClass, Sex, Count(survived), (select Count(*) from titanic group by pclass)\n",
    "FROM titanic GROUP BY PClass, Sex"
   ]
  },
  {
   "cell_type": "code",
   "execution_count": 18,
   "id": "ad400fd8-8f45-4230-baed-d674e6f5ffc2",
   "metadata": {},
   "outputs": [
    {
     "name": "stdout",
     "output_type": "stream",
     "text": [
      " * sqlite:///data/titanic.db\n",
      "Done.\n"
     ]
    },
    {
     "data": {
      "text/html": [
       "<table>\n",
       "    <tr>\n",
       "        <th>Count(*)</th>\n",
       "    </tr>\n",
       "    <tr>\n",
       "        <td>214</td>\n",
       "    </tr>\n",
       "    <tr>\n",
       "        <td>184</td>\n",
       "    </tr>\n",
       "    <tr>\n",
       "        <td>491</td>\n",
       "    </tr>\n",
       "</table>"
      ],
      "text/plain": [
       "[(214,), (184,), (491,)]"
      ]
     },
     "execution_count": 18,
     "metadata": {},
     "output_type": "execute_result"
    }
   ],
   "source": [
    "%sql select Count(*) from titanic group by pclass"
   ]
  },
  {
   "cell_type": "code",
   "execution_count": 19,
   "id": "4d34bf9d-c1dc-411c-867c-7a97e219db7b",
   "metadata": {},
   "outputs": [
    {
     "name": "stdout",
     "output_type": "stream",
     "text": [
      " * sqlite:///data/titanic.db\n",
      "Done.\n"
     ]
    },
    {
     "data": {
      "text/html": [
       "<table>\n",
       "    <tr>\n",
       "        <th>Pclass</th>\n",
       "        <th>Sex</th>\n",
       "        <th>survived [%]</th>\n",
       "    </tr>\n",
       "    <tr>\n",
       "        <td>1</td>\n",
       "        <td>female</td>\n",
       "        <td>96</td>\n",
       "    </tr>\n",
       "    <tr>\n",
       "        <td>1</td>\n",
       "        <td>male</td>\n",
       "        <td>36</td>\n",
       "    </tr>\n",
       "    <tr>\n",
       "        <td>2</td>\n",
       "        <td>female</td>\n",
       "        <td>92</td>\n",
       "    </tr>\n",
       "    <tr>\n",
       "        <td>2</td>\n",
       "        <td>male</td>\n",
       "        <td>15</td>\n",
       "    </tr>\n",
       "    <tr>\n",
       "        <td>3</td>\n",
       "        <td>female</td>\n",
       "        <td>50</td>\n",
       "    </tr>\n",
       "    <tr>\n",
       "        <td>3</td>\n",
       "        <td>male</td>\n",
       "        <td>13</td>\n",
       "    </tr>\n",
       "</table>"
      ],
      "text/plain": [
       "[('1', 'female', 96),\n",
       " ('1', 'male', 36),\n",
       " ('2', 'female', 92),\n",
       " ('2', 'male', 15),\n",
       " ('3', 'female', 50),\n",
       " ('3', 'male', 13)]"
      ]
     },
     "execution_count": 19,
     "metadata": {},
     "output_type": "execute_result"
    }
   ],
   "source": [
    "%%sql \n",
    "SELECT PClass, Sex, (sum(survived)*100)/Count(survived) as \"survived [%]\"\n",
    "FROM titanic \n",
    "GROUP BY PClass, Sex"
   ]
  },
  {
   "cell_type": "code",
   "execution_count": 50,
   "id": "5a5224f0-bf1e-4fd4-9b29-9e73e9df5f70",
   "metadata": {},
   "outputs": [
    {
     "name": "stdout",
     "output_type": "stream",
     "text": [
      " * sqlite:///data/titanic.db\n",
      "Done.\n"
     ]
    },
    {
     "data": {
      "text/html": [
       "<table>\n",
       "    <tr>\n",
       "        <th>Pclass</th>\n",
       "        <th>Sex</th>\n",
       "        <th>100*count(Survived)/cast(sum(count(*)) over() as float)</th>\n",
       "    </tr>\n",
       "    <tr>\n",
       "        <td>1</td>\n",
       "        <td>female</td>\n",
       "        <td>26.176470588235293</td>\n",
       "    </tr>\n",
       "    <tr>\n",
       "        <td>1</td>\n",
       "        <td>male</td>\n",
       "        <td>13.235294117647058</td>\n",
       "    </tr>\n",
       "    <tr>\n",
       "        <td>2</td>\n",
       "        <td>female</td>\n",
       "        <td>20.58823529411765</td>\n",
       "    </tr>\n",
       "    <tr>\n",
       "        <td>2</td>\n",
       "        <td>male</td>\n",
       "        <td>5.0</td>\n",
       "    </tr>\n",
       "    <tr>\n",
       "        <td>3</td>\n",
       "        <td>female</td>\n",
       "        <td>21.176470588235293</td>\n",
       "    </tr>\n",
       "    <tr>\n",
       "        <td>3</td>\n",
       "        <td>male</td>\n",
       "        <td>13.823529411764707</td>\n",
       "    </tr>\n",
       "</table>"
      ],
      "text/plain": [
       "[('1', 'female', 26.176470588235293),\n",
       " ('1', 'male', 13.235294117647058),\n",
       " ('2', 'female', 20.58823529411765),\n",
       " ('2', 'male', 5.0),\n",
       " ('3', 'female', 21.176470588235293),\n",
       " ('3', 'male', 13.823529411764707)]"
      ]
     },
     "execution_count": 50,
     "metadata": {},
     "output_type": "execute_result"
    }
   ],
   "source": [
    "%%sql SELECT Pclass, Sex, 100*count(Survived)/cast(sum(count(*)) over() as float)\n",
    "FROM titanic \n",
    "WHERE Survived = 1 \n",
    "GROUP BY Pclass , Sex"
   ]
  },
  {
   "cell_type": "code",
   "execution_count": 35,
   "id": "95191d01-3acc-454b-aec3-9c53fb47b13a",
   "metadata": {},
   "outputs": [
    {
     "name": "stdout",
     "output_type": "stream",
     "text": [
      " * sqlite:///data/titanic.db\n",
      "Done.\n",
      "Returning data to local variable res\n"
     ]
    }
   ],
   "source": [
    "%%sql res << SELECT Pclass, Sex, count(Survived), sum(count(*)) over(), count(Survived) over()\n",
    "FROM titanic \n",
    "WHERE Survived = 1 \n",
    "GROUP BY Pclass , Sex"
   ]
  },
  {
   "cell_type": "code",
   "execution_count": 42,
   "id": "b9c531f0-cea1-4512-aa7d-e2c8a308582a",
   "metadata": {},
   "outputs": [],
   "source": [
    "res = titanicdb.pandas('''SELECT Pclass, Sex, count(Survived), sum(count(*)) over(), count(Survived) over()\n",
    "FROM titanic \n",
    "WHERE Survived = 1 \n",
    "GROUP BY Pclass , Sex''')"
   ]
  },
  {
   "cell_type": "code",
   "execution_count": 46,
   "id": "0ee1fd9f-075a-4fe4-8f41-d854e99c4317",
   "metadata": {},
   "outputs": [
    {
     "data": {
      "text/plain": [
       "340"
      ]
     },
     "execution_count": 46,
     "metadata": {},
     "output_type": "execute_result"
    }
   ],
   "source": [
    "res['count(Survived)'].sum()"
   ]
  },
  {
   "cell_type": "code",
   "execution_count": 53,
   "id": "1406ad53-8127-460c-9a7f-2a51dc879bd3",
   "metadata": {},
   "outputs": [
    {
     "name": "stdout",
     "output_type": "stream",
     "text": [
      " * sqlite:///data/titanic.db\n",
      "Done.\n",
      "Returning data to local variable res\n"
     ]
    }
   ],
   "source": [
    "%%sql res <<\n",
    "with surv_table as (\n",
    "    SELECT PClass, Sex, cast(count(*) over() as float) as ns FROM titanic where survived=1\n",
    ")\n",
    "SELECT PClass, Sex, (Count(*)*100)/ns as \"Percentage of Survivors [%]\"\n",
    "FROM surv_table \n",
    "GROUP BY PClass, Sex"
   ]
  },
  {
   "cell_type": "code",
   "execution_count": 55,
   "id": "78e488d4-5b87-4e7c-948d-fd8bd0d51e33",
   "metadata": {},
   "outputs": [
    {
     "name": "stdout",
     "output_type": "stream",
     "text": [
      " * sqlite:///data/titanic.db\n",
      "Done.\n"
     ]
    },
    {
     "data": {
      "text/html": [
       "<table>\n",
       "    <tr>\n",
       "        <th>a</th>\n",
       "        <th>b</th>\n",
       "    </tr>\n",
       "    <tr>\n",
       "        <td>120</td>\n",
       "        <td>100</td>\n",
       "    </tr>\n",
       "</table>"
      ],
      "text/plain": [
       "[(120, 100)]"
      ]
     },
     "execution_count": 55,
     "metadata": {},
     "output_type": "execute_result"
    }
   ],
   "source": [
    "%%sql\n",
    "with cons as (\n",
    "    select 120 as a, 100 as b\n",
    ")\n",
    "select a, b from cons"
   ]
  },
  {
   "cell_type": "code",
   "execution_count": 54,
   "id": "a699e7ec-eda2-4b01-b329-665df4437960",
   "metadata": {},
   "outputs": [
    {
     "data": {
      "text/html": [
       "<table>\n",
       "    <tr>\n",
       "        <th>PClass</th>\n",
       "        <th>Sex</th>\n",
       "        <th>Percentage of Survivors [%]</th>\n",
       "    </tr>\n",
       "    <tr>\n",
       "        <td>1</td>\n",
       "        <td>female</td>\n",
       "        <td>26.176470588235293</td>\n",
       "    </tr>\n",
       "    <tr>\n",
       "        <td>1</td>\n",
       "        <td>male</td>\n",
       "        <td>13.235294117647058</td>\n",
       "    </tr>\n",
       "    <tr>\n",
       "        <td>2</td>\n",
       "        <td>female</td>\n",
       "        <td>20.58823529411765</td>\n",
       "    </tr>\n",
       "    <tr>\n",
       "        <td>2</td>\n",
       "        <td>male</td>\n",
       "        <td>5.0</td>\n",
       "    </tr>\n",
       "    <tr>\n",
       "        <td>3</td>\n",
       "        <td>female</td>\n",
       "        <td>21.176470588235293</td>\n",
       "    </tr>\n",
       "    <tr>\n",
       "        <td>3</td>\n",
       "        <td>male</td>\n",
       "        <td>13.823529411764707</td>\n",
       "    </tr>\n",
       "</table>"
      ],
      "text/plain": [
       "[('1', 'female', 26.176470588235293),\n",
       " ('1', 'male', 13.235294117647058),\n",
       " ('2', 'female', 20.58823529411765),\n",
       " ('2', 'male', 5.0),\n",
       " ('3', 'female', 21.176470588235293),\n",
       " ('3', 'male', 13.823529411764707)]"
      ]
     },
     "execution_count": 54,
     "metadata": {},
     "output_type": "execute_result"
    }
   ],
   "source": [
    "res"
   ]
  },
  {
   "cell_type": "code",
   "execution_count": 65,
   "id": "2b53aa58-66ce-4942-b1ad-b536f639d041",
   "metadata": {},
   "outputs": [
    {
     "data": {
      "text/plain": [
       "PClass                                                 112233\n",
       "Sex                            femalemalefemalemalefemalemale\n",
       "Percentage of Survivors [%]                             100.0\n",
       "dtype: object"
      ]
     },
     "execution_count": 65,
     "metadata": {},
     "output_type": "execute_result"
    }
   ],
   "source": [
    "res = pd.DataFrame(res)\n",
    "res.sum()"
   ]
  },
  {
   "cell_type": "code",
   "execution_count": 66,
   "id": "e7fcc471-37f0-44e4-a411-818d3a3318a7",
   "metadata": {},
   "outputs": [
    {
     "data": {
      "text/html": [
       "<div>\n",
       "<style scoped>\n",
       "    .dataframe tbody tr th:only-of-type {\n",
       "        vertical-align: middle;\n",
       "    }\n",
       "\n",
       "    .dataframe tbody tr th {\n",
       "        vertical-align: top;\n",
       "    }\n",
       "\n",
       "    .dataframe thead th {\n",
       "        text-align: right;\n",
       "    }\n",
       "</style>\n",
       "<table border=\"1\" class=\"dataframe\">\n",
       "  <thead>\n",
       "    <tr style=\"text-align: right;\">\n",
       "      <th></th>\n",
       "      <th>PClass</th>\n",
       "      <th>Sex</th>\n",
       "      <th>Percentage of Survivors [%]</th>\n",
       "    </tr>\n",
       "  </thead>\n",
       "  <tbody>\n",
       "    <tr>\n",
       "      <th>0</th>\n",
       "      <td>1</td>\n",
       "      <td>female</td>\n",
       "      <td>26.176471</td>\n",
       "    </tr>\n",
       "    <tr>\n",
       "      <th>1</th>\n",
       "      <td>1</td>\n",
       "      <td>male</td>\n",
       "      <td>13.235294</td>\n",
       "    </tr>\n",
       "    <tr>\n",
       "      <th>2</th>\n",
       "      <td>2</td>\n",
       "      <td>female</td>\n",
       "      <td>20.588235</td>\n",
       "    </tr>\n",
       "    <tr>\n",
       "      <th>3</th>\n",
       "      <td>2</td>\n",
       "      <td>male</td>\n",
       "      <td>5.000000</td>\n",
       "    </tr>\n",
       "    <tr>\n",
       "      <th>4</th>\n",
       "      <td>3</td>\n",
       "      <td>female</td>\n",
       "      <td>21.176471</td>\n",
       "    </tr>\n",
       "    <tr>\n",
       "      <th>5</th>\n",
       "      <td>3</td>\n",
       "      <td>male</td>\n",
       "      <td>13.823529</td>\n",
       "    </tr>\n",
       "  </tbody>\n",
       "</table>\n",
       "</div>"
      ],
      "text/plain": [
       "  PClass     Sex  Percentage of Survivors [%]\n",
       "0      1  female                    26.176471\n",
       "1      1    male                    13.235294\n",
       "2      2  female                    20.588235\n",
       "3      2    male                     5.000000\n",
       "4      3  female                    21.176471\n",
       "5      3    male                    13.823529"
      ]
     },
     "execution_count": 66,
     "metadata": {},
     "output_type": "execute_result"
    }
   ],
   "source": [
    "res"
   ]
  },
  {
   "cell_type": "code",
   "execution_count": 108,
   "id": "d404489b-1f70-4e3b-875c-e9c3e90f547f",
   "metadata": {},
   "outputs": [
    {
     "data": {
      "text/plain": [
       "Pclass  Sex   \n",
       "1       female    0.103487\n",
       "        male      0.137233\n",
       "2       female    0.085489\n",
       "        male      0.121485\n",
       "3       female    0.161980\n",
       "        male      0.390326\n",
       "Name: Survived, dtype: float64"
      ]
     },
     "execution_count": 108,
     "metadata": {},
     "output_type": "execute_result"
    }
   ],
   "source": [
    "a = df.groupby(['Pclass','Sex']).Survived.count()/df.Pclass.count()\n",
    "a"
   ]
  },
  {
   "cell_type": "code",
   "execution_count": 109,
   "id": "ab8f0527-5bc1-437e-a4e7-f12e42b35bb5",
   "metadata": {},
   "outputs": [
    {
     "data": {
      "text/plain": [
       "1.0"
      ]
     },
     "execution_count": 109,
     "metadata": {},
     "output_type": "execute_result"
    }
   ],
   "source": [
    "a.sum()"
   ]
  },
  {
   "cell_type": "code",
   "execution_count": 111,
   "id": "26b72673-45ed-4a1e-bec4-5f676a6bd909",
   "metadata": {},
   "outputs": [],
   "source": [
    "df.Survived = df.Survived.astype('int')"
   ]
  },
  {
   "cell_type": "code",
   "execution_count": 112,
   "id": "2688d53c-fefb-4bbd-b419-1a593bec1530",
   "metadata": {},
   "outputs": [
    {
     "data": {
      "text/plain": [
       "Pclass  Sex   \n",
       "1       female    0.100112\n",
       "        male      0.050619\n",
       "2       female    0.078740\n",
       "        male      0.019123\n",
       "3       female    0.080990\n",
       "        male      0.052868\n",
       "Name: Survived, dtype: float64"
      ]
     },
     "execution_count": 112,
     "metadata": {},
     "output_type": "execute_result"
    }
   ],
   "source": [
    "a = df.groupby(['Pclass','Sex']).Survived.sum()/df.Pclass.count()\n",
    "a"
   ]
  },
  {
   "cell_type": "code",
   "execution_count": 113,
   "id": "4e6423c2-0f01-4c05-b0ea-715e1abc5e7e",
   "metadata": {},
   "outputs": [
    {
     "data": {
      "text/plain": [
       "0.3824521934758155"
      ]
     },
     "execution_count": 113,
     "metadata": {},
     "output_type": "execute_result"
    }
   ],
   "source": [
    "a.sum()"
   ]
  },
  {
   "cell_type": "markdown",
   "id": "f77cc739",
   "metadata": {},
   "source": [
    "c. What is the average age of all the passenger (survived and not survived)? Group the data by `Pclass`, `Sex`, `Survived`. After that use `seaborn` to generate a line plot to show average age vs pclass, facet by sex and color it by survived."
   ]
  },
  {
   "cell_type": "code",
   "execution_count": 20,
   "id": "f725517d-7465-4a68-ba2f-ff80e6afd651",
   "metadata": {},
   "outputs": [
    {
     "name": "stdout",
     "output_type": "stream",
     "text": [
      " * sqlite:///data/titanic.db\n",
      "Done.\n",
      "Returning data to local variable result\n"
     ]
    }
   ],
   "source": [
    "%sql result << SELECT  PClass, Sex, survived,AVG(age) FROM titanic GROUP BY PClass, Sex, survived"
   ]
  },
  {
   "cell_type": "code",
   "execution_count": 21,
   "id": "945ca3ea-d0e5-4c69-be28-1b3482d9d865",
   "metadata": {},
   "outputs": [
    {
     "data": {
      "text/html": [
       "<table>\n",
       "    <tr>\n",
       "        <th>Pclass</th>\n",
       "        <th>Sex</th>\n",
       "        <th>Survived</th>\n",
       "        <th>AVG(age)</th>\n",
       "    </tr>\n",
       "    <tr>\n",
       "        <td>1</td>\n",
       "        <td>female</td>\n",
       "        <td>0</td>\n",
       "        <td>25.666666666666668</td>\n",
       "    </tr>\n",
       "    <tr>\n",
       "        <td>1</td>\n",
       "        <td>female</td>\n",
       "        <td>1</td>\n",
       "        <td>34.5625</td>\n",
       "    </tr>\n",
       "    <tr>\n",
       "        <td>1</td>\n",
       "        <td>male</td>\n",
       "        <td>0</td>\n",
       "        <td>44.58196721311475</td>\n",
       "    </tr>\n",
       "    <tr>\n",
       "        <td>1</td>\n",
       "        <td>male</td>\n",
       "        <td>1</td>\n",
       "        <td>36.248000000000005</td>\n",
       "    </tr>\n",
       "    <tr>\n",
       "        <td>2</td>\n",
       "        <td>female</td>\n",
       "        <td>0</td>\n",
       "        <td>36.0</td>\n",
       "    </tr>\n",
       "    <tr>\n",
       "        <td>2</td>\n",
       "        <td>female</td>\n",
       "        <td>1</td>\n",
       "        <td>28.080882352941178</td>\n",
       "    </tr>\n",
       "    <tr>\n",
       "        <td>2</td>\n",
       "        <td>male</td>\n",
       "        <td>0</td>\n",
       "        <td>33.36904761904762</td>\n",
       "    </tr>\n",
       "    <tr>\n",
       "        <td>2</td>\n",
       "        <td>male</td>\n",
       "        <td>1</td>\n",
       "        <td>16.022</td>\n",
       "    </tr>\n",
       "    <tr>\n",
       "        <td>3</td>\n",
       "        <td>female</td>\n",
       "        <td>0</td>\n",
       "        <td>23.818181818181817</td>\n",
       "    </tr>\n",
       "    <tr>\n",
       "        <td>3</td>\n",
       "        <td>female</td>\n",
       "        <td>1</td>\n",
       "        <td>19.329787234042552</td>\n",
       "    </tr>\n",
       "    <tr>\n",
       "        <td>3</td>\n",
       "        <td>male</td>\n",
       "        <td>0</td>\n",
       "        <td>27.25581395348837</td>\n",
       "    </tr>\n",
       "    <tr>\n",
       "        <td>3</td>\n",
       "        <td>male</td>\n",
       "        <td>1</td>\n",
       "        <td>22.274210526315787</td>\n",
       "    </tr>\n",
       "</table>"
      ],
      "text/plain": [
       "[('1', 'female', '0', 25.666666666666668),\n",
       " ('1', 'female', '1', 34.5625),\n",
       " ('1', 'male', '0', 44.58196721311475),\n",
       " ('1', 'male', '1', 36.248000000000005),\n",
       " ('2', 'female', '0', 36.0),\n",
       " ('2', 'female', '1', 28.080882352941178),\n",
       " ('2', 'male', '0', 33.36904761904762),\n",
       " ('2', 'male', '1', 16.022),\n",
       " ('3', 'female', '0', 23.818181818181817),\n",
       " ('3', 'female', '1', 19.329787234042552),\n",
       " ('3', 'male', '0', 27.25581395348837),\n",
       " ('3', 'male', '1', 22.274210526315787)]"
      ]
     },
     "execution_count": 21,
     "metadata": {},
     "output_type": "execute_result"
    }
   ],
   "source": [
    "result"
   ]
  },
  {
   "cell_type": "code",
   "execution_count": 22,
   "id": "3c9347b2-eeab-4ac4-a6b6-0cc5bd634c3a",
   "metadata": {},
   "outputs": [
    {
     "data": {
      "text/plain": [
       "sql.run.ResultSet"
      ]
     },
     "execution_count": 22,
     "metadata": {},
     "output_type": "execute_result"
    }
   ],
   "source": [
    "type(result)"
   ]
  },
  {
   "cell_type": "code",
   "execution_count": 23,
   "id": "5814f595-8ee4-47b1-88de-dd64c9d36bdc",
   "metadata": {},
   "outputs": [
    {
     "data": {
      "text/html": [
       "<div>\n",
       "<style scoped>\n",
       "    .dataframe tbody tr th:only-of-type {\n",
       "        vertical-align: middle;\n",
       "    }\n",
       "\n",
       "    .dataframe tbody tr th {\n",
       "        vertical-align: top;\n",
       "    }\n",
       "\n",
       "    .dataframe thead th {\n",
       "        text-align: right;\n",
       "    }\n",
       "</style>\n",
       "<table border=\"1\" class=\"dataframe\">\n",
       "  <thead>\n",
       "    <tr style=\"text-align: right;\">\n",
       "      <th></th>\n",
       "      <th>Pclass</th>\n",
       "      <th>Sex</th>\n",
       "      <th>Survived</th>\n",
       "      <th>AVG(age)</th>\n",
       "    </tr>\n",
       "  </thead>\n",
       "  <tbody>\n",
       "    <tr>\n",
       "      <th>0</th>\n",
       "      <td>1</td>\n",
       "      <td>female</td>\n",
       "      <td>0</td>\n",
       "      <td>25.666667</td>\n",
       "    </tr>\n",
       "    <tr>\n",
       "      <th>1</th>\n",
       "      <td>1</td>\n",
       "      <td>female</td>\n",
       "      <td>1</td>\n",
       "      <td>34.562500</td>\n",
       "    </tr>\n",
       "    <tr>\n",
       "      <th>2</th>\n",
       "      <td>1</td>\n",
       "      <td>male</td>\n",
       "      <td>0</td>\n",
       "      <td>44.581967</td>\n",
       "    </tr>\n",
       "    <tr>\n",
       "      <th>3</th>\n",
       "      <td>1</td>\n",
       "      <td>male</td>\n",
       "      <td>1</td>\n",
       "      <td>36.248000</td>\n",
       "    </tr>\n",
       "    <tr>\n",
       "      <th>4</th>\n",
       "      <td>2</td>\n",
       "      <td>female</td>\n",
       "      <td>0</td>\n",
       "      <td>36.000000</td>\n",
       "    </tr>\n",
       "    <tr>\n",
       "      <th>5</th>\n",
       "      <td>2</td>\n",
       "      <td>female</td>\n",
       "      <td>1</td>\n",
       "      <td>28.080882</td>\n",
       "    </tr>\n",
       "    <tr>\n",
       "      <th>6</th>\n",
       "      <td>2</td>\n",
       "      <td>male</td>\n",
       "      <td>0</td>\n",
       "      <td>33.369048</td>\n",
       "    </tr>\n",
       "    <tr>\n",
       "      <th>7</th>\n",
       "      <td>2</td>\n",
       "      <td>male</td>\n",
       "      <td>1</td>\n",
       "      <td>16.022000</td>\n",
       "    </tr>\n",
       "    <tr>\n",
       "      <th>8</th>\n",
       "      <td>3</td>\n",
       "      <td>female</td>\n",
       "      <td>0</td>\n",
       "      <td>23.818182</td>\n",
       "    </tr>\n",
       "    <tr>\n",
       "      <th>9</th>\n",
       "      <td>3</td>\n",
       "      <td>female</td>\n",
       "      <td>1</td>\n",
       "      <td>19.329787</td>\n",
       "    </tr>\n",
       "    <tr>\n",
       "      <th>10</th>\n",
       "      <td>3</td>\n",
       "      <td>male</td>\n",
       "      <td>0</td>\n",
       "      <td>27.255814</td>\n",
       "    </tr>\n",
       "    <tr>\n",
       "      <th>11</th>\n",
       "      <td>3</td>\n",
       "      <td>male</td>\n",
       "      <td>1</td>\n",
       "      <td>22.274211</td>\n",
       "    </tr>\n",
       "  </tbody>\n",
       "</table>\n",
       "</div>"
      ],
      "text/plain": [
       "   Pclass     Sex Survived   AVG(age)\n",
       "0       1  female        0  25.666667\n",
       "1       1  female        1  34.562500\n",
       "2       1    male        0  44.581967\n",
       "3       1    male        1  36.248000\n",
       "4       2  female        0  36.000000\n",
       "5       2  female        1  28.080882\n",
       "6       2    male        0  33.369048\n",
       "7       2    male        1  16.022000\n",
       "8       3  female        0  23.818182\n",
       "9       3  female        1  19.329787\n",
       "10      3    male        0  27.255814\n",
       "11      3    male        1  22.274211"
      ]
     },
     "execution_count": 23,
     "metadata": {},
     "output_type": "execute_result"
    }
   ],
   "source": [
    "table = pd.DataFrame(result)\n",
    "table"
   ]
  },
  {
   "cell_type": "code",
   "execution_count": 24,
   "id": "8bd1e502",
   "metadata": {},
   "outputs": [
    {
     "data": {
      "text/plain": [
       "[('1', 'female', '0', 25.666666666666668),\n",
       " ('1', 'female', '1', 34.5625),\n",
       " ('1', 'male', '0', 44.58196721311475),\n",
       " ('1', 'male', '1', 36.248000000000005),\n",
       " ('2', 'female', '0', 36.0),\n",
       " ('2', 'female', '1', 28.080882352941178),\n",
       " ('2', 'male', '0', 33.36904761904762),\n",
       " ('2', 'male', '1', 16.022),\n",
       " ('3', 'female', '0', 23.818181818181817),\n",
       " ('3', 'female', '1', 19.329787234042552),\n",
       " ('3', 'male', '0', 27.25581395348837),\n",
       " ('3', 'male', '1', 22.274210526315787)]"
      ]
     },
     "execution_count": 24,
     "metadata": {},
     "output_type": "execute_result"
    }
   ],
   "source": [
    "result = titanicdb.execute(\"SELECT  PClass, Sex, survived,AVG(age) FROM titanic GROUP BY PClass, Sex, survived\")\n",
    "result"
   ]
  },
  {
   "cell_type": "code",
   "execution_count": 25,
   "id": "a7fb0aee-afdd-40c7-9fc2-87959408cd8b",
   "metadata": {},
   "outputs": [
    {
     "data": {
      "text/html": [
       "<div>\n",
       "<style scoped>\n",
       "    .dataframe tbody tr th:only-of-type {\n",
       "        vertical-align: middle;\n",
       "    }\n",
       "\n",
       "    .dataframe tbody tr th {\n",
       "        vertical-align: top;\n",
       "    }\n",
       "\n",
       "    .dataframe thead th {\n",
       "        text-align: right;\n",
       "    }\n",
       "</style>\n",
       "<table border=\"1\" class=\"dataframe\">\n",
       "  <thead>\n",
       "    <tr style=\"text-align: right;\">\n",
       "      <th></th>\n",
       "      <th>0</th>\n",
       "      <th>1</th>\n",
       "      <th>2</th>\n",
       "      <th>3</th>\n",
       "    </tr>\n",
       "  </thead>\n",
       "  <tbody>\n",
       "    <tr>\n",
       "      <th>0</th>\n",
       "      <td>1</td>\n",
       "      <td>female</td>\n",
       "      <td>0</td>\n",
       "      <td>25.666667</td>\n",
       "    </tr>\n",
       "    <tr>\n",
       "      <th>1</th>\n",
       "      <td>1</td>\n",
       "      <td>female</td>\n",
       "      <td>1</td>\n",
       "      <td>34.562500</td>\n",
       "    </tr>\n",
       "    <tr>\n",
       "      <th>2</th>\n",
       "      <td>1</td>\n",
       "      <td>male</td>\n",
       "      <td>0</td>\n",
       "      <td>44.581967</td>\n",
       "    </tr>\n",
       "    <tr>\n",
       "      <th>3</th>\n",
       "      <td>1</td>\n",
       "      <td>male</td>\n",
       "      <td>1</td>\n",
       "      <td>36.248000</td>\n",
       "    </tr>\n",
       "    <tr>\n",
       "      <th>4</th>\n",
       "      <td>2</td>\n",
       "      <td>female</td>\n",
       "      <td>0</td>\n",
       "      <td>36.000000</td>\n",
       "    </tr>\n",
       "    <tr>\n",
       "      <th>5</th>\n",
       "      <td>2</td>\n",
       "      <td>female</td>\n",
       "      <td>1</td>\n",
       "      <td>28.080882</td>\n",
       "    </tr>\n",
       "    <tr>\n",
       "      <th>6</th>\n",
       "      <td>2</td>\n",
       "      <td>male</td>\n",
       "      <td>0</td>\n",
       "      <td>33.369048</td>\n",
       "    </tr>\n",
       "    <tr>\n",
       "      <th>7</th>\n",
       "      <td>2</td>\n",
       "      <td>male</td>\n",
       "      <td>1</td>\n",
       "      <td>16.022000</td>\n",
       "    </tr>\n",
       "    <tr>\n",
       "      <th>8</th>\n",
       "      <td>3</td>\n",
       "      <td>female</td>\n",
       "      <td>0</td>\n",
       "      <td>23.818182</td>\n",
       "    </tr>\n",
       "    <tr>\n",
       "      <th>9</th>\n",
       "      <td>3</td>\n",
       "      <td>female</td>\n",
       "      <td>1</td>\n",
       "      <td>19.329787</td>\n",
       "    </tr>\n",
       "    <tr>\n",
       "      <th>10</th>\n",
       "      <td>3</td>\n",
       "      <td>male</td>\n",
       "      <td>0</td>\n",
       "      <td>27.255814</td>\n",
       "    </tr>\n",
       "    <tr>\n",
       "      <th>11</th>\n",
       "      <td>3</td>\n",
       "      <td>male</td>\n",
       "      <td>1</td>\n",
       "      <td>22.274211</td>\n",
       "    </tr>\n",
       "  </tbody>\n",
       "</table>\n",
       "</div>"
      ],
      "text/plain": [
       "    0       1  2          3\n",
       "0   1  female  0  25.666667\n",
       "1   1  female  1  34.562500\n",
       "2   1    male  0  44.581967\n",
       "3   1    male  1  36.248000\n",
       "4   2  female  0  36.000000\n",
       "5   2  female  1  28.080882\n",
       "6   2    male  0  33.369048\n",
       "7   2    male  1  16.022000\n",
       "8   3  female  0  23.818182\n",
       "9   3  female  1  19.329787\n",
       "10  3    male  0  27.255814\n",
       "11  3    male  1  22.274211"
      ]
     },
     "execution_count": 25,
     "metadata": {},
     "output_type": "execute_result"
    }
   ],
   "source": [
    "pd.DataFrame(result)"
   ]
  },
  {
   "cell_type": "code",
   "execution_count": 26,
   "id": "32ff4770-dc81-43bd-9531-ec63f0f930ac",
   "metadata": {},
   "outputs": [
    {
     "data": {
      "text/html": [
       "<div>\n",
       "<style scoped>\n",
       "    .dataframe tbody tr th:only-of-type {\n",
       "        vertical-align: middle;\n",
       "    }\n",
       "\n",
       "    .dataframe tbody tr th {\n",
       "        vertical-align: top;\n",
       "    }\n",
       "\n",
       "    .dataframe thead th {\n",
       "        text-align: right;\n",
       "    }\n",
       "</style>\n",
       "<table border=\"1\" class=\"dataframe\">\n",
       "  <thead>\n",
       "    <tr style=\"text-align: right;\">\n",
       "      <th></th>\n",
       "      <th>Pclass</th>\n",
       "      <th>Sex</th>\n",
       "      <th>Survived</th>\n",
       "      <th>AVG(age)</th>\n",
       "    </tr>\n",
       "  </thead>\n",
       "  <tbody>\n",
       "    <tr>\n",
       "      <th>0</th>\n",
       "      <td>1</td>\n",
       "      <td>female</td>\n",
       "      <td>0</td>\n",
       "      <td>25.666667</td>\n",
       "    </tr>\n",
       "    <tr>\n",
       "      <th>1</th>\n",
       "      <td>1</td>\n",
       "      <td>female</td>\n",
       "      <td>1</td>\n",
       "      <td>34.562500</td>\n",
       "    </tr>\n",
       "    <tr>\n",
       "      <th>2</th>\n",
       "      <td>1</td>\n",
       "      <td>male</td>\n",
       "      <td>0</td>\n",
       "      <td>44.581967</td>\n",
       "    </tr>\n",
       "    <tr>\n",
       "      <th>3</th>\n",
       "      <td>1</td>\n",
       "      <td>male</td>\n",
       "      <td>1</td>\n",
       "      <td>36.248000</td>\n",
       "    </tr>\n",
       "    <tr>\n",
       "      <th>4</th>\n",
       "      <td>2</td>\n",
       "      <td>female</td>\n",
       "      <td>0</td>\n",
       "      <td>36.000000</td>\n",
       "    </tr>\n",
       "    <tr>\n",
       "      <th>5</th>\n",
       "      <td>2</td>\n",
       "      <td>female</td>\n",
       "      <td>1</td>\n",
       "      <td>28.080882</td>\n",
       "    </tr>\n",
       "    <tr>\n",
       "      <th>6</th>\n",
       "      <td>2</td>\n",
       "      <td>male</td>\n",
       "      <td>0</td>\n",
       "      <td>33.369048</td>\n",
       "    </tr>\n",
       "    <tr>\n",
       "      <th>7</th>\n",
       "      <td>2</td>\n",
       "      <td>male</td>\n",
       "      <td>1</td>\n",
       "      <td>16.022000</td>\n",
       "    </tr>\n",
       "    <tr>\n",
       "      <th>8</th>\n",
       "      <td>3</td>\n",
       "      <td>female</td>\n",
       "      <td>0</td>\n",
       "      <td>23.818182</td>\n",
       "    </tr>\n",
       "    <tr>\n",
       "      <th>9</th>\n",
       "      <td>3</td>\n",
       "      <td>female</td>\n",
       "      <td>1</td>\n",
       "      <td>19.329787</td>\n",
       "    </tr>\n",
       "    <tr>\n",
       "      <th>10</th>\n",
       "      <td>3</td>\n",
       "      <td>male</td>\n",
       "      <td>0</td>\n",
       "      <td>27.255814</td>\n",
       "    </tr>\n",
       "    <tr>\n",
       "      <th>11</th>\n",
       "      <td>3</td>\n",
       "      <td>male</td>\n",
       "      <td>1</td>\n",
       "      <td>22.274211</td>\n",
       "    </tr>\n",
       "  </tbody>\n",
       "</table>\n",
       "</div>"
      ],
      "text/plain": [
       "   Pclass     Sex Survived   AVG(age)\n",
       "0       1  female        0  25.666667\n",
       "1       1  female        1  34.562500\n",
       "2       1    male        0  44.581967\n",
       "3       1    male        1  36.248000\n",
       "4       2  female        0  36.000000\n",
       "5       2  female        1  28.080882\n",
       "6       2    male        0  33.369048\n",
       "7       2    male        1  16.022000\n",
       "8       3  female        0  23.818182\n",
       "9       3  female        1  19.329787\n",
       "10      3    male        0  27.255814\n",
       "11      3    male        1  22.274211"
      ]
     },
     "execution_count": 26,
     "metadata": {},
     "output_type": "execute_result"
    }
   ],
   "source": [
    "table = titanicdb.pandas(\"SELECT  PClass, Sex, survived,AVG(age) FROM titanic GROUP BY PClass, Sex, survived\")\n",
    "table"
   ]
  },
  {
   "cell_type": "code",
   "execution_count": 28,
   "id": "8c0d3380-a0fe-48ae-82d3-a0c4633beba0",
   "metadata": {},
   "outputs": [
    {
     "data": {
      "image/png": "[encoded data removed]",
      "text/plain": [
       "<Figure size 771.875x360 with 2 Axes>"
      ]
     },
     "metadata": {
      "needs_background": "light"
     },
     "output_type": "display_data"
    }
   ],
   "source": [
    "ax = sns.relplot(data=table, x='Pclass', y='AVG(age)', hue='Survived', col='Sex', kind='line')"
   ]
  },
  {
   "cell_type": "markdown",
   "id": "e24606d4",
   "metadata": {},
   "source": [
    "d. What is the name, age, sex and pclass of the 5 oldest and 5 youngest persons who died?"
   ]
  },
  {
   "cell_type": "code",
   "execution_count": 38,
   "id": "6a766832-a5f2-4cf6-a17e-f9c845f0f9f1",
   "metadata": {},
   "outputs": [
    {
     "data": {
      "image/png": "[encoded data removed]",
      "text/plain": [
       "<Figure size 432x288 with 1 Axes>"
      ]
     },
     "metadata": {
      "needs_background": "light"
     },
     "output_type": "display_data"
    }
   ],
   "source": [
    "ax = sns.lineplot(x=\"Pclass\", y=\"AVG(age)\",\n",
    "             hue=\"Survived\", style=\"Sex\",\n",
    "             data=table)"
   ]
  },
  {
   "cell_type": "code",
   "execution_count": 29,
   "id": "61744459-2316-4dbf-b725-34e3ccf191b3",
   "metadata": {},
   "outputs": [
    {
     "data": {
      "text/plain": [
       "[('Barkworth, Mr. Algernon Henry Wilson', '80', 'male', '1'),\n",
       " ('Svensson, Mr. Johan', '74', 'male', '3'),\n",
       " ('Goldschmidt, Mr. George B', '71', 'male', '1'),\n",
       " ('Artagaveytia, Mr. Ramon', '71', 'male', '1'),\n",
       " ('Connors, Mr. Patrick', '70.5', 'male', '3')]"
      ]
     },
     "execution_count": 29,
     "metadata": {},
     "output_type": "execute_result"
    }
   ],
   "source": [
    "titanicdb.execute(\"SELECT  name, age, sex, pclass FROM titanic order by CAST(age as insigned) DESC limit 5\")"
   ]
  },
  {
   "cell_type": "code",
   "execution_count": 30,
   "id": "dd8e871f-9eba-4557-b7d4-2de4c2f0f29e",
   "metadata": {},
   "outputs": [
    {
     "data": {
      "text/plain": [
       "[('Thomas, Master. Assad Alexander', '0.42', 'male', '3'),\n",
       " ('Hamalainen, Master. Viljo', '0.67', 'male', '2'),\n",
       " ('Baclini, Miss. Helene Barbara', '0.75', 'female', '3'),\n",
       " ('Baclini, Miss. Eugenie', '0.75', 'female', '3'),\n",
       " ('Caldwell, Master. Alden Gates', '0.83', 'male', '2')]"
      ]
     },
     "execution_count": 30,
     "metadata": {},
     "output_type": "execute_result"
    }
   ],
   "source": [
    "titanicdb.execute(\"SELECT  name, age, sex, pclass FROM titanic where age is not NULL order by  CAST(age as insigned) ASC limit 5\")"
   ]
  },
  {
   "cell_type": "code",
   "execution_count": 69,
   "id": "df248812-88fd-4e67-b64f-0089e38d901d",
   "metadata": {},
   "outputs": [
    {
     "name": "stdout",
     "output_type": "stream",
     "text": [
      " * sqlite:///data/titanic.db\n",
      "Done.\n"
     ]
    },
    {
     "data": {
      "text/html": [
       "<table>\n",
       "    <tr>\n",
       "        <th>min(cast(age as FLOAT))</th>\n",
       "        <th>min(age)</th>\n",
       "        <th>min(cast(age as insigned))</th>\n",
       "    </tr>\n",
       "    <tr>\n",
       "        <td>0.42</td>\n",
       "        <td>0.42</td>\n",
       "        <td>0.42</td>\n",
       "    </tr>\n",
       "</table>"
      ],
      "text/plain": [
       "[(0.42, '0.42', 0.42)]"
      ]
     },
     "execution_count": 69,
     "metadata": {},
     "output_type": "execute_result"
    }
   ],
   "source": [
    "%sql SELECT  min(cast(age as FLOAT)), min(age), min(cast(age as insigned)) from titanic"
   ]
  },
  {
   "cell_type": "code",
   "execution_count": 70,
   "id": "f379ea30-315d-46a0-98e9-49c13a09aa6b",
   "metadata": {},
   "outputs": [
    {
     "name": "stdout",
     "output_type": "stream",
     "text": [
      " * sqlite:///data/titanic.db\n",
      "Done.\n"
     ]
    },
    {
     "data": {
      "text/html": [
       "<table>\n",
       "    <tr>\n",
       "        <th>min(cast(age as FLOAT))</th>\n",
       "        <th>min(age)</th>\n",
       "        <th>min(cast(age as insigned))</th>\n",
       "    </tr>\n",
       "    <tr>\n",
       "        <td>1.0</td>\n",
       "        <td>1</td>\n",
       "        <td>1</td>\n",
       "    </tr>\n",
       "</table>"
      ],
      "text/plain": [
       "[(1.0, '1', 1)]"
      ]
     },
     "execution_count": 70,
     "metadata": {},
     "output_type": "execute_result"
    }
   ],
   "source": [
    "%sql SELECT  min(cast(age as FLOAT)), min(age), min(cast(age as insigned)) from titanic where Survived=0"
   ]
  },
  {
   "cell_type": "code",
   "execution_count": 31,
   "id": "9e4398a4-816d-4991-8327-7c8d440a37be",
   "metadata": {},
   "outputs": [
    {
     "name": "stdout",
     "output_type": "stream",
     "text": [
      " * sqlite:///data/titanic.db\n",
      "Done.\n"
     ]
    },
    {
     "data": {
      "text/html": [
       "<table>\n",
       "    <tr>\n",
       "        <th>name</th>\n",
       "        <th>age</th>\n",
       "        <th>sex</th>\n",
       "        <th>pclass</th>\n",
       "    </tr>\n",
       "    <tr>\n",
       "        <td>Goodwin, Master. Sidney Leonard</td>\n",
       "        <td>1.0</td>\n",
       "        <td>male</td>\n",
       "        <td>3</td>\n",
       "    </tr>\n",
       "    <tr>\n",
       "        <td>Panula, Master. Eino Viljami</td>\n",
       "        <td>1.0</td>\n",
       "        <td>male</td>\n",
       "        <td>3</td>\n",
       "    </tr>\n",
       "    <tr>\n",
       "        <td>Andersson, Miss. Ellis Anna Maria</td>\n",
       "        <td>2.0</td>\n",
       "        <td>female</td>\n",
       "        <td>3</td>\n",
       "    </tr>\n",
       "    <tr>\n",
       "        <td>Palsson, Master. Gosta Leonard</td>\n",
       "        <td>2.0</td>\n",
       "        <td>male</td>\n",
       "        <td>3</td>\n",
       "    </tr>\n",
       "    <tr>\n",
       "        <td>Rice, Master. Eugene</td>\n",
       "        <td>2.0</td>\n",
       "        <td>male</td>\n",
       "        <td>3</td>\n",
       "    </tr>\n",
       "    <tr>\n",
       "        <td>Mitchell, Mr. Henry Michael</td>\n",
       "        <td>70.0</td>\n",
       "        <td>male</td>\n",
       "        <td>2</td>\n",
       "    </tr>\n",
       "    <tr>\n",
       "        <td>Connors, Mr. Patrick</td>\n",
       "        <td>70.5</td>\n",
       "        <td>male</td>\n",
       "        <td>3</td>\n",
       "    </tr>\n",
       "    <tr>\n",
       "        <td>Artagaveytia, Mr. Ramon</td>\n",
       "        <td>71.0</td>\n",
       "        <td>male</td>\n",
       "        <td>1</td>\n",
       "    </tr>\n",
       "    <tr>\n",
       "        <td>Goldschmidt, Mr. George B</td>\n",
       "        <td>71.0</td>\n",
       "        <td>male</td>\n",
       "        <td>1</td>\n",
       "    </tr>\n",
       "    <tr>\n",
       "        <td>Svensson, Mr. Johan</td>\n",
       "        <td>74.0</td>\n",
       "        <td>male</td>\n",
       "        <td>3</td>\n",
       "    </tr>\n",
       "</table>"
      ],
      "text/plain": [
       "[('Goodwin, Master. Sidney Leonard', 1.0, 'male', '3'),\n",
       " ('Panula, Master. Eino Viljami', 1.0, 'male', '3'),\n",
       " ('Andersson, Miss. Ellis Anna Maria', 2.0, 'female', '3'),\n",
       " ('Palsson, Master. Gosta Leonard', 2.0, 'male', '3'),\n",
       " ('Rice, Master. Eugene', 2.0, 'male', '3'),\n",
       " ('Mitchell, Mr. Henry Michael', 70.0, 'male', '2'),\n",
       " ('Connors, Mr. Patrick', 70.5, 'male', '3'),\n",
       " ('Artagaveytia, Mr. Ramon', 71.0, 'male', '1'),\n",
       " ('Goldschmidt, Mr. George B', 71.0, 'male', '1'),\n",
       " ('Svensson, Mr. Johan', 74.0, 'male', '3')]"
      ]
     },
     "execution_count": 31,
     "metadata": {},
     "output_type": "execute_result"
    }
   ],
   "source": [
    "%%sql with died as (SELECT  name, cast(age as FLOAT) as age, sex, pclass FROM titanic where Survived=0 and age notnull),\n",
    "a as (SELECT  * FROM died order by age DESC limit 5),\n",
    "b as (SELECT  * FROM died order by age ASC  limit 5)\n",
    "select * from a\n",
    "UNION\n",
    "select * from b\n",
    "order by age"
   ]
  },
  {
   "cell_type": "code",
   "execution_count": 40,
   "id": "1b6ca844-d12f-4a32-9c13-982de6791769",
   "metadata": {},
   "outputs": [
    {
     "name": "stdout",
     "output_type": "stream",
     "text": [
      " * sqlite:///data/titanic.db\n",
      "Done.\n"
     ]
    },
    {
     "data": {
      "text/html": [
       "<table>\n",
       "    <tr>\n",
       "        <th>Name</th>\n",
       "        <th>Pclass</th>\n",
       "        <th>Sex</th>\n",
       "        <th>Survived</th>\n",
       "        <th>Age</th>\n",
       "        <th>Max(Age)</th>\n",
       "    </tr>\n",
       "    <tr>\n",
       "        <td>Isham, Miss. Ann Elizabeth</td>\n",
       "        <td>1</td>\n",
       "        <td>female</td>\n",
       "        <td>0</td>\n",
       "        <td>50</td>\n",
       "        <td>50</td>\n",
       "    </tr>\n",
       "    <tr>\n",
       "        <td>Goldschmidt, Mr. George B</td>\n",
       "        <td>1</td>\n",
       "        <td>male</td>\n",
       "        <td>0</td>\n",
       "        <td>71</td>\n",
       "        <td>71</td>\n",
       "    </tr>\n",
       "    <tr>\n",
       "        <td>Mack, Mrs. (Mary)</td>\n",
       "        <td>2</td>\n",
       "        <td>female</td>\n",
       "        <td>0</td>\n",
       "        <td>57</td>\n",
       "        <td>57</td>\n",
       "    </tr>\n",
       "    <tr>\n",
       "        <td>Mitchell, Mr. Henry Michael</td>\n",
       "        <td>2</td>\n",
       "        <td>male</td>\n",
       "        <td>0</td>\n",
       "        <td>70</td>\n",
       "        <td>70</td>\n",
       "    </tr>\n",
       "    <tr>\n",
       "        <td>Ford, Miss. Robina Maggie &quot;Ruby&quot;</td>\n",
       "        <td>3</td>\n",
       "        <td>female</td>\n",
       "        <td>0</td>\n",
       "        <td>9</td>\n",
       "        <td>9</td>\n",
       "    </tr>\n",
       "    <tr>\n",
       "        <td>Asplund, Master. Clarence Gustaf Hugo</td>\n",
       "        <td>3</td>\n",
       "        <td>male</td>\n",
       "        <td>0</td>\n",
       "        <td>9</td>\n",
       "        <td>9</td>\n",
       "    </tr>\n",
       "    <tr>\n",
       "        <td>Andrews, Miss. Kornelia Theodosia</td>\n",
       "        <td>1</td>\n",
       "        <td>female</td>\n",
       "        <td>1</td>\n",
       "        <td>63</td>\n",
       "        <td>63</td>\n",
       "    </tr>\n",
       "    <tr>\n",
       "        <td>Barkworth, Mr. Algernon Henry Wilson</td>\n",
       "        <td>1</td>\n",
       "        <td>male</td>\n",
       "        <td>1</td>\n",
       "        <td>80</td>\n",
       "        <td>80</td>\n",
       "    </tr>\n",
       "    <tr>\n",
       "        <td>Collyer, Miss. Marjorie &quot;Lottie&quot;</td>\n",
       "        <td>2</td>\n",
       "        <td>female</td>\n",
       "        <td>1</td>\n",
       "        <td>8</td>\n",
       "        <td>8</td>\n",
       "    </tr>\n",
       "    <tr>\n",
       "        <td>Davies, Master. John Morgan Jr</td>\n",
       "        <td>2</td>\n",
       "        <td>male</td>\n",
       "        <td>1</td>\n",
       "        <td>8</td>\n",
       "        <td>8</td>\n",
       "    </tr>\n",
       "    <tr>\n",
       "        <td>Turkula, Mrs. (Hedwig)</td>\n",
       "        <td>3</td>\n",
       "        <td>female</td>\n",
       "        <td>1</td>\n",
       "        <td>63</td>\n",
       "        <td>63</td>\n",
       "    </tr>\n",
       "    <tr>\n",
       "        <td>Goldsmith, Master. Frank John William &quot;Frankie&quot;</td>\n",
       "        <td>3</td>\n",
       "        <td>male</td>\n",
       "        <td>1</td>\n",
       "        <td>9</td>\n",
       "        <td>9</td>\n",
       "    </tr>\n",
       "</table>"
      ],
      "text/plain": [
       "[('Isham, Miss. Ann Elizabeth', '1', 'female', '0', '50', '50'),\n",
       " ('Goldschmidt, Mr. George B', '1', 'male', '0', '71', '71'),\n",
       " ('Mack, Mrs. (Mary)', '2', 'female', '0', '57', '57'),\n",
       " ('Mitchell, Mr. Henry Michael', '2', 'male', '0', '70', '70'),\n",
       " ('Ford, Miss. Robina Maggie \"Ruby\"', '3', 'female', '0', '9', '9'),\n",
       " ('Asplund, Master. Clarence Gustaf Hugo', '3', 'male', '0', '9', '9'),\n",
       " ('Andrews, Miss. Kornelia Theodosia', '1', 'female', '1', '63', '63'),\n",
       " ('Barkworth, Mr. Algernon Henry Wilson', '1', 'male', '1', '80', '80'),\n",
       " ('Collyer, Miss. Marjorie \"Lottie\"', '2', 'female', '1', '8', '8'),\n",
       " ('Davies, Master. John Morgan Jr', '2', 'male', '1', '8', '8'),\n",
       " ('Turkula, Mrs. (Hedwig)', '3', 'female', '1', '63', '63'),\n",
       " ('Goldsmith, Master. Frank John William \"Frankie\"', '3', 'male', '1', '9', '9')]"
      ]
     },
     "execution_count": 40,
     "metadata": {},
     "output_type": "execute_result"
    }
   ],
   "source": [
    "%sql SELECT Name,Pclass,Sex,Survived, Age, Max(Age) FROM titanic GROUP BY Survived,Pclass, Sex"
   ]
  },
  {
   "cell_type": "code",
   "execution_count": 44,
   "id": "a5d034ea-27a4-4886-af3b-7b5d5f9daa62",
   "metadata": {},
   "outputs": [
    {
     "name": "stdout",
     "output_type": "stream",
     "text": [
      " * sqlite:///data/titanic.db\n",
      "Done.\n"
     ]
    },
    {
     "data": {
      "text/html": [
       "<table>\n",
       "    <tr>\n",
       "        <th>Name</th>\n",
       "        <th>Pclass</th>\n",
       "        <th>Sex</th>\n",
       "        <th>Survived</th>\n",
       "        <th>Age</th>\n",
       "        <th>Min(Age)</th>\n",
       "        <th>Max(Age)</th>\n",
       "    </tr>\n",
       "    <tr>\n",
       "        <td>Isham, Miss. Ann Elizabeth</td>\n",
       "        <td>1</td>\n",
       "        <td>female</td>\n",
       "        <td>0</td>\n",
       "        <td>50</td>\n",
       "        <td>2</td>\n",
       "        <td>50</td>\n",
       "    </tr>\n",
       "    <tr>\n",
       "        <td>Goldschmidt, Mr. George B</td>\n",
       "        <td>1</td>\n",
       "        <td>male</td>\n",
       "        <td>0</td>\n",
       "        <td>71</td>\n",
       "        <td>18</td>\n",
       "        <td>71</td>\n",
       "    </tr>\n",
       "    <tr>\n",
       "        <td>Mack, Mrs. (Mary)</td>\n",
       "        <td>2</td>\n",
       "        <td>female</td>\n",
       "        <td>0</td>\n",
       "        <td>57</td>\n",
       "        <td>24</td>\n",
       "        <td>57</td>\n",
       "    </tr>\n",
       "    <tr>\n",
       "        <td>Mitchell, Mr. Henry Michael</td>\n",
       "        <td>2</td>\n",
       "        <td>male</td>\n",
       "        <td>0</td>\n",
       "        <td>70</td>\n",
       "        <td>16</td>\n",
       "        <td>70</td>\n",
       "    </tr>\n",
       "    <tr>\n",
       "        <td>Ford, Miss. Robina Maggie &quot;Ruby&quot;</td>\n",
       "        <td>3</td>\n",
       "        <td>female</td>\n",
       "        <td>0</td>\n",
       "        <td>9</td>\n",
       "        <td>10</td>\n",
       "        <td>9</td>\n",
       "    </tr>\n",
       "    <tr>\n",
       "        <td>Asplund, Master. Clarence Gustaf Hugo</td>\n",
       "        <td>3</td>\n",
       "        <td>male</td>\n",
       "        <td>0</td>\n",
       "        <td>9</td>\n",
       "        <td>1</td>\n",
       "        <td>9</td>\n",
       "    </tr>\n",
       "    <tr>\n",
       "        <td>Andrews, Miss. Kornelia Theodosia</td>\n",
       "        <td>1</td>\n",
       "        <td>female</td>\n",
       "        <td>1</td>\n",
       "        <td>63</td>\n",
       "        <td>14</td>\n",
       "        <td>63</td>\n",
       "    </tr>\n",
       "    <tr>\n",
       "        <td>Barkworth, Mr. Algernon Henry Wilson</td>\n",
       "        <td>1</td>\n",
       "        <td>male</td>\n",
       "        <td>1</td>\n",
       "        <td>80</td>\n",
       "        <td>0.92</td>\n",
       "        <td>80</td>\n",
       "    </tr>\n",
       "    <tr>\n",
       "        <td>Collyer, Miss. Marjorie &quot;Lottie&quot;</td>\n",
       "        <td>2</td>\n",
       "        <td>female</td>\n",
       "        <td>1</td>\n",
       "        <td>8</td>\n",
       "        <td>13</td>\n",
       "        <td>8</td>\n",
       "    </tr>\n",
       "    <tr>\n",
       "        <td>Davies, Master. John Morgan Jr</td>\n",
       "        <td>2</td>\n",
       "        <td>male</td>\n",
       "        <td>1</td>\n",
       "        <td>8</td>\n",
       "        <td>0.67</td>\n",
       "        <td>8</td>\n",
       "    </tr>\n",
       "    <tr>\n",
       "        <td>Turkula, Mrs. (Hedwig)</td>\n",
       "        <td>3</td>\n",
       "        <td>female</td>\n",
       "        <td>1</td>\n",
       "        <td>63</td>\n",
       "        <td>0.75</td>\n",
       "        <td>63</td>\n",
       "    </tr>\n",
       "    <tr>\n",
       "        <td>Goldsmith, Master. Frank John William &quot;Frankie&quot;</td>\n",
       "        <td>3</td>\n",
       "        <td>male</td>\n",
       "        <td>1</td>\n",
       "        <td>9</td>\n",
       "        <td>0.42</td>\n",
       "        <td>9</td>\n",
       "    </tr>\n",
       "</table>"
      ],
      "text/plain": [
       "[('Isham, Miss. Ann Elizabeth', '1', 'female', '0', '50', '2', '50'),\n",
       " ('Goldschmidt, Mr. George B', '1', 'male', '0', '71', '18', '71'),\n",
       " ('Mack, Mrs. (Mary)', '2', 'female', '0', '57', '24', '57'),\n",
       " ('Mitchell, Mr. Henry Michael', '2', 'male', '0', '70', '16', '70'),\n",
       " ('Ford, Miss. Robina Maggie \"Ruby\"', '3', 'female', '0', '9', '10', '9'),\n",
       " ('Asplund, Master. Clarence Gustaf Hugo', '3', 'male', '0', '9', '1', '9'),\n",
       " ('Andrews, Miss. Kornelia Theodosia', '1', 'female', '1', '63', '14', '63'),\n",
       " ('Barkworth, Mr. Algernon Henry Wilson', '1', 'male', '1', '80', '0.92', '80'),\n",
       " ('Collyer, Miss. Marjorie \"Lottie\"', '2', 'female', '1', '8', '13', '8'),\n",
       " ('Davies, Master. John Morgan Jr', '2', 'male', '1', '8', '0.67', '8'),\n",
       " ('Turkula, Mrs. (Hedwig)', '3', 'female', '1', '63', '0.75', '63'),\n",
       " ('Goldsmith, Master. Frank John William \"Frankie\"', '3', 'male', '1', '9', '0.42', '9')]"
      ]
     },
     "execution_count": 44,
     "metadata": {},
     "output_type": "execute_result"
    }
   ],
   "source": [
    "%sql SELECT name, Pclass,Sex,Survived, Age, Min(Age), Max(Age) FROM titanic GROUP BY Survived,Pclass, Sex"
   ]
  },
  {
   "cell_type": "code",
   "execution_count": 43,
   "id": "ead92686-69ed-4966-ab1c-39f7d8d965c9",
   "metadata": {},
   "outputs": [
    {
     "name": "stdout",
     "output_type": "stream",
     "text": [
      " * sqlite:///data/titanic.db\n",
      "Done.\n"
     ]
    },
    {
     "data": {
      "text/html": [
       "<table>\n",
       "    <tr>\n",
       "        <th>Name</th>\n",
       "        <th>Pclass</th>\n",
       "        <th>Sex</th>\n",
       "        <th>Survived</th>\n",
       "        <th>Age</th>\n",
       "        <th>Max(Age)</th>\n",
       "        <th>Min(Age)</th>\n",
       "    </tr>\n",
       "    <tr>\n",
       "        <td>Allison, Miss. Helen Loraine</td>\n",
       "        <td>1</td>\n",
       "        <td>female</td>\n",
       "        <td>0</td>\n",
       "        <td>2</td>\n",
       "        <td>50</td>\n",
       "        <td>2</td>\n",
       "    </tr>\n",
       "    <tr>\n",
       "        <td>Penasco y Castellana, Mr. Victor de Satode</td>\n",
       "        <td>1</td>\n",
       "        <td>male</td>\n",
       "        <td>0</td>\n",
       "        <td>18</td>\n",
       "        <td>71</td>\n",
       "        <td>18</td>\n",
       "    </tr>\n",
       "    <tr>\n",
       "        <td>Yrois, Miss. Henriette (&quot;Mrs Harbeck&quot;)</td>\n",
       "        <td>2</td>\n",
       "        <td>female</td>\n",
       "        <td>0</td>\n",
       "        <td>24</td>\n",
       "        <td>57</td>\n",
       "        <td>24</td>\n",
       "    </tr>\n",
       "    <tr>\n",
       "        <td>Gaskell, Mr. Alfred</td>\n",
       "        <td>2</td>\n",
       "        <td>male</td>\n",
       "        <td>0</td>\n",
       "        <td>16</td>\n",
       "        <td>70</td>\n",
       "        <td>16</td>\n",
       "    </tr>\n",
       "    <tr>\n",
       "        <td>Van Impe, Miss. Catharina</td>\n",
       "        <td>3</td>\n",
       "        <td>female</td>\n",
       "        <td>0</td>\n",
       "        <td>10</td>\n",
       "        <td>9</td>\n",
       "        <td>10</td>\n",
       "    </tr>\n",
       "    <tr>\n",
       "        <td>Panula, Master. Eino Viljami</td>\n",
       "        <td>3</td>\n",
       "        <td>male</td>\n",
       "        <td>0</td>\n",
       "        <td>1</td>\n",
       "        <td>9</td>\n",
       "        <td>1</td>\n",
       "    </tr>\n",
       "    <tr>\n",
       "        <td>Carter, Miss. Lucile Polk</td>\n",
       "        <td>1</td>\n",
       "        <td>female</td>\n",
       "        <td>1</td>\n",
       "        <td>14</td>\n",
       "        <td>63</td>\n",
       "        <td>14</td>\n",
       "    </tr>\n",
       "    <tr>\n",
       "        <td>Allison, Master. Hudson Trevor</td>\n",
       "        <td>1</td>\n",
       "        <td>male</td>\n",
       "        <td>1</td>\n",
       "        <td>0.92</td>\n",
       "        <td>80</td>\n",
       "        <td>0.92</td>\n",
       "    </tr>\n",
       "    <tr>\n",
       "        <td>Mellinger, Miss. Madeleine Violet</td>\n",
       "        <td>2</td>\n",
       "        <td>female</td>\n",
       "        <td>1</td>\n",
       "        <td>13</td>\n",
       "        <td>8</td>\n",
       "        <td>13</td>\n",
       "    </tr>\n",
       "    <tr>\n",
       "        <td>Hamalainen, Master. Viljo</td>\n",
       "        <td>2</td>\n",
       "        <td>male</td>\n",
       "        <td>1</td>\n",
       "        <td>0.67</td>\n",
       "        <td>8</td>\n",
       "        <td>0.67</td>\n",
       "    </tr>\n",
       "    <tr>\n",
       "        <td>Baclini, Miss. Helene Barbara</td>\n",
       "        <td>3</td>\n",
       "        <td>female</td>\n",
       "        <td>1</td>\n",
       "        <td>0.75</td>\n",
       "        <td>63</td>\n",
       "        <td>0.75</td>\n",
       "    </tr>\n",
       "    <tr>\n",
       "        <td>Thomas, Master. Assad Alexander</td>\n",
       "        <td>3</td>\n",
       "        <td>male</td>\n",
       "        <td>1</td>\n",
       "        <td>0.42</td>\n",
       "        <td>9</td>\n",
       "        <td>0.42</td>\n",
       "    </tr>\n",
       "</table>"
      ],
      "text/plain": [
       "[('Allison, Miss. Helen Loraine', '1', 'female', '0', '2', '50', '2'),\n",
       " ('Penasco y Castellana, Mr. Victor de Satode', '1', 'male', '0', '18', '71', '18'),\n",
       " ('Yrois, Miss. Henriette (\"Mrs Harbeck\")', '2', 'female', '0', '24', '57', '24'),\n",
       " ('Gaskell, Mr. Alfred', '2', 'male', '0', '16', '70', '16'),\n",
       " ('Van Impe, Miss. Catharina', '3', 'female', '0', '10', '9', '10'),\n",
       " ('Panula, Master. Eino Viljami', '3', 'male', '0', '1', '9', '1'),\n",
       " ('Carter, Miss. Lucile Polk', '1', 'female', '1', '14', '63', '14'),\n",
       " ('Allison, Master. Hudson Trevor', '1', 'male', '1', '0.92', '80', '0.92'),\n",
       " ('Mellinger, Miss. Madeleine Violet', '2', 'female', '1', '13', '8', '13'),\n",
       " ('Hamalainen, Master. Viljo', '2', 'male', '1', '0.67', '8', '0.67'),\n",
       " ('Baclini, Miss. Helene Barbara', '3', 'female', '1', '0.75', '63', '0.75'),\n",
       " ('Thomas, Master. Assad Alexander', '3', 'male', '1', '0.42', '9', '0.42')]"
      ]
     },
     "execution_count": 43,
     "metadata": {},
     "output_type": "execute_result"
    }
   ],
   "source": [
    "%sql SELECT name, Pclass,Sex,Survived, Age, Max(Age), Min(Age) FROM titanic GROUP BY Survived,Pclass, Sex"
   ]
  },
  {
   "cell_type": "code",
   "execution_count": 42,
   "id": "c05db764-e174-4b46-8dce-069f3562173f",
   "metadata": {},
   "outputs": [
    {
     "name": "stdout",
     "output_type": "stream",
     "text": [
      " * sqlite:///data/titanic.db\n",
      "Done.\n"
     ]
    },
    {
     "data": {
      "text/html": [
       "<table>\n",
       "    <tr>\n",
       "        <th>Pclass</th>\n",
       "        <th>Sex</th>\n",
       "        <th>Survived</th>\n",
       "        <th>Max(Age)</th>\n",
       "        <th>Min(Age)</th>\n",
       "    </tr>\n",
       "    <tr>\n",
       "        <td>1</td>\n",
       "        <td>female</td>\n",
       "        <td>0</td>\n",
       "        <td>50</td>\n",
       "        <td>2</td>\n",
       "    </tr>\n",
       "    <tr>\n",
       "        <td>1</td>\n",
       "        <td>male</td>\n",
       "        <td>0</td>\n",
       "        <td>71</td>\n",
       "        <td>18</td>\n",
       "    </tr>\n",
       "    <tr>\n",
       "        <td>2</td>\n",
       "        <td>female</td>\n",
       "        <td>0</td>\n",
       "        <td>57</td>\n",
       "        <td>24</td>\n",
       "    </tr>\n",
       "    <tr>\n",
       "        <td>2</td>\n",
       "        <td>male</td>\n",
       "        <td>0</td>\n",
       "        <td>70</td>\n",
       "        <td>16</td>\n",
       "    </tr>\n",
       "    <tr>\n",
       "        <td>3</td>\n",
       "        <td>female</td>\n",
       "        <td>0</td>\n",
       "        <td>9</td>\n",
       "        <td>10</td>\n",
       "    </tr>\n",
       "    <tr>\n",
       "        <td>3</td>\n",
       "        <td>male</td>\n",
       "        <td>0</td>\n",
       "        <td>9</td>\n",
       "        <td>1</td>\n",
       "    </tr>\n",
       "    <tr>\n",
       "        <td>1</td>\n",
       "        <td>female</td>\n",
       "        <td>1</td>\n",
       "        <td>63</td>\n",
       "        <td>14</td>\n",
       "    </tr>\n",
       "    <tr>\n",
       "        <td>1</td>\n",
       "        <td>male</td>\n",
       "        <td>1</td>\n",
       "        <td>80</td>\n",
       "        <td>0.92</td>\n",
       "    </tr>\n",
       "    <tr>\n",
       "        <td>2</td>\n",
       "        <td>female</td>\n",
       "        <td>1</td>\n",
       "        <td>8</td>\n",
       "        <td>13</td>\n",
       "    </tr>\n",
       "    <tr>\n",
       "        <td>2</td>\n",
       "        <td>male</td>\n",
       "        <td>1</td>\n",
       "        <td>8</td>\n",
       "        <td>0.67</td>\n",
       "    </tr>\n",
       "    <tr>\n",
       "        <td>3</td>\n",
       "        <td>female</td>\n",
       "        <td>1</td>\n",
       "        <td>63</td>\n",
       "        <td>0.75</td>\n",
       "    </tr>\n",
       "    <tr>\n",
       "        <td>3</td>\n",
       "        <td>male</td>\n",
       "        <td>1</td>\n",
       "        <td>9</td>\n",
       "        <td>0.42</td>\n",
       "    </tr>\n",
       "</table>"
      ],
      "text/plain": [
       "[('1', 'female', '0', '50', '2'),\n",
       " ('1', 'male', '0', '71', '18'),\n",
       " ('2', 'female', '0', '57', '24'),\n",
       " ('2', 'male', '0', '70', '16'),\n",
       " ('3', 'female', '0', '9', '10'),\n",
       " ('3', 'male', '0', '9', '1'),\n",
       " ('1', 'female', '1', '63', '14'),\n",
       " ('1', 'male', '1', '80', '0.92'),\n",
       " ('2', 'female', '1', '8', '13'),\n",
       " ('2', 'male', '1', '8', '0.67'),\n",
       " ('3', 'female', '1', '63', '0.75'),\n",
       " ('3', 'male', '1', '9', '0.42')]"
      ]
     },
     "execution_count": 42,
     "metadata": {},
     "output_type": "execute_result"
    }
   ],
   "source": [
    "%sql SELECT Pclass,Sex,Survived, Max(Age), Min(Age) FROM titanic GROUP BY Survived,Pclass, Sex"
   ]
  },
  {
   "cell_type": "markdown",
   "id": "33b27917",
   "metadata": {},
   "source": [
    "e. On average which Passenger Class is more expensive?"
   ]
  },
  {
   "cell_type": "code",
   "execution_count": 32,
   "id": "a482458e",
   "metadata": {},
   "outputs": [
    {
     "name": "stdout",
     "output_type": "stream",
     "text": [
      " * sqlite:///data/titanic.db\n",
      "Done.\n"
     ]
    },
    {
     "data": {
      "text/html": [
       "<table>\n",
       "    <tr>\n",
       "        <th>Pclass</th>\n",
       "        <th>avg(fare)</th>\n",
       "    </tr>\n",
       "    <tr>\n",
       "        <td>1</td>\n",
       "        <td>84.19351635514012</td>\n",
       "    </tr>\n",
       "    <tr>\n",
       "        <td>2</td>\n",
       "        <td>20.66218315217391</td>\n",
       "    </tr>\n",
       "    <tr>\n",
       "        <td>3</td>\n",
       "        <td>13.675550101832997</td>\n",
       "    </tr>\n",
       "</table>"
      ],
      "text/plain": [
       "[('1', 84.19351635514012), ('2', 20.66218315217391), ('3', 13.675550101832997)]"
      ]
     },
     "execution_count": 32,
     "metadata": {},
     "output_type": "execute_result"
    }
   ],
   "source": [
    "%sql SELECT pclass,avg(fare) FROM titanic group by pclass order by avg(fare) desc --limit 1"
   ]
  },
  {
   "cell_type": "code",
   "execution_count": null,
   "id": "5d76b32f-3665-49b9-963b-869620a1b7e3",
   "metadata": {},
   "outputs": [],
   "source": []
  }
 ],
 "metadata": {
  "kernelspec": {
   "display_name": "Python 3 (ipykernel)",
   "language": "python",
   "name": "python3"
  },
  "language_info": {
   "codemirror_mode": {
    "name": "ipython",
    "version": 3
   },
   "file_extension": ".py",
   "mimetype": "text/x-python",
   "name": "python",
   "nbconvert_exporter": "python",
   "pygments_lexer": "ipython3",
   "version": "3.9.6"
  }
 },
 "nbformat": 4,
 "nbformat_minor": 5
}
