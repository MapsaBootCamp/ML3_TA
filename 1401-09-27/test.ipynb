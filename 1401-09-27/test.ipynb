{
 "cells": [
  {
   "cell_type": "code",
   "execution_count": 1,
   "id": "473f8c52-de08-4f82-afc4-70e246c54558",
   "metadata": {},
   "outputs": [],
   "source": [
    "import test"
   ]
  },
  {
   "cell_type": "code",
   "execution_count": 3,
   "id": "cd788754-31f7-4c41-9d30-9e7b78b5ff22",
   "metadata": {},
   "outputs": [
    {
     "data": {
      "text/plain": [
       "'Hello'"
      ]
     },
     "execution_count": 3,
     "metadata": {},
     "output_type": "execute_result"
    }
   ],
   "source": [
    "test.print_hello()"
   ]
  },
  {
   "cell_type": "code",
   "execution_count": 4,
   "id": "93ee910c-1bca-41ad-be87-299d3d8e9863",
   "metadata": {},
   "outputs": [],
   "source": [
    "from test import print_hello"
   ]
  },
  {
   "cell_type": "code",
   "execution_count": 5,
   "id": "e90e023c-18e7-444f-92c2-da97064363bf",
   "metadata": {},
   "outputs": [
    {
     "data": {
      "text/plain": [
       "'Hello'"
      ]
     },
     "execution_count": 5,
     "metadata": {},
     "output_type": "execute_result"
    }
   ],
   "source": [
    "print_hello()"
   ]
  },
  {
   "cell_type": "code",
   "execution_count": 6,
   "id": "5c1dcbb7-7922-4a7d-97ab-5ba4a68890d2",
   "metadata": {},
   "outputs": [
    {
     "name": "stdout",
     "output_type": "stream",
     "text": [
      "Hello\n"
     ]
    }
   ],
   "source": [
    "!python test2.py"
   ]
  },
  {
   "cell_type": "code",
   "execution_count": null,
   "id": "6584b0e8-e9ef-4c46-b827-7f82b306bddc",
   "metadata": {},
   "outputs": [],
   "source": []
  }
 ],
 "metadata": {
  "kernelspec": {
   "display_name": "Python 3 (ipykernel)",
   "language": "python",
   "name": "python3"
  },
  "language_info": {
   "codemirror_mode": {
    "name": "ipython",
    "version": 3
   },
   "file_extension": ".py",
   "mimetype": "text/x-python",
   "name": "python",
   "nbconvert_exporter": "python",
   "pygments_lexer": "ipython3",
   "version": "3.9.6"
  }
 },
 "nbformat": 4,
 "nbformat_minor": 5
}
