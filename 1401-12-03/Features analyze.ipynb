{
 "cells": [
  {
   "cell_type": "code",
   "execution_count": 1,
   "id": "9432e635-cb15-41ae-8e4d-d9132e60d384",
   "metadata": {
    "tags": []
   },
   "outputs": [],
   "source": [
    "import pandas as pd"
   ]
  },
  {
   "cell_type": "raw",
   "id": "da38b029-18b3-4b3c-967c-ae142e5e4f77",
   "metadata": {
    "tags": []
   },
   "source": [
    "Attribute information: \n",
    "     1. Class: DIE, LIVE\n",
    "     2. AGE: 10, 20, 30, 40, 50, 60, 70, 80\n",
    "     3. SEX: male, female\n",
    "     4. STEROID: no, yes\n",
    "     5. ANTIVIRALS: no, yes\n",
    "     6. FATIGUE: no, yes\n",
    "     7. MALAISE: no, yes\n",
    "     8. ANOREXIA: no, yes\n",
    "     9. LIVER BIG: no, yes\n",
    "    10. LIVER FIRM: no, yes\n",
    "    11. SPLEEN PALPABLE: no, yes\n",
    "    12. SPIDERS: no, yes\n",
    "    13. ASCITES: no, yes\n",
    "    14. VARICES: no, yes\n",
    "    15. BILIRUBIN: 0.39, 0.80, 1.20, 2.00, 3.00, 4.00\n",
    "        -- see the note below\n",
    "    16. ALK PHOSPHATE: 33, 80, 120, 160, 200, 250\n",
    "    17. SGOT: 13, 100, 200, 300, 400, 500, \n",
    "    18. ALBUMIN: 2.1, 3.0, 3.8, 4.5, 5.0, 6.0\n",
    "    19. PROTIME: 10, 20, 30, 40, 50, 60, 70, 80, 90\n",
    "    20. HISTOLOGY: no, yes"
   ]
  },
  {
   "cell_type": "code",
   "execution_count": 13,
   "id": "a0e79bc6-57e7-4777-94d9-851ac49c4758",
   "metadata": {
    "tags": []
   },
   "outputs": [],
   "source": [
    "clmn_names = 'Class, AGE, SEX, STEROID, ANTIVIRALS, FATIGUE, MALAISE, ANOREXIA, LIVER BIG, LIVER FIRM, SPLEEN PALPABLE, SPIDERS, ASCITES, VARICES, BILIRUBIN, ALK PHOSPHATE, SGOT, ALBUMIN, PROTIME, HISTOLOGY'.split(', ')"
   ]
  },
  {
   "cell_type": "code",
   "execution_count": 14,
   "id": "78f046c4-cf06-4a10-9008-8c25f55ae714",
   "metadata": {
    "tags": []
   },
   "outputs": [],
   "source": [
    "df = pd.read_csv('data/hepatitis.data', header=None, names=clmn_names, na_values='?')"
   ]
  },
  {
   "cell_type": "code",
   "execution_count": 23,
   "id": "48cadaa8-5dd6-4a1f-82ce-53a353d81835",
   "metadata": {
    "tags": []
   },
   "outputs": [
    {
     "data": {
      "text/plain": [
       "Class                                                         [2, 1]\n",
       "AGE                [30, 50, 78, 31, 34, 51, 23, 39, 32, 41, 47, 3...\n",
       "SEX                                                           [2, 1]\n",
       "STEROID                                              [1.0, 2.0, nan]\n",
       "ANTIVIRALS                                                    [2, 1]\n",
       "FATIGUE                                              [2.0, 1.0, nan]\n",
       "MALAISE                                              [2.0, 1.0, nan]\n",
       "ANOREXIA                                             [2.0, 1.0, nan]\n",
       "LIVER BIG                                            [1.0, 2.0, nan]\n",
       "LIVER FIRM                                           [2.0, 1.0, nan]\n",
       "SPLEEN PALPABLE                                      [2.0, 1.0, nan]\n",
       "SPIDERS                                              [2.0, 1.0, nan]\n",
       "ASCITES                                              [2.0, 1.0, nan]\n",
       "VARICES                                              [2.0, nan, 1.0]\n",
       "BILIRUBIN          [1.0, 0.9, 0.7, nan, 1.3, 2.2, 2.0, 1.2, 0.6, ...\n",
       "ALK PHOSPHATE      [85.0, 135.0, 96.0, 46.0, nan, 95.0, 78.0, 59....\n",
       "SGOT               [18.0, 42.0, 32.0, 52.0, 200.0, 28.0, nan, 48....\n",
       "ALBUMIN            [4.0, 3.5, nan, 4.4, 3.9, 3.7, 4.9, 2.9, 4.3, ...\n",
       "PROTIME            [nan, 80.0, 75.0, 85.0, 54.0, 52.0, 78.0, 46.0...\n",
       "HISTOLOGY                                                     [1, 2]\n",
       "dtype: object"
      ]
     },
     "execution_count": 23,
     "metadata": {},
     "output_type": "execute_result"
    }
   ],
   "source": [
    "df.apply(pd.unique)"
   ]
  },
  {
   "cell_type": "code",
   "execution_count": 24,
   "id": "56c3d6f6-66e3-4e6e-a56a-7f68bb7ee893",
   "metadata": {
    "tags": []
   },
   "outputs": [
    {
     "data": {
      "text/plain": [
       "Class               2\n",
       "AGE                49\n",
       "SEX                 2\n",
       "STEROID             2\n",
       "ANTIVIRALS          2\n",
       "FATIGUE             2\n",
       "MALAISE             2\n",
       "ANOREXIA            2\n",
       "LIVER BIG           2\n",
       "LIVER FIRM          2\n",
       "SPLEEN PALPABLE     2\n",
       "SPIDERS             2\n",
       "ASCITES             2\n",
       "VARICES             2\n",
       "BILIRUBIN          34\n",
       "ALK PHOSPHATE      83\n",
       "SGOT               84\n",
       "ALBUMIN            29\n",
       "PROTIME            44\n",
       "HISTOLOGY           2\n",
       "dtype: int64"
      ]
     },
     "execution_count": 24,
     "metadata": {},
     "output_type": "execute_result"
    }
   ],
   "source": [
    "df.nunique()"
   ]
  },
  {
   "cell_type": "code",
   "execution_count": 61,
   "id": "98060f24-2b97-4db6-83ce-0940d9f795c5",
   "metadata": {
    "tags": []
   },
   "outputs": [
    {
     "data": {
      "text/plain": [
       "Class               0\n",
       "AGE                 0\n",
       "SEX                 0\n",
       "STEROID             1\n",
       "ANTIVIRALS          0\n",
       "FATIGUE             1\n",
       "MALAISE             1\n",
       "ANOREXIA            1\n",
       "LIVER BIG          10\n",
       "LIVER FIRM         11\n",
       "SPLEEN PALPABLE     5\n",
       "SPIDERS             5\n",
       "ASCITES             5\n",
       "VARICES             5\n",
       "BILIRUBIN           6\n",
       "ALK PHOSPHATE      29\n",
       "SGOT                4\n",
       "ALBUMIN            16\n",
       "PROTIME            67\n",
       "HISTOLOGY           0\n",
       "dtype: int64"
      ]
     },
     "execution_count": 61,
     "metadata": {},
     "output_type": "execute_result"
    }
   ],
   "source": [
    "nan_val_clmn = df.isna().sum()\n",
    "nan_val_clmn"
   ]
  },
  {
   "cell_type": "code",
   "execution_count": 26,
   "id": "d505cd4a-099f-4a69-8bbb-e96bbdf24eb4",
   "metadata": {
    "tags": []
   },
   "outputs": [],
   "source": [
    "df_drop = df.dropna()"
   ]
  },
  {
   "cell_type": "code",
   "execution_count": 27,
   "id": "d865c5f7-fdf6-4efb-ac29-4179deffdb16",
   "metadata": {
    "tags": []
   },
   "outputs": [
    {
     "data": {
      "text/plain": [
       "80"
      ]
     },
     "execution_count": 27,
     "metadata": {},
     "output_type": "execute_result"
    }
   ],
   "source": [
    "len(df_drop)"
   ]
  },
  {
   "cell_type": "code",
   "execution_count": 28,
   "id": "ae240002-6034-46c2-860a-8af345be40b4",
   "metadata": {
    "tags": []
   },
   "outputs": [],
   "source": [
    "y = df_drop['Class']\n",
    "X = df_drop.drop('Class', axis=1)"
   ]
  },
  {
   "cell_type": "code",
   "execution_count": 29,
   "id": "a7c3d3ad-e1af-46f6-bf17-2cb9cc22fbfd",
   "metadata": {
    "tags": []
   },
   "outputs": [],
   "source": [
    "from sklearn.ensemble import RandomForestClassifier"
   ]
  },
  {
   "cell_type": "code",
   "execution_count": 30,
   "id": "a216d1ce-24bb-431c-9d2f-e4781519014d",
   "metadata": {
    "tags": []
   },
   "outputs": [],
   "source": [
    "mdl = RandomForestClassifier().fit(X, y)"
   ]
  },
  {
   "cell_type": "code",
   "execution_count": 31,
   "id": "55cb46d7-9792-4942-a618-e7d4e5c46a81",
   "metadata": {
    "tags": []
   },
   "outputs": [
    {
     "data": {
      "text/plain": [
       "1.0"
      ]
     },
     "execution_count": 31,
     "metadata": {},
     "output_type": "execute_result"
    }
   ],
   "source": [
    "mdl.score(X, y)"
   ]
  },
  {
   "cell_type": "code",
   "execution_count": 83,
   "id": "a7e9185c-da1f-4738-931f-90d9156fab6f",
   "metadata": {
    "tags": []
   },
   "outputs": [],
   "source": [
    "from sklearn.linear_model import LogisticRegression\n",
    "from sklearn.preprocessing import StandardScaler"
   ]
  },
  {
   "cell_type": "code",
   "execution_count": 84,
   "id": "3bb56037-fc21-4c73-8764-d33a04ccf3aa",
   "metadata": {
    "tags": []
   },
   "outputs": [],
   "source": [
    "scl_x = StandardScaler().fit_transform(X)"
   ]
  },
  {
   "cell_type": "code",
   "execution_count": 94,
   "id": "0cfdd0b2-c6f4-49fa-a60e-5a1e6a8ec551",
   "metadata": {
    "tags": []
   },
   "outputs": [],
   "source": [
    "lg = LogisticRegression(penalty=None, max_iter=1000, class_weight='balanced').fit(X, y)"
   ]
  },
  {
   "cell_type": "code",
   "execution_count": 95,
   "id": "dfe4b34b-c721-4c38-804c-45b9a095a8fe",
   "metadata": {
    "tags": []
   },
   "outputs": [],
   "source": [
    "lg_s = LogisticRegression(penalty=None, max_iter=1000, class_weight='balanced').fit(scl_x, y)"
   ]
  },
  {
   "cell_type": "code",
   "execution_count": 96,
   "id": "62222c3e-56b6-4861-8f21-57def4670478",
   "metadata": {
    "tags": []
   },
   "outputs": [
    {
     "data": {
      "text/plain": [
       "1.0"
      ]
     },
     "execution_count": 96,
     "metadata": {},
     "output_type": "execute_result"
    }
   ],
   "source": [
    "lg.score(X, y)"
   ]
  },
  {
   "cell_type": "code",
   "execution_count": 97,
   "id": "312cb8e9-1bbd-49b0-a4eb-c4c6e2358bb9",
   "metadata": {
    "tags": []
   },
   "outputs": [
    {
     "data": {
      "text/plain": [
       "1.0"
      ]
     },
     "execution_count": 97,
     "metadata": {},
     "output_type": "execute_result"
    }
   ],
   "source": [
    "lg_s.score(scl_x, y)"
   ]
  },
  {
   "cell_type": "code",
   "execution_count": 98,
   "id": "540b4bef-9eac-4113-b450-96595f4c72ec",
   "metadata": {
    "tags": []
   },
   "outputs": [
    {
     "data": {
      "text/plain": [
       "array([2, 1], dtype=int64)"
      ]
     },
     "execution_count": 98,
     "metadata": {},
     "output_type": "execute_result"
    }
   ],
   "source": [
    "y.unique()"
   ]
  },
  {
   "cell_type": "code",
   "execution_count": 99,
   "id": "655d193d-4e1e-47e3-b789-01cb854e57ce",
   "metadata": {
    "tags": []
   },
   "outputs": [
    {
     "data": {
      "text/plain": [
       "array([2, 2], dtype=int64)"
      ]
     },
     "execution_count": 99,
     "metadata": {},
     "output_type": "execute_result"
    }
   ],
   "source": [
    "lg.predict(X.sample(2))"
   ]
  },
  {
   "cell_type": "code",
   "execution_count": 100,
   "id": "a52512e9-4df1-42bc-87a3-0f16bb54347a",
   "metadata": {
    "tags": []
   },
   "outputs": [
    {
     "data": {
      "text/plain": [
       "2    67\n",
       "1    13\n",
       "Name: Class, dtype: int64"
      ]
     },
     "execution_count": 100,
     "metadata": {},
     "output_type": "execute_result"
    }
   ],
   "source": [
    "y.value_counts()"
   ]
  },
  {
   "cell_type": "code",
   "execution_count": 101,
   "id": "7729368a-99e0-4a65-921d-8258e405c87e",
   "metadata": {
    "tags": []
   },
   "outputs": [
    {
     "data": {
      "text/plain": [
       "0.19402985074626866"
      ]
     },
     "execution_count": 101,
     "metadata": {},
     "output_type": "execute_result"
    }
   ],
   "source": [
    "13/67"
   ]
  },
  {
   "cell_type": "code",
   "execution_count": 102,
   "id": "8e4f8886-5ded-4eb7-be99-b77a371f1d2c",
   "metadata": {
    "tags": []
   },
   "outputs": [],
   "source": [
    "a = lg.coef_"
   ]
  },
  {
   "cell_type": "code",
   "execution_count": 103,
   "id": "38a1c2fd-413e-4593-b861-2e55aa42a473",
   "metadata": {
    "tags": []
   },
   "outputs": [
    {
     "data": {
      "text/plain": [
       "array([[  60.92156347, 3161.74894271, 4009.2902206 ,  417.33787469,\n",
       "         899.40429066, 2501.35868654, 4352.90257517, 2567.75617259,\n",
       "        1084.1966244 ,  184.42159961, 1631.77957375,   81.19868709,\n",
       "         555.71472476, 1672.35366986,    9.65488504,   49.61846025,\n",
       "         827.06006108,   38.49148229, 5880.57818645]])"
      ]
     },
     "execution_count": 103,
     "metadata": {},
     "output_type": "execute_result"
    }
   ],
   "source": [
    "abs(a)"
   ]
  },
  {
   "cell_type": "code",
   "execution_count": 104,
   "id": "ad470ddc-db41-4b80-a16d-baf20c9ae7a1",
   "metadata": {
    "tags": []
   },
   "outputs": [
    {
     "data": {
      "text/plain": [
       "(1, 19)"
      ]
     },
     "execution_count": 104,
     "metadata": {},
     "output_type": "execute_result"
    }
   ],
   "source": [
    "a.shape"
   ]
  },
  {
   "cell_type": "code",
   "execution_count": 105,
   "id": "9140eacf-ff88-473e-aa21-0380bc0c4c58",
   "metadata": {
    "tags": []
   },
   "outputs": [],
   "source": [
    "lg_rank = pd.DataFrame(abs(a[0]), index=clmn_names[1:], columns=['lg_rank'])"
   ]
  },
  {
   "cell_type": "code",
   "execution_count": 106,
   "id": "dcf40c28-f76c-4f79-9bda-6fce9523d621",
   "metadata": {
    "tags": []
   },
   "outputs": [
    {
     "data": {
      "text/html": [
       "<div>\n",
       "<style scoped>\n",
       "    .dataframe tbody tr th:only-of-type {\n",
       "        vertical-align: middle;\n",
       "    }\n",
       "\n",
       "    .dataframe tbody tr th {\n",
       "        vertical-align: top;\n",
       "    }\n",
       "\n",
       "    .dataframe thead th {\n",
       "        text-align: right;\n",
       "    }\n",
       "</style>\n",
       "<table border=\"1\" class=\"dataframe\">\n",
       "  <thead>\n",
       "    <tr style=\"text-align: right;\">\n",
       "      <th></th>\n",
       "      <th>lgs_rank</th>\n",
       "    </tr>\n",
       "  </thead>\n",
       "  <tbody>\n",
       "    <tr>\n",
       "      <th>AGE</th>\n",
       "      <td>9.326354</td>\n",
       "    </tr>\n",
       "    <tr>\n",
       "      <th>SEX</th>\n",
       "      <td>23.132160</td>\n",
       "    </tr>\n",
       "    <tr>\n",
       "      <th>STEROID</th>\n",
       "      <td>17.202013</td>\n",
       "    </tr>\n",
       "    <tr>\n",
       "      <th>ANTIVIRALS</th>\n",
       "      <td>1.884660</td>\n",
       "    </tr>\n",
       "    <tr>\n",
       "      <th>FATIGUE</th>\n",
       "      <td>5.481661</td>\n",
       "    </tr>\n",
       "    <tr>\n",
       "      <th>MALAISE</th>\n",
       "      <td>7.223471</td>\n",
       "    </tr>\n",
       "    <tr>\n",
       "      <th>ANOREXIA</th>\n",
       "      <td>27.629428</td>\n",
       "    </tr>\n",
       "    <tr>\n",
       "      <th>LIVER BIG</th>\n",
       "      <td>13.481189</td>\n",
       "    </tr>\n",
       "    <tr>\n",
       "      <th>LIVER FIRM</th>\n",
       "      <td>0.120297</td>\n",
       "    </tr>\n",
       "    <tr>\n",
       "      <th>SPLEEN PALPABLE</th>\n",
       "      <td>8.881991</td>\n",
       "    </tr>\n",
       "    <tr>\n",
       "      <th>SPIDERS</th>\n",
       "      <td>3.349615</td>\n",
       "    </tr>\n",
       "    <tr>\n",
       "      <th>ASCITES</th>\n",
       "      <td>1.941090</td>\n",
       "    </tr>\n",
       "    <tr>\n",
       "      <th>VARICES</th>\n",
       "      <td>5.294414</td>\n",
       "    </tr>\n",
       "    <tr>\n",
       "      <th>BILIRUBIN</th>\n",
       "      <td>14.382829</td>\n",
       "    </tr>\n",
       "    <tr>\n",
       "      <th>ALK PHOSPHATE</th>\n",
       "      <td>7.105037</td>\n",
       "    </tr>\n",
       "    <tr>\n",
       "      <th>SGOT</th>\n",
       "      <td>25.230844</td>\n",
       "    </tr>\n",
       "    <tr>\n",
       "      <th>ALBUMIN</th>\n",
       "      <td>4.675328</td>\n",
       "    </tr>\n",
       "    <tr>\n",
       "      <th>PROTIME</th>\n",
       "      <td>9.119516</td>\n",
       "    </tr>\n",
       "    <tr>\n",
       "      <th>HISTOLOGY</th>\n",
       "      <td>16.658194</td>\n",
       "    </tr>\n",
       "  </tbody>\n",
       "</table>\n",
       "</div>"
      ],
      "text/plain": [
       "                  lgs_rank\n",
       "AGE               9.326354\n",
       "SEX              23.132160\n",
       "STEROID          17.202013\n",
       "ANTIVIRALS        1.884660\n",
       "FATIGUE           5.481661\n",
       "MALAISE           7.223471\n",
       "ANOREXIA         27.629428\n",
       "LIVER BIG        13.481189\n",
       "LIVER FIRM        0.120297\n",
       "SPLEEN PALPABLE   8.881991\n",
       "SPIDERS           3.349615\n",
       "ASCITES           1.941090\n",
       "VARICES           5.294414\n",
       "BILIRUBIN        14.382829\n",
       "ALK PHOSPHATE     7.105037\n",
       "SGOT             25.230844\n",
       "ALBUMIN           4.675328\n",
       "PROTIME           9.119516\n",
       "HISTOLOGY        16.658194"
      ]
     },
     "execution_count": 106,
     "metadata": {},
     "output_type": "execute_result"
    }
   ],
   "source": [
    "lgs_rank = pd.DataFrame(abs(lg_s.coef_[0]), index=clmn_names[1:], columns=['lgs_rank'])\n",
    "lgs_rank"
   ]
  },
  {
   "cell_type": "code",
   "execution_count": 107,
   "id": "0a519ebf-9aac-499e-b814-84d9a2a1a33c",
   "metadata": {
    "tags": []
   },
   "outputs": [
    {
     "data": {
      "text/html": [
       "<div>\n",
       "<style scoped>\n",
       "    .dataframe tbody tr th:only-of-type {\n",
       "        vertical-align: middle;\n",
       "    }\n",
       "\n",
       "    .dataframe tbody tr th {\n",
       "        vertical-align: top;\n",
       "    }\n",
       "\n",
       "    .dataframe thead th {\n",
       "        text-align: right;\n",
       "    }\n",
       "</style>\n",
       "<table border=\"1\" class=\"dataframe\">\n",
       "  <thead>\n",
       "    <tr style=\"text-align: right;\">\n",
       "      <th></th>\n",
       "      <th>lg_rank</th>\n",
       "      <th>nan_count</th>\n",
       "    </tr>\n",
       "  </thead>\n",
       "  <tbody>\n",
       "    <tr>\n",
       "      <th>AGE</th>\n",
       "      <td>60.921563</td>\n",
       "      <td>0</td>\n",
       "    </tr>\n",
       "    <tr>\n",
       "      <th>SEX</th>\n",
       "      <td>3161.748943</td>\n",
       "      <td>0</td>\n",
       "    </tr>\n",
       "    <tr>\n",
       "      <th>STEROID</th>\n",
       "      <td>4009.290221</td>\n",
       "      <td>1</td>\n",
       "    </tr>\n",
       "    <tr>\n",
       "      <th>ANTIVIRALS</th>\n",
       "      <td>417.337875</td>\n",
       "      <td>0</td>\n",
       "    </tr>\n",
       "    <tr>\n",
       "      <th>FATIGUE</th>\n",
       "      <td>899.404291</td>\n",
       "      <td>1</td>\n",
       "    </tr>\n",
       "    <tr>\n",
       "      <th>MALAISE</th>\n",
       "      <td>2501.358687</td>\n",
       "      <td>1</td>\n",
       "    </tr>\n",
       "    <tr>\n",
       "      <th>ANOREXIA</th>\n",
       "      <td>4352.902575</td>\n",
       "      <td>1</td>\n",
       "    </tr>\n",
       "    <tr>\n",
       "      <th>LIVER BIG</th>\n",
       "      <td>2567.756173</td>\n",
       "      <td>10</td>\n",
       "    </tr>\n",
       "    <tr>\n",
       "      <th>LIVER FIRM</th>\n",
       "      <td>1084.196624</td>\n",
       "      <td>11</td>\n",
       "    </tr>\n",
       "    <tr>\n",
       "      <th>SPLEEN PALPABLE</th>\n",
       "      <td>184.421600</td>\n",
       "      <td>5</td>\n",
       "    </tr>\n",
       "    <tr>\n",
       "      <th>SPIDERS</th>\n",
       "      <td>1631.779574</td>\n",
       "      <td>5</td>\n",
       "    </tr>\n",
       "    <tr>\n",
       "      <th>ASCITES</th>\n",
       "      <td>81.198687</td>\n",
       "      <td>5</td>\n",
       "    </tr>\n",
       "    <tr>\n",
       "      <th>VARICES</th>\n",
       "      <td>555.714725</td>\n",
       "      <td>5</td>\n",
       "    </tr>\n",
       "    <tr>\n",
       "      <th>BILIRUBIN</th>\n",
       "      <td>1672.353670</td>\n",
       "      <td>6</td>\n",
       "    </tr>\n",
       "    <tr>\n",
       "      <th>ALK PHOSPHATE</th>\n",
       "      <td>9.654885</td>\n",
       "      <td>29</td>\n",
       "    </tr>\n",
       "    <tr>\n",
       "      <th>SGOT</th>\n",
       "      <td>49.618460</td>\n",
       "      <td>4</td>\n",
       "    </tr>\n",
       "    <tr>\n",
       "      <th>ALBUMIN</th>\n",
       "      <td>827.060061</td>\n",
       "      <td>16</td>\n",
       "    </tr>\n",
       "    <tr>\n",
       "      <th>PROTIME</th>\n",
       "      <td>38.491482</td>\n",
       "      <td>67</td>\n",
       "    </tr>\n",
       "    <tr>\n",
       "      <th>HISTOLOGY</th>\n",
       "      <td>5880.578186</td>\n",
       "      <td>0</td>\n",
       "    </tr>\n",
       "  </tbody>\n",
       "</table>\n",
       "</div>"
      ],
      "text/plain": [
       "                     lg_rank  nan_count\n",
       "AGE                60.921563          0\n",
       "SEX              3161.748943          0\n",
       "STEROID          4009.290221          1\n",
       "ANTIVIRALS        417.337875          0\n",
       "FATIGUE           899.404291          1\n",
       "MALAISE          2501.358687          1\n",
       "ANOREXIA         4352.902575          1\n",
       "LIVER BIG        2567.756173         10\n",
       "LIVER FIRM       1084.196624         11\n",
       "SPLEEN PALPABLE   184.421600          5\n",
       "SPIDERS          1631.779574          5\n",
       "ASCITES            81.198687          5\n",
       "VARICES           555.714725          5\n",
       "BILIRUBIN        1672.353670          6\n",
       "ALK PHOSPHATE       9.654885         29\n",
       "SGOT               49.618460          4\n",
       "ALBUMIN           827.060061         16\n",
       "PROTIME            38.491482         67\n",
       "HISTOLOGY        5880.578186          0"
      ]
     },
     "execution_count": 107,
     "metadata": {},
     "output_type": "execute_result"
    }
   ],
   "source": [
    "lg_rank['nan_count'] = nan_val_clmn\n",
    "lg_rank"
   ]
  },
  {
   "cell_type": "code",
   "execution_count": 108,
   "id": "092019b4-e54e-4fed-836c-7c49d4921f5d",
   "metadata": {
    "tags": []
   },
   "outputs": [
    {
     "data": {
      "text/html": [
       "<div>\n",
       "<style scoped>\n",
       "    .dataframe tbody tr th:only-of-type {\n",
       "        vertical-align: middle;\n",
       "    }\n",
       "\n",
       "    .dataframe tbody tr th {\n",
       "        vertical-align: top;\n",
       "    }\n",
       "\n",
       "    .dataframe thead th {\n",
       "        text-align: right;\n",
       "    }\n",
       "</style>\n",
       "<table border=\"1\" class=\"dataframe\">\n",
       "  <thead>\n",
       "    <tr style=\"text-align: right;\">\n",
       "      <th></th>\n",
       "      <th>lg_rank</th>\n",
       "      <th>nan_count</th>\n",
       "    </tr>\n",
       "  </thead>\n",
       "  <tbody>\n",
       "    <tr>\n",
       "      <th>HISTOLOGY</th>\n",
       "      <td>5880.578186</td>\n",
       "      <td>0</td>\n",
       "    </tr>\n",
       "    <tr>\n",
       "      <th>ANOREXIA</th>\n",
       "      <td>4352.902575</td>\n",
       "      <td>1</td>\n",
       "    </tr>\n",
       "    <tr>\n",
       "      <th>STEROID</th>\n",
       "      <td>4009.290221</td>\n",
       "      <td>1</td>\n",
       "    </tr>\n",
       "    <tr>\n",
       "      <th>SEX</th>\n",
       "      <td>3161.748943</td>\n",
       "      <td>0</td>\n",
       "    </tr>\n",
       "    <tr>\n",
       "      <th>LIVER BIG</th>\n",
       "      <td>2567.756173</td>\n",
       "      <td>10</td>\n",
       "    </tr>\n",
       "    <tr>\n",
       "      <th>MALAISE</th>\n",
       "      <td>2501.358687</td>\n",
       "      <td>1</td>\n",
       "    </tr>\n",
       "    <tr>\n",
       "      <th>BILIRUBIN</th>\n",
       "      <td>1672.353670</td>\n",
       "      <td>6</td>\n",
       "    </tr>\n",
       "    <tr>\n",
       "      <th>SPIDERS</th>\n",
       "      <td>1631.779574</td>\n",
       "      <td>5</td>\n",
       "    </tr>\n",
       "    <tr>\n",
       "      <th>LIVER FIRM</th>\n",
       "      <td>1084.196624</td>\n",
       "      <td>11</td>\n",
       "    </tr>\n",
       "    <tr>\n",
       "      <th>FATIGUE</th>\n",
       "      <td>899.404291</td>\n",
       "      <td>1</td>\n",
       "    </tr>\n",
       "    <tr>\n",
       "      <th>ALBUMIN</th>\n",
       "      <td>827.060061</td>\n",
       "      <td>16</td>\n",
       "    </tr>\n",
       "    <tr>\n",
       "      <th>VARICES</th>\n",
       "      <td>555.714725</td>\n",
       "      <td>5</td>\n",
       "    </tr>\n",
       "    <tr>\n",
       "      <th>ANTIVIRALS</th>\n",
       "      <td>417.337875</td>\n",
       "      <td>0</td>\n",
       "    </tr>\n",
       "    <tr>\n",
       "      <th>SPLEEN PALPABLE</th>\n",
       "      <td>184.421600</td>\n",
       "      <td>5</td>\n",
       "    </tr>\n",
       "    <tr>\n",
       "      <th>ASCITES</th>\n",
       "      <td>81.198687</td>\n",
       "      <td>5</td>\n",
       "    </tr>\n",
       "    <tr>\n",
       "      <th>AGE</th>\n",
       "      <td>60.921563</td>\n",
       "      <td>0</td>\n",
       "    </tr>\n",
       "    <tr>\n",
       "      <th>SGOT</th>\n",
       "      <td>49.618460</td>\n",
       "      <td>4</td>\n",
       "    </tr>\n",
       "    <tr>\n",
       "      <th>PROTIME</th>\n",
       "      <td>38.491482</td>\n",
       "      <td>67</td>\n",
       "    </tr>\n",
       "    <tr>\n",
       "      <th>ALK PHOSPHATE</th>\n",
       "      <td>9.654885</td>\n",
       "      <td>29</td>\n",
       "    </tr>\n",
       "  </tbody>\n",
       "</table>\n",
       "</div>"
      ],
      "text/plain": [
       "                     lg_rank  nan_count\n",
       "HISTOLOGY        5880.578186          0\n",
       "ANOREXIA         4352.902575          1\n",
       "STEROID          4009.290221          1\n",
       "SEX              3161.748943          0\n",
       "LIVER BIG        2567.756173         10\n",
       "MALAISE          2501.358687          1\n",
       "BILIRUBIN        1672.353670          6\n",
       "SPIDERS          1631.779574          5\n",
       "LIVER FIRM       1084.196624         11\n",
       "FATIGUE           899.404291          1\n",
       "ALBUMIN           827.060061         16\n",
       "VARICES           555.714725          5\n",
       "ANTIVIRALS        417.337875          0\n",
       "SPLEEN PALPABLE   184.421600          5\n",
       "ASCITES            81.198687          5\n",
       "AGE                60.921563          0\n",
       "SGOT               49.618460          4\n",
       "PROTIME            38.491482         67\n",
       "ALK PHOSPHATE       9.654885         29"
      ]
     },
     "execution_count": 108,
     "metadata": {},
     "output_type": "execute_result"
    }
   ],
   "source": [
    "lg_rank.sort_values(by='lg_rank', ascending=False)"
   ]
  },
  {
   "cell_type": "code",
   "execution_count": 109,
   "id": "67da90f3-b187-43d3-9a94-014fcb5ebe11",
   "metadata": {
    "tags": []
   },
   "outputs": [],
   "source": [
    "res = pd.DataFrame()\n",
    "res['non_droped'] = abs(df.corr()['Class'])"
   ]
  },
  {
   "cell_type": "code",
   "execution_count": 110,
   "id": "bd81d627-d78f-4c5a-83be-661edfe5ed20",
   "metadata": {
    "tags": []
   },
   "outputs": [
    {
     "data": {
      "text/html": [
       "<div>\n",
       "<style scoped>\n",
       "    .dataframe tbody tr th:only-of-type {\n",
       "        vertical-align: middle;\n",
       "    }\n",
       "\n",
       "    .dataframe tbody tr th {\n",
       "        vertical-align: top;\n",
       "    }\n",
       "\n",
       "    .dataframe thead th {\n",
       "        text-align: right;\n",
       "    }\n",
       "</style>\n",
       "<table border=\"1\" class=\"dataframe\">\n",
       "  <thead>\n",
       "    <tr style=\"text-align: right;\">\n",
       "      <th></th>\n",
       "      <th>non_droped</th>\n",
       "      <th>droped</th>\n",
       "    </tr>\n",
       "  </thead>\n",
       "  <tbody>\n",
       "    <tr>\n",
       "      <th>Class</th>\n",
       "      <td>1.000000</td>\n",
       "      <td>1.000000</td>\n",
       "    </tr>\n",
       "    <tr>\n",
       "      <th>AGE</th>\n",
       "      <td>0.219647</td>\n",
       "      <td>0.212769</td>\n",
       "    </tr>\n",
       "    <tr>\n",
       "      <th>SEX</th>\n",
       "      <td>0.173051</td>\n",
       "      <td>0.175876</td>\n",
       "    </tr>\n",
       "    <tr>\n",
       "      <th>STEROID</th>\n",
       "      <td>0.134700</td>\n",
       "      <td>0.123830</td>\n",
       "    </tr>\n",
       "    <tr>\n",
       "      <th>ANTIVIRALS</th>\n",
       "      <td>0.130196</td>\n",
       "      <td>0.108776</td>\n",
       "    </tr>\n",
       "    <tr>\n",
       "      <th>FATIGUE</th>\n",
       "      <td>0.309269</td>\n",
       "      <td>0.181151</td>\n",
       "    </tr>\n",
       "    <tr>\n",
       "      <th>MALAISE</th>\n",
       "      <td>0.337859</td>\n",
       "      <td>0.275595</td>\n",
       "    </tr>\n",
       "    <tr>\n",
       "      <th>ANOREXIA</th>\n",
       "      <td>0.132172</td>\n",
       "      <td>0.185042</td>\n",
       "    </tr>\n",
       "    <tr>\n",
       "      <th>LIVER BIG</th>\n",
       "      <td>0.077630</td>\n",
       "      <td>0.194030</td>\n",
       "    </tr>\n",
       "    <tr>\n",
       "      <th>LIVER FIRM</th>\n",
       "      <td>0.063155</td>\n",
       "      <td>0.055978</td>\n",
       "    </tr>\n",
       "    <tr>\n",
       "      <th>SPLEEN PALPABLE</th>\n",
       "      <td>0.238734</td>\n",
       "      <td>0.135643</td>\n",
       "    </tr>\n",
       "    <tr>\n",
       "      <th>SPIDERS</th>\n",
       "      <td>0.398308</td>\n",
       "      <td>0.287839</td>\n",
       "    </tr>\n",
       "    <tr>\n",
       "      <th>ASCITES</th>\n",
       "      <td>0.477882</td>\n",
       "      <td>0.479211</td>\n",
       "    </tr>\n",
       "    <tr>\n",
       "      <th>VARICES</th>\n",
       "      <td>0.368846</td>\n",
       "      <td>0.345785</td>\n",
       "    </tr>\n",
       "    <tr>\n",
       "      <th>BILIRUBIN</th>\n",
       "      <td>0.463752</td>\n",
       "      <td>0.351557</td>\n",
       "    </tr>\n",
       "    <tr>\n",
       "      <th>ALK PHOSPHATE</th>\n",
       "      <td>0.161204</td>\n",
       "      <td>0.189360</td>\n",
       "    </tr>\n",
       "    <tr>\n",
       "      <th>SGOT</th>\n",
       "      <td>0.077678</td>\n",
       "      <td>0.078731</td>\n",
       "    </tr>\n",
       "    <tr>\n",
       "      <th>ALBUMIN</th>\n",
       "      <td>0.503272</td>\n",
       "      <td>0.477404</td>\n",
       "    </tr>\n",
       "    <tr>\n",
       "      <th>PROTIME</th>\n",
       "      <td>0.409160</td>\n",
       "      <td>0.395386</td>\n",
       "    </tr>\n",
       "    <tr>\n",
       "      <th>HISTOLOGY</th>\n",
       "      <td>0.337856</td>\n",
       "      <td>0.456856</td>\n",
       "    </tr>\n",
       "  </tbody>\n",
       "</table>\n",
       "</div>"
      ],
      "text/plain": [
       "                 non_droped    droped\n",
       "Class              1.000000  1.000000\n",
       "AGE                0.219647  0.212769\n",
       "SEX                0.173051  0.175876\n",
       "STEROID            0.134700  0.123830\n",
       "ANTIVIRALS         0.130196  0.108776\n",
       "FATIGUE            0.309269  0.181151\n",
       "MALAISE            0.337859  0.275595\n",
       "ANOREXIA           0.132172  0.185042\n",
       "LIVER BIG          0.077630  0.194030\n",
       "LIVER FIRM         0.063155  0.055978\n",
       "SPLEEN PALPABLE    0.238734  0.135643\n",
       "SPIDERS            0.398308  0.287839\n",
       "ASCITES            0.477882  0.479211\n",
       "VARICES            0.368846  0.345785\n",
       "BILIRUBIN          0.463752  0.351557\n",
       "ALK PHOSPHATE      0.161204  0.189360\n",
       "SGOT               0.077678  0.078731\n",
       "ALBUMIN            0.503272  0.477404\n",
       "PROTIME            0.409160  0.395386\n",
       "HISTOLOGY          0.337856  0.456856"
      ]
     },
     "execution_count": 110,
     "metadata": {},
     "output_type": "execute_result"
    }
   ],
   "source": [
    "res['droped'] = abs(df_drop.corr()['Class'])\n",
    "res"
   ]
  },
  {
   "cell_type": "code",
   "execution_count": 111,
   "id": "d58aedb1-876f-4d9b-994e-e2fb04f97f03",
   "metadata": {
    "tags": []
   },
   "outputs": [
    {
     "data": {
      "text/html": [
       "<div>\n",
       "<style scoped>\n",
       "    .dataframe tbody tr th:only-of-type {\n",
       "        vertical-align: middle;\n",
       "    }\n",
       "\n",
       "    .dataframe tbody tr th {\n",
       "        vertical-align: top;\n",
       "    }\n",
       "\n",
       "    .dataframe thead th {\n",
       "        text-align: right;\n",
       "    }\n",
       "</style>\n",
       "<table border=\"1\" class=\"dataframe\">\n",
       "  <thead>\n",
       "    <tr style=\"text-align: right;\">\n",
       "      <th></th>\n",
       "      <th>non_droped</th>\n",
       "      <th>droped</th>\n",
       "      <th>lg_rank</th>\n",
       "      <th>nan_count</th>\n",
       "    </tr>\n",
       "  </thead>\n",
       "  <tbody>\n",
       "    <tr>\n",
       "      <th>AGE</th>\n",
       "      <td>0.219647</td>\n",
       "      <td>0.212769</td>\n",
       "      <td>60.921563</td>\n",
       "      <td>0.0</td>\n",
       "    </tr>\n",
       "    <tr>\n",
       "      <th>SEX</th>\n",
       "      <td>0.173051</td>\n",
       "      <td>0.175876</td>\n",
       "      <td>3161.748943</td>\n",
       "      <td>0.0</td>\n",
       "    </tr>\n",
       "    <tr>\n",
       "      <th>STEROID</th>\n",
       "      <td>0.134700</td>\n",
       "      <td>0.123830</td>\n",
       "      <td>4009.290221</td>\n",
       "      <td>1.0</td>\n",
       "    </tr>\n",
       "    <tr>\n",
       "      <th>ANTIVIRALS</th>\n",
       "      <td>0.130196</td>\n",
       "      <td>0.108776</td>\n",
       "      <td>417.337875</td>\n",
       "      <td>0.0</td>\n",
       "    </tr>\n",
       "    <tr>\n",
       "      <th>FATIGUE</th>\n",
       "      <td>0.309269</td>\n",
       "      <td>0.181151</td>\n",
       "      <td>899.404291</td>\n",
       "      <td>1.0</td>\n",
       "    </tr>\n",
       "    <tr>\n",
       "      <th>MALAISE</th>\n",
       "      <td>0.337859</td>\n",
       "      <td>0.275595</td>\n",
       "      <td>2501.358687</td>\n",
       "      <td>1.0</td>\n",
       "    </tr>\n",
       "    <tr>\n",
       "      <th>ANOREXIA</th>\n",
       "      <td>0.132172</td>\n",
       "      <td>0.185042</td>\n",
       "      <td>4352.902575</td>\n",
       "      <td>1.0</td>\n",
       "    </tr>\n",
       "    <tr>\n",
       "      <th>LIVER BIG</th>\n",
       "      <td>0.077630</td>\n",
       "      <td>0.194030</td>\n",
       "      <td>2567.756173</td>\n",
       "      <td>10.0</td>\n",
       "    </tr>\n",
       "    <tr>\n",
       "      <th>LIVER FIRM</th>\n",
       "      <td>0.063155</td>\n",
       "      <td>0.055978</td>\n",
       "      <td>1084.196624</td>\n",
       "      <td>11.0</td>\n",
       "    </tr>\n",
       "    <tr>\n",
       "      <th>SPLEEN PALPABLE</th>\n",
       "      <td>0.238734</td>\n",
       "      <td>0.135643</td>\n",
       "      <td>184.421600</td>\n",
       "      <td>5.0</td>\n",
       "    </tr>\n",
       "    <tr>\n",
       "      <th>SPIDERS</th>\n",
       "      <td>0.398308</td>\n",
       "      <td>0.287839</td>\n",
       "      <td>1631.779574</td>\n",
       "      <td>5.0</td>\n",
       "    </tr>\n",
       "    <tr>\n",
       "      <th>ASCITES</th>\n",
       "      <td>0.477882</td>\n",
       "      <td>0.479211</td>\n",
       "      <td>81.198687</td>\n",
       "      <td>5.0</td>\n",
       "    </tr>\n",
       "    <tr>\n",
       "      <th>VARICES</th>\n",
       "      <td>0.368846</td>\n",
       "      <td>0.345785</td>\n",
       "      <td>555.714725</td>\n",
       "      <td>5.0</td>\n",
       "    </tr>\n",
       "    <tr>\n",
       "      <th>BILIRUBIN</th>\n",
       "      <td>0.463752</td>\n",
       "      <td>0.351557</td>\n",
       "      <td>1672.353670</td>\n",
       "      <td>6.0</td>\n",
       "    </tr>\n",
       "    <tr>\n",
       "      <th>ALK PHOSPHATE</th>\n",
       "      <td>0.161204</td>\n",
       "      <td>0.189360</td>\n",
       "      <td>9.654885</td>\n",
       "      <td>29.0</td>\n",
       "    </tr>\n",
       "    <tr>\n",
       "      <th>SGOT</th>\n",
       "      <td>0.077678</td>\n",
       "      <td>0.078731</td>\n",
       "      <td>49.618460</td>\n",
       "      <td>4.0</td>\n",
       "    </tr>\n",
       "    <tr>\n",
       "      <th>ALBUMIN</th>\n",
       "      <td>0.503272</td>\n",
       "      <td>0.477404</td>\n",
       "      <td>827.060061</td>\n",
       "      <td>16.0</td>\n",
       "    </tr>\n",
       "    <tr>\n",
       "      <th>PROTIME</th>\n",
       "      <td>0.409160</td>\n",
       "      <td>0.395386</td>\n",
       "      <td>38.491482</td>\n",
       "      <td>67.0</td>\n",
       "    </tr>\n",
       "    <tr>\n",
       "      <th>HISTOLOGY</th>\n",
       "      <td>0.337856</td>\n",
       "      <td>0.456856</td>\n",
       "      <td>5880.578186</td>\n",
       "      <td>0.0</td>\n",
       "    </tr>\n",
       "  </tbody>\n",
       "</table>\n",
       "</div>"
      ],
      "text/plain": [
       "                 non_droped    droped      lg_rank  nan_count\n",
       "AGE                0.219647  0.212769    60.921563        0.0\n",
       "SEX                0.173051  0.175876  3161.748943        0.0\n",
       "STEROID            0.134700  0.123830  4009.290221        1.0\n",
       "ANTIVIRALS         0.130196  0.108776   417.337875        0.0\n",
       "FATIGUE            0.309269  0.181151   899.404291        1.0\n",
       "MALAISE            0.337859  0.275595  2501.358687        1.0\n",
       "ANOREXIA           0.132172  0.185042  4352.902575        1.0\n",
       "LIVER BIG          0.077630  0.194030  2567.756173       10.0\n",
       "LIVER FIRM         0.063155  0.055978  1084.196624       11.0\n",
       "SPLEEN PALPABLE    0.238734  0.135643   184.421600        5.0\n",
       "SPIDERS            0.398308  0.287839  1631.779574        5.0\n",
       "ASCITES            0.477882  0.479211    81.198687        5.0\n",
       "VARICES            0.368846  0.345785   555.714725        5.0\n",
       "BILIRUBIN          0.463752  0.351557  1672.353670        6.0\n",
       "ALK PHOSPHATE      0.161204  0.189360     9.654885       29.0\n",
       "SGOT               0.077678  0.078731    49.618460        4.0\n",
       "ALBUMIN            0.503272  0.477404   827.060061       16.0\n",
       "PROTIME            0.409160  0.395386    38.491482       67.0\n",
       "HISTOLOGY          0.337856  0.456856  5880.578186        0.0"
      ]
     },
     "execution_count": 111,
     "metadata": {},
     "output_type": "execute_result"
    }
   ],
   "source": [
    "fin = pd.concat([res, lg_rank], axis=1).drop('Class')\n",
    "fin"
   ]
  },
  {
   "cell_type": "code",
   "execution_count": 112,
   "id": "fea3626d-bef3-46f1-bd24-2497b9102225",
   "metadata": {
    "tags": []
   },
   "outputs": [
    {
     "data": {
      "text/html": [
       "<div>\n",
       "<style scoped>\n",
       "    .dataframe tbody tr th:only-of-type {\n",
       "        vertical-align: middle;\n",
       "    }\n",
       "\n",
       "    .dataframe tbody tr th {\n",
       "        vertical-align: top;\n",
       "    }\n",
       "\n",
       "    .dataframe thead th {\n",
       "        text-align: right;\n",
       "    }\n",
       "</style>\n",
       "<table border=\"1\" class=\"dataframe\">\n",
       "  <thead>\n",
       "    <tr style=\"text-align: right;\">\n",
       "      <th></th>\n",
       "      <th>non_droped</th>\n",
       "      <th>droped</th>\n",
       "      <th>lg_rank</th>\n",
       "      <th>nan_count</th>\n",
       "    </tr>\n",
       "  </thead>\n",
       "  <tbody>\n",
       "    <tr>\n",
       "      <th>PROTIME</th>\n",
       "      <td>0.409160</td>\n",
       "      <td>0.395386</td>\n",
       "      <td>38.491482</td>\n",
       "      <td>67.0</td>\n",
       "    </tr>\n",
       "    <tr>\n",
       "      <th>ALK PHOSPHATE</th>\n",
       "      <td>0.161204</td>\n",
       "      <td>0.189360</td>\n",
       "      <td>9.654885</td>\n",
       "      <td>29.0</td>\n",
       "    </tr>\n",
       "    <tr>\n",
       "      <th>ALBUMIN</th>\n",
       "      <td>0.503272</td>\n",
       "      <td>0.477404</td>\n",
       "      <td>827.060061</td>\n",
       "      <td>16.0</td>\n",
       "    </tr>\n",
       "    <tr>\n",
       "      <th>LIVER FIRM</th>\n",
       "      <td>0.063155</td>\n",
       "      <td>0.055978</td>\n",
       "      <td>1084.196624</td>\n",
       "      <td>11.0</td>\n",
       "    </tr>\n",
       "    <tr>\n",
       "      <th>LIVER BIG</th>\n",
       "      <td>0.077630</td>\n",
       "      <td>0.194030</td>\n",
       "      <td>2567.756173</td>\n",
       "      <td>10.0</td>\n",
       "    </tr>\n",
       "    <tr>\n",
       "      <th>BILIRUBIN</th>\n",
       "      <td>0.463752</td>\n",
       "      <td>0.351557</td>\n",
       "      <td>1672.353670</td>\n",
       "      <td>6.0</td>\n",
       "    </tr>\n",
       "    <tr>\n",
       "      <th>SPLEEN PALPABLE</th>\n",
       "      <td>0.238734</td>\n",
       "      <td>0.135643</td>\n",
       "      <td>184.421600</td>\n",
       "      <td>5.0</td>\n",
       "    </tr>\n",
       "    <tr>\n",
       "      <th>SPIDERS</th>\n",
       "      <td>0.398308</td>\n",
       "      <td>0.287839</td>\n",
       "      <td>1631.779574</td>\n",
       "      <td>5.0</td>\n",
       "    </tr>\n",
       "    <tr>\n",
       "      <th>ASCITES</th>\n",
       "      <td>0.477882</td>\n",
       "      <td>0.479211</td>\n",
       "      <td>81.198687</td>\n",
       "      <td>5.0</td>\n",
       "    </tr>\n",
       "    <tr>\n",
       "      <th>VARICES</th>\n",
       "      <td>0.368846</td>\n",
       "      <td>0.345785</td>\n",
       "      <td>555.714725</td>\n",
       "      <td>5.0</td>\n",
       "    </tr>\n",
       "    <tr>\n",
       "      <th>SGOT</th>\n",
       "      <td>0.077678</td>\n",
       "      <td>0.078731</td>\n",
       "      <td>49.618460</td>\n",
       "      <td>4.0</td>\n",
       "    </tr>\n",
       "    <tr>\n",
       "      <th>STEROID</th>\n",
       "      <td>0.134700</td>\n",
       "      <td>0.123830</td>\n",
       "      <td>4009.290221</td>\n",
       "      <td>1.0</td>\n",
       "    </tr>\n",
       "    <tr>\n",
       "      <th>FATIGUE</th>\n",
       "      <td>0.309269</td>\n",
       "      <td>0.181151</td>\n",
       "      <td>899.404291</td>\n",
       "      <td>1.0</td>\n",
       "    </tr>\n",
       "    <tr>\n",
       "      <th>MALAISE</th>\n",
       "      <td>0.337859</td>\n",
       "      <td>0.275595</td>\n",
       "      <td>2501.358687</td>\n",
       "      <td>1.0</td>\n",
       "    </tr>\n",
       "    <tr>\n",
       "      <th>ANOREXIA</th>\n",
       "      <td>0.132172</td>\n",
       "      <td>0.185042</td>\n",
       "      <td>4352.902575</td>\n",
       "      <td>1.0</td>\n",
       "    </tr>\n",
       "    <tr>\n",
       "      <th>AGE</th>\n",
       "      <td>0.219647</td>\n",
       "      <td>0.212769</td>\n",
       "      <td>60.921563</td>\n",
       "      <td>0.0</td>\n",
       "    </tr>\n",
       "    <tr>\n",
       "      <th>SEX</th>\n",
       "      <td>0.173051</td>\n",
       "      <td>0.175876</td>\n",
       "      <td>3161.748943</td>\n",
       "      <td>0.0</td>\n",
       "    </tr>\n",
       "    <tr>\n",
       "      <th>ANTIVIRALS</th>\n",
       "      <td>0.130196</td>\n",
       "      <td>0.108776</td>\n",
       "      <td>417.337875</td>\n",
       "      <td>0.0</td>\n",
       "    </tr>\n",
       "    <tr>\n",
       "      <th>HISTOLOGY</th>\n",
       "      <td>0.337856</td>\n",
       "      <td>0.456856</td>\n",
       "      <td>5880.578186</td>\n",
       "      <td>0.0</td>\n",
       "    </tr>\n",
       "  </tbody>\n",
       "</table>\n",
       "</div>"
      ],
      "text/plain": [
       "                 non_droped    droped      lg_rank  nan_count\n",
       "PROTIME            0.409160  0.395386    38.491482       67.0\n",
       "ALK PHOSPHATE      0.161204  0.189360     9.654885       29.0\n",
       "ALBUMIN            0.503272  0.477404   827.060061       16.0\n",
       "LIVER FIRM         0.063155  0.055978  1084.196624       11.0\n",
       "LIVER BIG          0.077630  0.194030  2567.756173       10.0\n",
       "BILIRUBIN          0.463752  0.351557  1672.353670        6.0\n",
       "SPLEEN PALPABLE    0.238734  0.135643   184.421600        5.0\n",
       "SPIDERS            0.398308  0.287839  1631.779574        5.0\n",
       "ASCITES            0.477882  0.479211    81.198687        5.0\n",
       "VARICES            0.368846  0.345785   555.714725        5.0\n",
       "SGOT               0.077678  0.078731    49.618460        4.0\n",
       "STEROID            0.134700  0.123830  4009.290221        1.0\n",
       "FATIGUE            0.309269  0.181151   899.404291        1.0\n",
       "MALAISE            0.337859  0.275595  2501.358687        1.0\n",
       "ANOREXIA           0.132172  0.185042  4352.902575        1.0\n",
       "AGE                0.219647  0.212769    60.921563        0.0\n",
       "SEX                0.173051  0.175876  3161.748943        0.0\n",
       "ANTIVIRALS         0.130196  0.108776   417.337875        0.0\n",
       "HISTOLOGY          0.337856  0.456856  5880.578186        0.0"
      ]
     },
     "execution_count": 112,
     "metadata": {},
     "output_type": "execute_result"
    }
   ],
   "source": [
    "fin.sort_values('nan_count', ascending=False)"
   ]
  },
  {
   "cell_type": "code",
   "execution_count": 113,
   "id": "7e8fa185-e7a2-4487-aff0-2f83c2d44495",
   "metadata": {
    "tags": []
   },
   "outputs": [
    {
     "data": {
      "text/plain": [
       "array([[ 9.3263544 , 23.13216009, 17.20201284,  1.88466035,  5.48166122,\n",
       "         7.22347112, 27.6294279 , 13.48118852,  0.12029684,  8.8819914 ,\n",
       "         3.34961467,  1.94109006,  5.29441419, 14.3828287 ,  7.10503654,\n",
       "        25.23084368,  4.67532783,  9.11951568, 16.65819391]])"
      ]
     },
     "execution_count": 113,
     "metadata": {},
     "output_type": "execute_result"
    }
   ],
   "source": [
    "abs(lg_s.coef_)"
   ]
  },
  {
   "cell_type": "code",
   "execution_count": 114,
   "id": "fb6a0358-663b-4e23-a25b-255ba5044642",
   "metadata": {
    "tags": []
   },
   "outputs": [],
   "source": [
    "fin['lgs_rank'] = lgs_rank"
   ]
  },
  {
   "cell_type": "code",
   "execution_count": 116,
   "id": "d14532e0-f1a2-48ed-8533-4de193f171dc",
   "metadata": {
    "tags": []
   },
   "outputs": [],
   "source": [
    "fin.sort_values('lgs_rank', ascending=False, inplace=True)"
   ]
  },
  {
   "cell_type": "code",
   "execution_count": 117,
   "id": "f26079e1-19cb-4a1e-a018-9677790afbc9",
   "metadata": {
    "tags": []
   },
   "outputs": [
    {
     "data": {
      "text/html": [
       "<div>\n",
       "<style scoped>\n",
       "    .dataframe tbody tr th:only-of-type {\n",
       "        vertical-align: middle;\n",
       "    }\n",
       "\n",
       "    .dataframe tbody tr th {\n",
       "        vertical-align: top;\n",
       "    }\n",
       "\n",
       "    .dataframe thead th {\n",
       "        text-align: right;\n",
       "    }\n",
       "</style>\n",
       "<table border=\"1\" class=\"dataframe\">\n",
       "  <thead>\n",
       "    <tr style=\"text-align: right;\">\n",
       "      <th></th>\n",
       "      <th>non_droped</th>\n",
       "      <th>droped</th>\n",
       "      <th>lg_rank</th>\n",
       "      <th>nan_count</th>\n",
       "      <th>lgs_rank</th>\n",
       "    </tr>\n",
       "  </thead>\n",
       "  <tbody>\n",
       "    <tr>\n",
       "      <th>ANOREXIA</th>\n",
       "      <td>0.132172</td>\n",
       "      <td>0.185042</td>\n",
       "      <td>4352.902575</td>\n",
       "      <td>1.0</td>\n",
       "      <td>27.629428</td>\n",
       "    </tr>\n",
       "    <tr>\n",
       "      <th>SGOT</th>\n",
       "      <td>0.077678</td>\n",
       "      <td>0.078731</td>\n",
       "      <td>49.618460</td>\n",
       "      <td>4.0</td>\n",
       "      <td>25.230844</td>\n",
       "    </tr>\n",
       "    <tr>\n",
       "      <th>SEX</th>\n",
       "      <td>0.173051</td>\n",
       "      <td>0.175876</td>\n",
       "      <td>3161.748943</td>\n",
       "      <td>0.0</td>\n",
       "      <td>23.132160</td>\n",
       "    </tr>\n",
       "    <tr>\n",
       "      <th>STEROID</th>\n",
       "      <td>0.134700</td>\n",
       "      <td>0.123830</td>\n",
       "      <td>4009.290221</td>\n",
       "      <td>1.0</td>\n",
       "      <td>17.202013</td>\n",
       "    </tr>\n",
       "    <tr>\n",
       "      <th>HISTOLOGY</th>\n",
       "      <td>0.337856</td>\n",
       "      <td>0.456856</td>\n",
       "      <td>5880.578186</td>\n",
       "      <td>0.0</td>\n",
       "      <td>16.658194</td>\n",
       "    </tr>\n",
       "    <tr>\n",
       "      <th>BILIRUBIN</th>\n",
       "      <td>0.463752</td>\n",
       "      <td>0.351557</td>\n",
       "      <td>1672.353670</td>\n",
       "      <td>6.0</td>\n",
       "      <td>14.382829</td>\n",
       "    </tr>\n",
       "    <tr>\n",
       "      <th>LIVER BIG</th>\n",
       "      <td>0.077630</td>\n",
       "      <td>0.194030</td>\n",
       "      <td>2567.756173</td>\n",
       "      <td>10.0</td>\n",
       "      <td>13.481189</td>\n",
       "    </tr>\n",
       "    <tr>\n",
       "      <th>AGE</th>\n",
       "      <td>0.219647</td>\n",
       "      <td>0.212769</td>\n",
       "      <td>60.921563</td>\n",
       "      <td>0.0</td>\n",
       "      <td>9.326354</td>\n",
       "    </tr>\n",
       "    <tr>\n",
       "      <th>PROTIME</th>\n",
       "      <td>0.409160</td>\n",
       "      <td>0.395386</td>\n",
       "      <td>38.491482</td>\n",
       "      <td>67.0</td>\n",
       "      <td>9.119516</td>\n",
       "    </tr>\n",
       "    <tr>\n",
       "      <th>SPLEEN PALPABLE</th>\n",
       "      <td>0.238734</td>\n",
       "      <td>0.135643</td>\n",
       "      <td>184.421600</td>\n",
       "      <td>5.0</td>\n",
       "      <td>8.881991</td>\n",
       "    </tr>\n",
       "    <tr>\n",
       "      <th>MALAISE</th>\n",
       "      <td>0.337859</td>\n",
       "      <td>0.275595</td>\n",
       "      <td>2501.358687</td>\n",
       "      <td>1.0</td>\n",
       "      <td>7.223471</td>\n",
       "    </tr>\n",
       "    <tr>\n",
       "      <th>ALK PHOSPHATE</th>\n",
       "      <td>0.161204</td>\n",
       "      <td>0.189360</td>\n",
       "      <td>9.654885</td>\n",
       "      <td>29.0</td>\n",
       "      <td>7.105037</td>\n",
       "    </tr>\n",
       "    <tr>\n",
       "      <th>FATIGUE</th>\n",
       "      <td>0.309269</td>\n",
       "      <td>0.181151</td>\n",
       "      <td>899.404291</td>\n",
       "      <td>1.0</td>\n",
       "      <td>5.481661</td>\n",
       "    </tr>\n",
       "    <tr>\n",
       "      <th>VARICES</th>\n",
       "      <td>0.368846</td>\n",
       "      <td>0.345785</td>\n",
       "      <td>555.714725</td>\n",
       "      <td>5.0</td>\n",
       "      <td>5.294414</td>\n",
       "    </tr>\n",
       "    <tr>\n",
       "      <th>ALBUMIN</th>\n",
       "      <td>0.503272</td>\n",
       "      <td>0.477404</td>\n",
       "      <td>827.060061</td>\n",
       "      <td>16.0</td>\n",
       "      <td>4.675328</td>\n",
       "    </tr>\n",
       "    <tr>\n",
       "      <th>SPIDERS</th>\n",
       "      <td>0.398308</td>\n",
       "      <td>0.287839</td>\n",
       "      <td>1631.779574</td>\n",
       "      <td>5.0</td>\n",
       "      <td>3.349615</td>\n",
       "    </tr>\n",
       "    <tr>\n",
       "      <th>ASCITES</th>\n",
       "      <td>0.477882</td>\n",
       "      <td>0.479211</td>\n",
       "      <td>81.198687</td>\n",
       "      <td>5.0</td>\n",
       "      <td>1.941090</td>\n",
       "    </tr>\n",
       "    <tr>\n",
       "      <th>ANTIVIRALS</th>\n",
       "      <td>0.130196</td>\n",
       "      <td>0.108776</td>\n",
       "      <td>417.337875</td>\n",
       "      <td>0.0</td>\n",
       "      <td>1.884660</td>\n",
       "    </tr>\n",
       "    <tr>\n",
       "      <th>LIVER FIRM</th>\n",
       "      <td>0.063155</td>\n",
       "      <td>0.055978</td>\n",
       "      <td>1084.196624</td>\n",
       "      <td>11.0</td>\n",
       "      <td>0.120297</td>\n",
       "    </tr>\n",
       "  </tbody>\n",
       "</table>\n",
       "</div>"
      ],
      "text/plain": [
       "                 non_droped    droped      lg_rank  nan_count   lgs_rank\n",
       "ANOREXIA           0.132172  0.185042  4352.902575        1.0  27.629428\n",
       "SGOT               0.077678  0.078731    49.618460        4.0  25.230844\n",
       "SEX                0.173051  0.175876  3161.748943        0.0  23.132160\n",
       "STEROID            0.134700  0.123830  4009.290221        1.0  17.202013\n",
       "HISTOLOGY          0.337856  0.456856  5880.578186        0.0  16.658194\n",
       "BILIRUBIN          0.463752  0.351557  1672.353670        6.0  14.382829\n",
       "LIVER BIG          0.077630  0.194030  2567.756173       10.0  13.481189\n",
       "AGE                0.219647  0.212769    60.921563        0.0   9.326354\n",
       "PROTIME            0.409160  0.395386    38.491482       67.0   9.119516\n",
       "SPLEEN PALPABLE    0.238734  0.135643   184.421600        5.0   8.881991\n",
       "MALAISE            0.337859  0.275595  2501.358687        1.0   7.223471\n",
       "ALK PHOSPHATE      0.161204  0.189360     9.654885       29.0   7.105037\n",
       "FATIGUE            0.309269  0.181151   899.404291        1.0   5.481661\n",
       "VARICES            0.368846  0.345785   555.714725        5.0   5.294414\n",
       "ALBUMIN            0.503272  0.477404   827.060061       16.0   4.675328\n",
       "SPIDERS            0.398308  0.287839  1631.779574        5.0   3.349615\n",
       "ASCITES            0.477882  0.479211    81.198687        5.0   1.941090\n",
       "ANTIVIRALS         0.130196  0.108776   417.337875        0.0   1.884660\n",
       "LIVER FIRM         0.063155  0.055978  1084.196624       11.0   0.120297"
      ]
     },
     "execution_count": 117,
     "metadata": {},
     "output_type": "execute_result"
    }
   ],
   "source": [
    "fin"
   ]
  },
  {
   "cell_type": "markdown",
   "id": "5ad0c4d4-8aa9-4921-8a8c-479953622e0d",
   "metadata": {},
   "source": [
    "# Modeling"
   ]
  },
  {
   "cell_type": "code",
   "execution_count": 118,
   "id": "75728964-d24a-452a-9eb7-4c0baff6e7ea",
   "metadata": {
    "tags": []
   },
   "outputs": [
    {
     "data": {
      "text/plain": [
       "Index(['ANOREXIA', 'SGOT', 'SEX', 'STEROID', 'HISTOLOGY', 'BILIRUBIN',\n",
       "       'LIVER BIG', 'AGE'],\n",
       "      dtype='object')"
      ]
     },
     "execution_count": 118,
     "metadata": {},
     "output_type": "execute_result"
    }
   ],
   "source": [
    "fin.index[:8]"
   ]
  },
  {
   "cell_type": "code",
   "execution_count": 119,
   "id": "4b444cf3-f8d2-4ba7-80ee-9ca0c50add16",
   "metadata": {
    "tags": []
   },
   "outputs": [
    {
     "data": {
      "text/html": [
       "<div>\n",
       "<style scoped>\n",
       "    .dataframe tbody tr th:only-of-type {\n",
       "        vertical-align: middle;\n",
       "    }\n",
       "\n",
       "    .dataframe tbody tr th {\n",
       "        vertical-align: top;\n",
       "    }\n",
       "\n",
       "    .dataframe thead th {\n",
       "        text-align: right;\n",
       "    }\n",
       "</style>\n",
       "<table border=\"1\" class=\"dataframe\">\n",
       "  <thead>\n",
       "    <tr style=\"text-align: right;\">\n",
       "      <th></th>\n",
       "      <th>ANOREXIA</th>\n",
       "      <th>SGOT</th>\n",
       "      <th>SEX</th>\n",
       "      <th>STEROID</th>\n",
       "      <th>HISTOLOGY</th>\n",
       "      <th>BILIRUBIN</th>\n",
       "      <th>LIVER BIG</th>\n",
       "      <th>AGE</th>\n",
       "    </tr>\n",
       "  </thead>\n",
       "  <tbody>\n",
       "    <tr>\n",
       "      <th>0</th>\n",
       "      <td>2.0</td>\n",
       "      <td>18.0</td>\n",
       "      <td>2</td>\n",
       "      <td>1.0</td>\n",
       "      <td>1</td>\n",
       "      <td>1.0</td>\n",
       "      <td>1.0</td>\n",
       "      <td>30</td>\n",
       "    </tr>\n",
       "    <tr>\n",
       "      <th>1</th>\n",
       "      <td>2.0</td>\n",
       "      <td>42.0</td>\n",
       "      <td>1</td>\n",
       "      <td>1.0</td>\n",
       "      <td>1</td>\n",
       "      <td>0.9</td>\n",
       "      <td>1.0</td>\n",
       "      <td>50</td>\n",
       "    </tr>\n",
       "    <tr>\n",
       "      <th>2</th>\n",
       "      <td>2.0</td>\n",
       "      <td>32.0</td>\n",
       "      <td>1</td>\n",
       "      <td>2.0</td>\n",
       "      <td>1</td>\n",
       "      <td>0.7</td>\n",
       "      <td>2.0</td>\n",
       "      <td>78</td>\n",
       "    </tr>\n",
       "    <tr>\n",
       "      <th>3</th>\n",
       "      <td>2.0</td>\n",
       "      <td>52.0</td>\n",
       "      <td>1</td>\n",
       "      <td>NaN</td>\n",
       "      <td>1</td>\n",
       "      <td>0.7</td>\n",
       "      <td>2.0</td>\n",
       "      <td>31</td>\n",
       "    </tr>\n",
       "    <tr>\n",
       "      <th>4</th>\n",
       "      <td>2.0</td>\n",
       "      <td>200.0</td>\n",
       "      <td>1</td>\n",
       "      <td>2.0</td>\n",
       "      <td>1</td>\n",
       "      <td>1.0</td>\n",
       "      <td>2.0</td>\n",
       "      <td>34</td>\n",
       "    </tr>\n",
       "    <tr>\n",
       "      <th>...</th>\n",
       "      <td>...</td>\n",
       "      <td>...</td>\n",
       "      <td>...</td>\n",
       "      <td>...</td>\n",
       "      <td>...</td>\n",
       "      <td>...</td>\n",
       "      <td>...</td>\n",
       "      <td>...</td>\n",
       "    </tr>\n",
       "    <tr>\n",
       "      <th>150</th>\n",
       "      <td>1.0</td>\n",
       "      <td>242.0</td>\n",
       "      <td>1</td>\n",
       "      <td>2.0</td>\n",
       "      <td>2</td>\n",
       "      <td>7.6</td>\n",
       "      <td>2.0</td>\n",
       "      <td>46</td>\n",
       "    </tr>\n",
       "    <tr>\n",
       "      <th>151</th>\n",
       "      <td>2.0</td>\n",
       "      <td>142.0</td>\n",
       "      <td>1</td>\n",
       "      <td>2.0</td>\n",
       "      <td>2</td>\n",
       "      <td>0.9</td>\n",
       "      <td>2.0</td>\n",
       "      <td>44</td>\n",
       "    </tr>\n",
       "    <tr>\n",
       "      <th>152</th>\n",
       "      <td>2.0</td>\n",
       "      <td>20.0</td>\n",
       "      <td>1</td>\n",
       "      <td>1.0</td>\n",
       "      <td>2</td>\n",
       "      <td>0.8</td>\n",
       "      <td>1.0</td>\n",
       "      <td>61</td>\n",
       "    </tr>\n",
       "    <tr>\n",
       "      <th>153</th>\n",
       "      <td>2.0</td>\n",
       "      <td>19.0</td>\n",
       "      <td>2</td>\n",
       "      <td>1.0</td>\n",
       "      <td>2</td>\n",
       "      <td>1.5</td>\n",
       "      <td>2.0</td>\n",
       "      <td>53</td>\n",
       "    </tr>\n",
       "    <tr>\n",
       "      <th>154</th>\n",
       "      <td>2.0</td>\n",
       "      <td>19.0</td>\n",
       "      <td>1</td>\n",
       "      <td>2.0</td>\n",
       "      <td>2</td>\n",
       "      <td>1.2</td>\n",
       "      <td>2.0</td>\n",
       "      <td>43</td>\n",
       "    </tr>\n",
       "  </tbody>\n",
       "</table>\n",
       "<p>155 rows × 8 columns</p>\n",
       "</div>"
      ],
      "text/plain": [
       "     ANOREXIA   SGOT  SEX  STEROID  HISTOLOGY  BILIRUBIN  LIVER BIG  AGE\n",
       "0         2.0   18.0    2      1.0          1        1.0        1.0   30\n",
       "1         2.0   42.0    1      1.0          1        0.9        1.0   50\n",
       "2         2.0   32.0    1      2.0          1        0.7        2.0   78\n",
       "3         2.0   52.0    1      NaN          1        0.7        2.0   31\n",
       "4         2.0  200.0    1      2.0          1        1.0        2.0   34\n",
       "..        ...    ...  ...      ...        ...        ...        ...  ...\n",
       "150       1.0  242.0    1      2.0          2        7.6        2.0   46\n",
       "151       2.0  142.0    1      2.0          2        0.9        2.0   44\n",
       "152       2.0   20.0    1      1.0          2        0.8        1.0   61\n",
       "153       2.0   19.0    2      1.0          2        1.5        2.0   53\n",
       "154       2.0   19.0    1      2.0          2        1.2        2.0   43\n",
       "\n",
       "[155 rows x 8 columns]"
      ]
     },
     "execution_count": 119,
     "metadata": {},
     "output_type": "execute_result"
    }
   ],
   "source": [
    "df.loc[:, fin.index[:8]]"
   ]
  },
  {
   "cell_type": "code",
   "execution_count": null,
   "id": "97d8be34-a2ab-4a2e-9bde-28d800a6166f",
   "metadata": {},
   "outputs": [],
   "source": []
  }
 ],
 "metadata": {
  "kernelspec": {
   "display_name": "Python 3 (ipykernel)",
   "language": "python",
   "name": "python3"
  },
  "language_info": {
   "codemirror_mode": {
    "name": "ipython",
    "version": 3
   },
   "file_extension": ".py",
   "mimetype": "text/x-python",
   "name": "python",
   "nbconvert_exporter": "python",
   "pygments_lexer": "ipython3",
   "version": "3.10.9"
  }
 },
 "nbformat": 4,
 "nbformat_minor": 5
}
