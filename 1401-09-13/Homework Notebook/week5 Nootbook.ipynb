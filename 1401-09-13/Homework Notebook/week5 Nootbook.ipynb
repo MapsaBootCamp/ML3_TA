{
 "cells": [
  {
   "cell_type": "markdown",
   "id": "40697c1c-cc86-4f20-9d5d-1e6c2979bc13",
   "metadata": {},
   "source": [
    "<br><p style=\"margin-left: 25%; font-size:20px;\">Machine Learning Camp: HomeWork 5</p><br>"
   ]
  },
  {
   "cell_type": "code",
   "execution_count": 2,
   "id": "c1efc540",
   "metadata": {},
   "outputs": [],
   "source": [
    "import pandas as pd\n",
    "import numpy as np\n",
    "import string\n",
    "import nltk\n",
    "from nltk.corpus import stopwords\n",
    "from nltk.tokenize import word_tokenize\n",
    "from wordcloud import WordCloud\n",
    "import matplotlib.pyplot as plt\n",
    "import re"
   ]
  },
  {
   "cell_type": "markdown",
   "id": "42e988e2-b110-4fe2-bb40-212815474940",
   "metadata": {
    "tags": []
   },
   "source": [
    "##\n",
    "<span style=\"font-wight:bold;font-size:20px\">1. Text Data analysis:</span> using “lincoln-last-speech.txt” which contains Lincoln’s last public address. Now answer the following questions and include your codes."
   ]
  },
  {
   "cell_type": "markdown",
   "id": "282ec989-2848-4256-b6dc-a62e95125d6b",
   "metadata": {},
   "source": [
    "##### a) Read the text and store the text in lAddress. Show the first 70 characters from the first element of the text."
   ]
  },
  {
   "cell_type": "code",
   "execution_count": 4,
   "id": "c76966b8-294e-4f78-8d0e-4be7b1523de1",
   "metadata": {},
   "outputs": [
    {
     "name": "stdout",
     "output_type": "stream",
     "text": [
      "We meet this evening, not in sorrow, but in gladness of heart. The evac\n"
     ]
    }
   ],
   "source": [
    "with open (\"data/lincoln-last-speech.txt\") as file:\n",
    "    lAddress = file.read()\n",
    "    print(lAddress[:71])"
   ]
  },
  {
   "cell_type": "markdown",
   "id": "b25c28dc-6d9d-4bcd-b864-e90754485c7e",
   "metadata": {},
   "source": [
    "##### b) Now we are interested in the words used in his speech. Extract all the words from lAddress, convert all of them to lower case and store the result in vWord. Display first few words."
   ]
  },
  {
   "cell_type": "code",
   "execution_count": 8,
   "id": "8637071d-ad2b-4b4a-807b-d0ef3826a55d",
   "metadata": {},
   "outputs": [
    {
     "name": "stdout",
     "output_type": "stream",
     "text": [
      "1.05 ms ± 4.71 µs per loop (mean ± std. dev. of 7 runs, 1,000 loops each)\n"
     ]
    }
   ],
   "source": [
    "%%timeit\n",
    "list_char = [i for i in lAddress if i not in string.punctuation]\n",
    "lAddress2 = \"\".join(list_char) \n",
    "lAddress2 = lAddress2.lower()"
   ]
  },
  {
   "cell_type": "code",
   "execution_count": 10,
   "id": "bdbb62eb-af94-4d80-a120-cec6fbde46f9",
   "metadata": {},
   "outputs": [
    {
     "name": "stdout",
     "output_type": "stream",
     "text": [
      "2.04 ms ± 42.1 µs per loop (mean ± std. dev. of 7 runs, 100 loops each)\n"
     ]
    }
   ],
   "source": [
    "%%timeit\n",
    "a = (i for i in lAddress)\n",
    "b = filter(lambda i : i in string.punctuation, a)\n",
    "lAddress2 = \"\".join(b) \n",
    "lAddress2 = lAddress2.lower()"
   ]
  },
  {
   "cell_type": "code",
   "execution_count": 6,
   "id": "75c96988-911e-4b6e-b1f1-f820849069a7",
   "metadata": {},
   "outputs": [
    {
     "name": "stdout",
     "output_type": "stream",
     "text": [
      "1.43 ms ± 62.7 µs per loop (mean ± std. dev. of 7 runs, 100 loops each)\n"
     ]
    }
   ],
   "source": [
    "%%timeit\n",
    "lAddress2 = \"\".join((i for i in lAddress if i not in string.punctuation)) \n",
    "lAddress2 = lAddress2.lower()"
   ]
  },
  {
   "cell_type": "code",
   "execution_count": 7,
   "id": "bef40c3d-da70-4e64-87ac-c2d699cbd017",
   "metadata": {},
   "outputs": [
    {
     "name": "stdout",
     "output_type": "stream",
     "text": [
      "2.28 ms ± 51.3 µs per loop (mean ± std. dev. of 7 runs, 100 loops each)\n"
     ]
    }
   ],
   "source": [
    "%%timeit\n",
    "lAddress2 = \"\".join((i.lower() for i in lAddress if i not in string.punctuation)) "
   ]
  },
  {
   "cell_type": "code",
   "execution_count": 12,
   "id": "d8213867-c02f-4a79-9f71-4850ad3ab8dc",
   "metadata": {},
   "outputs": [
    {
     "name": "stdout",
     "output_type": "stream",
     "text": [
      "27.5 µs ± 1.83 µs per loop (mean ± std. dev. of 7 runs, 10,000 loops each)\n"
     ]
    }
   ],
   "source": [
    "%%timeit\n",
    "table = str.maketrans(string.ascii_uppercase, string.ascii_lowercase, string.punctuation)\n",
    "lAddress_map = lAddress.translate(table)"
   ]
  },
  {
   "cell_type": "code",
   "execution_count": 6,
   "id": "e573539f-9802-45ec-8256-1eaf370b9e1b",
   "metadata": {},
   "outputs": [],
   "source": [
    "table = str.maketrans(string.ascii_uppercase, string.ascii_lowercase, string.punctuation)\n",
    "lAddress_map = lAddress.translate(table)"
   ]
  },
  {
   "cell_type": "markdown",
   "id": "2c4fcc2a-9df1-4c07-a15c-48f8af4ee698",
   "metadata": {},
   "source": [
    "Kind of tokenize [link](http://text-processing.com/demo/tokenize/)"
   ]
  },
  {
   "cell_type": "code",
   "execution_count": 7,
   "id": "870b68f2-eeeb-4a98-817c-aca8beb28694",
   "metadata": {},
   "outputs": [
    {
     "data": {
      "text/plain": [
       "['we', 'meet', 'this', 'evening', 'not']"
      ]
     },
     "execution_count": 7,
     "metadata": {},
     "output_type": "execute_result"
    }
   ],
   "source": [
    "word_token = word_tokenize(lAddress_map)\n",
    "word_token[:5]"
   ]
  },
  {
   "cell_type": "code",
   "execution_count": 9,
   "id": "c8223a43-0118-4f76-b3a5-ed4cd05c14c3",
   "metadata": {},
   "outputs": [
    {
     "name": "stdout",
     "output_type": "stream",
     "text": [
      "3.12 ms ± 82.5 µs per loop (mean ± std. dev. of 7 runs, 100 loops each)\n"
     ]
    }
   ],
   "source": [
    "%%timeit\n",
    "vWord=[]\n",
    "with open('data/lincoln-last-speech.txt','r') as IAddress:\n",
    "    for line in IAddress:\n",
    "        for word in line.split():\n",
    "            w=re.sub(r'[\\.\\,]','', word)\n",
    "            vWord.append(w.lower())\n",
    "vWord[0:5]"
   ]
  },
  {
   "cell_type": "code",
   "execution_count": 10,
   "id": "d0a83f01-4ee9-4e10-bd03-b17a443db715",
   "metadata": {},
   "outputs": [
    {
     "name": "stdout",
     "output_type": "stream",
     "text": [
      "3.06 ms ± 43.3 µs per loop (mean ± std. dev. of 7 runs, 100 loops each)\n"
     ]
    }
   ],
   "source": [
    "%%timeit\n",
    "vWord=[]\n",
    "vap = vWord.append\n",
    "with open('data/lincoln-last-speech.txt','r') as IAddress:\n",
    "    for line in IAddress:\n",
    "        for word in line.split():\n",
    "            w=re.sub(r'[\\.\\,]','', word)\n",
    "            vap(w.lower())\n",
    "vWord[0:5]"
   ]
  },
  {
   "cell_type": "markdown",
   "id": "ab02ba13-aecb-4c15-9f4b-a63e5ffadfd4",
   "metadata": {},
   "source": [
    "##### c) The words like am, is, my or through are not much of our interest and these types of words are called stop-words. Get all the English stop words and store them in sWord. Display few stop words in your report."
   ]
  },
  {
   "cell_type": "code",
   "execution_count": 11,
   "id": "d15a85b4-926b-4ecb-8b46-23b766865704",
   "metadata": {},
   "outputs": [
    {
     "data": {
      "text/plain": [
       "['i', 'me', 'my', 'myself', 'we']"
      ]
     },
     "execution_count": 11,
     "metadata": {},
     "output_type": "execute_result"
    }
   ],
   "source": [
    "sWord = stopwords.words(\"english\")\n",
    "sWord[0:5]"
   ]
  },
  {
   "cell_type": "markdown",
   "id": "00ab6e7e-d0cc-4ea3-bd77-e0a53b7d1fdf",
   "metadata": {},
   "source": [
    "##### d) Remove all the sWord from vWord and store the result in cleanWord. Display first few clean words."
   ]
  },
  {
   "cell_type": "code",
   "execution_count": 12,
   "id": "254af2d1-9fbf-4604-93f5-d0165054d07e",
   "metadata": {},
   "outputs": [
    {
     "name": "stdout",
     "output_type": "stream",
     "text": [
      "5.12 ms ± 300 µs per loop (mean ± std. dev. of 7 runs, 100 loops each)\n"
     ]
    }
   ],
   "source": [
    "%%timeit\n",
    "cleanWord = [w for w in word_token if w not in sWord ]"
   ]
  },
  {
   "cell_type": "code",
   "execution_count": 13,
   "id": "bcd74620-f5eb-402a-91dc-7a27652d079a",
   "metadata": {},
   "outputs": [
    {
     "name": "stdout",
     "output_type": "stream",
     "text": [
      "1.89 ms ± 118 µs per loop (mean ± std. dev. of 7 runs, 100 loops each)\n"
     ]
    }
   ],
   "source": [
    "%%timeit\n",
    "cleanWord=np.delete(word_token,np.where(np.isin(word_token,sWord)))"
   ]
  },
  {
   "cell_type": "code",
   "execution_count": 14,
   "id": "3b84f898-8311-473e-8125-3658bbfdc833",
   "metadata": {},
   "outputs": [
    {
     "name": "stdout",
     "output_type": "stream",
     "text": [
      "117 µs ± 1.91 µs per loop (mean ± std. dev. of 7 runs, 10,000 loops each)\n"
     ]
    }
   ],
   "source": [
    "%%timeit\n",
    "cleanWord = set(word_token) - set(sWord)"
   ]
  },
  {
   "cell_type": "code",
   "execution_count": 16,
   "id": "4c74e9dc-48c2-4b8c-8f3c-1490008c79cd",
   "metadata": {},
   "outputs": [
    {
     "data": {
      "text/plain": [
       "False"
      ]
     },
     "execution_count": 16,
     "metadata": {},
     "output_type": "execute_result"
    }
   ],
   "source": [
    "cleanWord = sorted([w for w in word_token if w not in sWord ])\n",
    "cleanWord2 = sorted(set(word_token) - set(sWord))\n",
    "cleanWord == cleanWord2"
   ]
  },
  {
   "cell_type": "code",
   "execution_count": 19,
   "id": "fbe2c6d3-f3b8-47ce-8d7a-a1ce4e989fc3",
   "metadata": {},
   "outputs": [
    {
     "data": {
      "text/plain": [
       "(830, 535)"
      ]
     },
     "execution_count": 19,
     "metadata": {},
     "output_type": "execute_result"
    }
   ],
   "source": [
    "len(cleanWord), len(cleanWord2)"
   ]
  },
  {
   "cell_type": "markdown",
   "id": "3e6eb98b-5a5b-499d-9802-f266e39e2701",
   "metadata": {},
   "source": [
    "##### f) Construct a bar chart showing the count of each words for the 15 most frequently used words."
   ]
  },
  {
   "cell_type": "code",
   "execution_count": 41,
   "id": "d50bd5d6-b976-46d0-b235-cd4eeff637ea",
   "metadata": {},
   "outputs": [
    {
     "name": "stdout",
     "output_type": "stream",
     "text": [
      "900 µs ± 66.4 µs per loop (mean ± std. dev. of 7 runs, 1,000 loops each)\n"
     ]
    }
   ],
   "source": [
    "%%timeit\n",
    "tmp = pd.Series(cleanWord).value_counts()\n",
    "a = tmp[:15]"
   ]
  },
  {
   "cell_type": "code",
   "execution_count": 17,
   "id": "ab746ffd-d88c-42bc-9caa-01703c4fb85a",
   "metadata": {},
   "outputs": [
    {
     "data": {
      "text/plain": [
       "louisiana     18\n",
       "government    12\n",
       "union         11\n",
       "plan          11\n",
       "states        10\n",
       "              ..\n",
       "gathering      1\n",
       "gallant        1\n",
       "front          1\n",
       "friends        1\n",
       "means          1\n",
       "Length: 535, dtype: int64"
      ]
     },
     "execution_count": 17,
     "metadata": {},
     "output_type": "execute_result"
    }
   ],
   "source": [
    "tmp = pd.Series(cleanWord).value_counts()\n",
    "tmp"
   ]
  },
  {
   "cell_type": "code",
   "execution_count": 43,
   "id": "4d472b19-b6b0-4d70-b0c6-fee58d9159af",
   "metadata": {},
   "outputs": [
    {
     "name": "stdout",
     "output_type": "stream",
     "text": [
      "1.5 ms ± 73.2 µs per loop (mean ± std. dev. of 7 runs, 1,000 loops each)\n"
     ]
    }
   ],
   "source": [
    "%%timeit\n",
    "tmp = pd.Series(cleanWord).value_counts(sort=False)\n",
    "b = tmp.nlargest(15)"
   ]
  },
  {
   "cell_type": "code",
   "execution_count": 44,
   "id": "c2205b56-ce3a-4a76-850d-9dd1da1e4a6b",
   "metadata": {},
   "outputs": [
    {
     "name": "stdout",
     "output_type": "stream",
     "text": [
      "1.81 ms ± 255 µs per loop (mean ± std. dev. of 7 runs, 100 loops each)\n"
     ]
    }
   ],
   "source": [
    "%%timeit\n",
    "tmp = pd.Series(cleanWord).value_counts()\n",
    "b = tmp.nlargest(15)"
   ]
  },
  {
   "cell_type": "code",
   "execution_count": 46,
   "id": "275083e3-bdce-4234-ac27-465d806cb74b",
   "metadata": {},
   "outputs": [],
   "source": [
    "tmp = pd.Series(cleanWord).value_counts()\n",
    "a = tmp[:15]  # Doen't need \"sort_values method\"\n",
    "b = tmp.nlargest(15)"
   ]
  },
  {
   "cell_type": "code",
   "execution_count": 45,
   "id": "0339bbb0-ae3e-4676-ab85-b887003fe595",
   "metadata": {},
   "outputs": [
    {
     "data": {
      "text/html": [
       "<div>\n",
       "<style scoped>\n",
       "    .dataframe tbody tr th:only-of-type {\n",
       "        vertical-align: middle;\n",
       "    }\n",
       "\n",
       "    .dataframe tbody tr th {\n",
       "        vertical-align: top;\n",
       "    }\n",
       "\n",
       "    .dataframe thead th {\n",
       "        text-align: right;\n",
       "    }\n",
       "</style>\n",
       "<table border=\"1\" class=\"dataframe\">\n",
       "  <thead>\n",
       "    <tr style=\"text-align: right;\">\n",
       "      <th></th>\n",
       "      <th>a</th>\n",
       "      <th>av</th>\n",
       "      <th>b</th>\n",
       "      <th>bv</th>\n",
       "    </tr>\n",
       "  </thead>\n",
       "  <tbody>\n",
       "    <tr>\n",
       "      <th>0</th>\n",
       "      <td>louisiana</td>\n",
       "      <td>18</td>\n",
       "      <td>louisiana</td>\n",
       "      <td>18</td>\n",
       "    </tr>\n",
       "    <tr>\n",
       "      <th>1</th>\n",
       "      <td>government</td>\n",
       "      <td>12</td>\n",
       "      <td>government</td>\n",
       "      <td>12</td>\n",
       "    </tr>\n",
       "    <tr>\n",
       "      <th>2</th>\n",
       "      <td>union</td>\n",
       "      <td>11</td>\n",
       "      <td>plan</td>\n",
       "      <td>11</td>\n",
       "    </tr>\n",
       "    <tr>\n",
       "      <th>3</th>\n",
       "      <td>plan</td>\n",
       "      <td>11</td>\n",
       "      <td>union</td>\n",
       "      <td>11</td>\n",
       "    </tr>\n",
       "    <tr>\n",
       "      <th>4</th>\n",
       "      <td>states</td>\n",
       "      <td>10</td>\n",
       "      <td>new</td>\n",
       "      <td>10</td>\n",
       "    </tr>\n",
       "    <tr>\n",
       "      <th>5</th>\n",
       "      <td>new</td>\n",
       "      <td>10</td>\n",
       "      <td>state</td>\n",
       "      <td>10</td>\n",
       "    </tr>\n",
       "    <tr>\n",
       "      <th>6</th>\n",
       "      <td>state</td>\n",
       "      <td>10</td>\n",
       "      <td>states</td>\n",
       "      <td>10</td>\n",
       "    </tr>\n",
       "    <tr>\n",
       "      <th>7</th>\n",
       "      <td>would</td>\n",
       "      <td>8</td>\n",
       "      <td>proper</td>\n",
       "      <td>8</td>\n",
       "    </tr>\n",
       "    <tr>\n",
       "      <th>8</th>\n",
       "      <td>proper</td>\n",
       "      <td>8</td>\n",
       "      <td>would</td>\n",
       "      <td>8</td>\n",
       "    </tr>\n",
       "    <tr>\n",
       "      <th>9</th>\n",
       "      <td>question</td>\n",
       "      <td>7</td>\n",
       "      <td>question</td>\n",
       "      <td>7</td>\n",
       "    </tr>\n",
       "    <tr>\n",
       "      <th>10</th>\n",
       "      <td>one</td>\n",
       "      <td>6</td>\n",
       "      <td>one</td>\n",
       "      <td>6</td>\n",
       "    </tr>\n",
       "    <tr>\n",
       "      <th>11</th>\n",
       "      <td>whether</td>\n",
       "      <td>6</td>\n",
       "      <td>whether</td>\n",
       "      <td>6</td>\n",
       "    </tr>\n",
       "    <tr>\n",
       "      <th>12</th>\n",
       "      <td>man</td>\n",
       "      <td>5</td>\n",
       "      <td>congress</td>\n",
       "      <td>5</td>\n",
       "    </tr>\n",
       "    <tr>\n",
       "      <th>13</th>\n",
       "      <td>thousand</td>\n",
       "      <td>5</td>\n",
       "      <td>man</td>\n",
       "      <td>5</td>\n",
       "    </tr>\n",
       "    <tr>\n",
       "      <th>14</th>\n",
       "      <td>congress</td>\n",
       "      <td>5</td>\n",
       "      <td>must</td>\n",
       "      <td>5</td>\n",
       "    </tr>\n",
       "  </tbody>\n",
       "</table>\n",
       "</div>"
      ],
      "text/plain": [
       "             a  av           b  bv\n",
       "0    louisiana  18   louisiana  18\n",
       "1   government  12  government  12\n",
       "2        union  11        plan  11\n",
       "3         plan  11       union  11\n",
       "4       states  10         new  10\n",
       "5          new  10       state  10\n",
       "6        state  10      states  10\n",
       "7        would   8      proper   8\n",
       "8       proper   8       would   8\n",
       "9     question   7    question   7\n",
       "10         one   6         one   6\n",
       "11     whether   6     whether   6\n",
       "12         man   5    congress   5\n",
       "13    thousand   5         man   5\n",
       "14    congress   5        must   5"
      ]
     },
     "execution_count": 45,
     "metadata": {},
     "output_type": "execute_result"
    }
   ],
   "source": [
    "pd.DataFrame({\n",
    "    'a':a.index,\n",
    "    'av':a.values,\n",
    "    'b':b.index,\n",
    "    'bv':b.values,\n",
    "})"
   ]
  },
  {
   "cell_type": "code",
   "execution_count": 18,
   "id": "4256b7dd-9680-4852-be6c-f1b4aa51cfb8",
   "metadata": {},
   "outputs": [
    {
     "data": {
      "text/plain": [
       "<AxesSubplot: >"
      ]
     },
     "execution_count": 18,
     "metadata": {},
     "output_type": "execute_result"
    },
    {
     "data": {
      "image/png": "[encoded data removed]",
      "text/plain": [
       "<Figure size 640x480 with 1 Axes>"
      ]
     },
     "metadata": {},
     "output_type": "display_data"
    }
   ],
   "source": [
    "tmp[:15].plot(kind = \"bar\")"
   ]
  },
  {
   "cell_type": "markdown",
   "id": "5bc31d42-0a8b-42f1-8237-e26aff5a3dbd",
   "metadata": {},
   "source": [
    "##### h) The plot in question (1f) uses bar plot to display the data. Can you think of another plot that delivers the same information but looks much simpler? Demonstrate your answer by generating such a plot."
   ]
  },
  {
   "cell_type": "code",
   "execution_count": 19,
   "id": "f9be269c-45fa-46e7-b90a-4a7f6cf7ccf1",
   "metadata": {},
   "outputs": [],
   "source": [
    "def my_wordcloud(my_txt):\n",
    "    wordcloud = WordCloud(width = 800, height = 800, \n",
    "                          background_color ='black', \n",
    "                          colormap='Set2',\n",
    "                          collocations=False,\n",
    "                          stopwords = stopwords.words('english'),\n",
    "                          min_font_size = 10).generate(my_txt)\n",
    "\n",
    "    plt.figure(figsize = (3, 3), facecolor = None)\n",
    "    plt.imshow(wordcloud)\n",
    "    plt.axis('off')\n",
    "    plt.tight_layout(pad = 0)\n",
    "    plt.show()"
   ]
  },
  {
   "cell_type": "code",
   "execution_count": 22,
   "id": "ad6781ed-002f-46c1-b9a1-d681a378bea0",
   "metadata": {},
   "outputs": [
    {
     "data": {
      "image/png": "[encoded data removed]",
      "text/plain": [
       "<Figure size 300x300 with 1 Axes>"
      ]
     },
     "metadata": {},
     "output_type": "display_data"
    }
   ],
   "source": [
    "my_wordcloud(str(cleanWord))"
   ]
  },
  {
   "cell_type": "markdown",
   "id": "c1312b9d-a0d5-43f6-94a6-5cd97c1b5455",
   "metadata": {
    "tags": []
   },
   "source": [
    "##\n",
    "<span style=\"font-wight:bold;font-size:20px\">2. Answering Questions from Data:</span> Download the data from [ \n",
    "https://github.com/MapsaBootCamp/useful_datasets/blob/master/structuralData/flights.csv ]. Answer the following questions using this data.\n"
   ]
  },
  {
   "cell_type": "code",
   "execution_count": 27,
   "id": "2ca4a324-169a-45fc-9ecf-ec05f5015910",
   "metadata": {},
   "outputs": [],
   "source": [
    "data = pd.read_csv('data/flights.zip')"
   ]
  },
  {
   "cell_type": "code",
   "execution_count": 59,
   "id": "f3fbab2c-7f67-4ac7-a43c-e168a0b7fa4e",
   "metadata": {},
   "outputs": [
    {
     "data": {
      "text/html": [
       "<div>\n",
       "<style scoped>\n",
       "    .dataframe tbody tr th:only-of-type {\n",
       "        vertical-align: middle;\n",
       "    }\n",
       "\n",
       "    .dataframe tbody tr th {\n",
       "        vertical-align: top;\n",
       "    }\n",
       "\n",
       "    .dataframe thead th {\n",
       "        text-align: right;\n",
       "    }\n",
       "</style>\n",
       "<table border=\"1\" class=\"dataframe\">\n",
       "  <thead>\n",
       "    <tr style=\"text-align: right;\">\n",
       "      <th></th>\n",
       "      <th>0</th>\n",
       "      <th>1</th>\n",
       "      <th>2</th>\n",
       "      <th>3</th>\n",
       "      <th>4</th>\n",
       "      <th>5</th>\n",
       "      <th>6</th>\n",
       "      <th>7</th>\n",
       "      <th>8</th>\n",
       "      <th>9</th>\n",
       "      <th>...</th>\n",
       "      <th>336766</th>\n",
       "      <th>336767</th>\n",
       "      <th>336768</th>\n",
       "      <th>336769</th>\n",
       "      <th>336770</th>\n",
       "      <th>336771</th>\n",
       "      <th>336772</th>\n",
       "      <th>336773</th>\n",
       "      <th>336774</th>\n",
       "      <th>336775</th>\n",
       "    </tr>\n",
       "  </thead>\n",
       "  <tbody>\n",
       "    <tr>\n",
       "      <th>year</th>\n",
       "      <td>2013</td>\n",
       "      <td>2013</td>\n",
       "      <td>2013</td>\n",
       "      <td>2013</td>\n",
       "      <td>2013</td>\n",
       "      <td>2013</td>\n",
       "      <td>2013</td>\n",
       "      <td>2013</td>\n",
       "      <td>2013</td>\n",
       "      <td>2013</td>\n",
       "      <td>...</td>\n",
       "      <td>2013</td>\n",
       "      <td>2013</td>\n",
       "      <td>2013</td>\n",
       "      <td>2013</td>\n",
       "      <td>2013</td>\n",
       "      <td>2013</td>\n",
       "      <td>2013</td>\n",
       "      <td>2013</td>\n",
       "      <td>2013</td>\n",
       "      <td>2013</td>\n",
       "    </tr>\n",
       "    <tr>\n",
       "      <th>month</th>\n",
       "      <td>1</td>\n",
       "      <td>1</td>\n",
       "      <td>1</td>\n",
       "      <td>1</td>\n",
       "      <td>1</td>\n",
       "      <td>1</td>\n",
       "      <td>1</td>\n",
       "      <td>1</td>\n",
       "      <td>1</td>\n",
       "      <td>1</td>\n",
       "      <td>...</td>\n",
       "      <td>9</td>\n",
       "      <td>9</td>\n",
       "      <td>9</td>\n",
       "      <td>9</td>\n",
       "      <td>9</td>\n",
       "      <td>9</td>\n",
       "      <td>9</td>\n",
       "      <td>9</td>\n",
       "      <td>9</td>\n",
       "      <td>9</td>\n",
       "    </tr>\n",
       "    <tr>\n",
       "      <th>day</th>\n",
       "      <td>1</td>\n",
       "      <td>1</td>\n",
       "      <td>1</td>\n",
       "      <td>1</td>\n",
       "      <td>1</td>\n",
       "      <td>1</td>\n",
       "      <td>1</td>\n",
       "      <td>1</td>\n",
       "      <td>1</td>\n",
       "      <td>1</td>\n",
       "      <td>...</td>\n",
       "      <td>30</td>\n",
       "      <td>30</td>\n",
       "      <td>30</td>\n",
       "      <td>30</td>\n",
       "      <td>30</td>\n",
       "      <td>30</td>\n",
       "      <td>30</td>\n",
       "      <td>30</td>\n",
       "      <td>30</td>\n",
       "      <td>30</td>\n",
       "    </tr>\n",
       "    <tr>\n",
       "      <th>dep_time</th>\n",
       "      <td>517.0</td>\n",
       "      <td>533.0</td>\n",
       "      <td>542.0</td>\n",
       "      <td>544.0</td>\n",
       "      <td>554.0</td>\n",
       "      <td>554.0</td>\n",
       "      <td>555.0</td>\n",
       "      <td>557.0</td>\n",
       "      <td>557.0</td>\n",
       "      <td>558.0</td>\n",
       "      <td>...</td>\n",
       "      <td>2240.0</td>\n",
       "      <td>2241.0</td>\n",
       "      <td>2307.0</td>\n",
       "      <td>2349.0</td>\n",
       "      <td>NaN</td>\n",
       "      <td>NaN</td>\n",
       "      <td>NaN</td>\n",
       "      <td>NaN</td>\n",
       "      <td>NaN</td>\n",
       "      <td>NaN</td>\n",
       "    </tr>\n",
       "    <tr>\n",
       "      <th>sched_dep_time</th>\n",
       "      <td>515</td>\n",
       "      <td>529</td>\n",
       "      <td>540</td>\n",
       "      <td>545</td>\n",
       "      <td>600</td>\n",
       "      <td>558</td>\n",
       "      <td>600</td>\n",
       "      <td>600</td>\n",
       "      <td>600</td>\n",
       "      <td>600</td>\n",
       "      <td>...</td>\n",
       "      <td>2250</td>\n",
       "      <td>2246</td>\n",
       "      <td>2255</td>\n",
       "      <td>2359</td>\n",
       "      <td>1842</td>\n",
       "      <td>1455</td>\n",
       "      <td>2200</td>\n",
       "      <td>1210</td>\n",
       "      <td>1159</td>\n",
       "      <td>840</td>\n",
       "    </tr>\n",
       "    <tr>\n",
       "      <th>dep_delay</th>\n",
       "      <td>2.0</td>\n",
       "      <td>4.0</td>\n",
       "      <td>2.0</td>\n",
       "      <td>-1.0</td>\n",
       "      <td>-6.0</td>\n",
       "      <td>-4.0</td>\n",
       "      <td>-5.0</td>\n",
       "      <td>-3.0</td>\n",
       "      <td>-3.0</td>\n",
       "      <td>-2.0</td>\n",
       "      <td>...</td>\n",
       "      <td>-10.0</td>\n",
       "      <td>-5.0</td>\n",
       "      <td>12.0</td>\n",
       "      <td>-10.0</td>\n",
       "      <td>NaN</td>\n",
       "      <td>NaN</td>\n",
       "      <td>NaN</td>\n",
       "      <td>NaN</td>\n",
       "      <td>NaN</td>\n",
       "      <td>NaN</td>\n",
       "    </tr>\n",
       "    <tr>\n",
       "      <th>arr_time</th>\n",
       "      <td>830.0</td>\n",
       "      <td>850.0</td>\n",
       "      <td>923.0</td>\n",
       "      <td>1004.0</td>\n",
       "      <td>812.0</td>\n",
       "      <td>740.0</td>\n",
       "      <td>913.0</td>\n",
       "      <td>709.0</td>\n",
       "      <td>838.0</td>\n",
       "      <td>753.0</td>\n",
       "      <td>...</td>\n",
       "      <td>2347.0</td>\n",
       "      <td>2345.0</td>\n",
       "      <td>2359.0</td>\n",
       "      <td>325.0</td>\n",
       "      <td>NaN</td>\n",
       "      <td>NaN</td>\n",
       "      <td>NaN</td>\n",
       "      <td>NaN</td>\n",
       "      <td>NaN</td>\n",
       "      <td>NaN</td>\n",
       "    </tr>\n",
       "    <tr>\n",
       "      <th>sched_arr_time</th>\n",
       "      <td>819</td>\n",
       "      <td>830</td>\n",
       "      <td>850</td>\n",
       "      <td>1022</td>\n",
       "      <td>837</td>\n",
       "      <td>728</td>\n",
       "      <td>854</td>\n",
       "      <td>723</td>\n",
       "      <td>846</td>\n",
       "      <td>745</td>\n",
       "      <td>...</td>\n",
       "      <td>7</td>\n",
       "      <td>1</td>\n",
       "      <td>2358</td>\n",
       "      <td>350</td>\n",
       "      <td>2019</td>\n",
       "      <td>1634</td>\n",
       "      <td>2312</td>\n",
       "      <td>1330</td>\n",
       "      <td>1344</td>\n",
       "      <td>1020</td>\n",
       "    </tr>\n",
       "    <tr>\n",
       "      <th>arr_delay</th>\n",
       "      <td>11.0</td>\n",
       "      <td>20.0</td>\n",
       "      <td>33.0</td>\n",
       "      <td>-18.0</td>\n",
       "      <td>-25.0</td>\n",
       "      <td>12.0</td>\n",
       "      <td>19.0</td>\n",
       "      <td>-14.0</td>\n",
       "      <td>-8.0</td>\n",
       "      <td>8.0</td>\n",
       "      <td>...</td>\n",
       "      <td>-20.0</td>\n",
       "      <td>-16.0</td>\n",
       "      <td>1.0</td>\n",
       "      <td>-25.0</td>\n",
       "      <td>NaN</td>\n",
       "      <td>NaN</td>\n",
       "      <td>NaN</td>\n",
       "      <td>NaN</td>\n",
       "      <td>NaN</td>\n",
       "      <td>NaN</td>\n",
       "    </tr>\n",
       "    <tr>\n",
       "      <th>carrier</th>\n",
       "      <td>UA</td>\n",
       "      <td>UA</td>\n",
       "      <td>AA</td>\n",
       "      <td>B6</td>\n",
       "      <td>DL</td>\n",
       "      <td>UA</td>\n",
       "      <td>B6</td>\n",
       "      <td>EV</td>\n",
       "      <td>B6</td>\n",
       "      <td>AA</td>\n",
       "      <td>...</td>\n",
       "      <td>B6</td>\n",
       "      <td>B6</td>\n",
       "      <td>B6</td>\n",
       "      <td>B6</td>\n",
       "      <td>EV</td>\n",
       "      <td>9E</td>\n",
       "      <td>9E</td>\n",
       "      <td>MQ</td>\n",
       "      <td>MQ</td>\n",
       "      <td>MQ</td>\n",
       "    </tr>\n",
       "    <tr>\n",
       "      <th>flight</th>\n",
       "      <td>1545</td>\n",
       "      <td>1714</td>\n",
       "      <td>1141</td>\n",
       "      <td>725</td>\n",
       "      <td>461</td>\n",
       "      <td>1696</td>\n",
       "      <td>507</td>\n",
       "      <td>5708</td>\n",
       "      <td>79</td>\n",
       "      <td>301</td>\n",
       "      <td>...</td>\n",
       "      <td>2002</td>\n",
       "      <td>486</td>\n",
       "      <td>718</td>\n",
       "      <td>745</td>\n",
       "      <td>5274</td>\n",
       "      <td>3393</td>\n",
       "      <td>3525</td>\n",
       "      <td>3461</td>\n",
       "      <td>3572</td>\n",
       "      <td>3531</td>\n",
       "    </tr>\n",
       "    <tr>\n",
       "      <th>tailnum</th>\n",
       "      <td>N14228</td>\n",
       "      <td>N24211</td>\n",
       "      <td>N619AA</td>\n",
       "      <td>N804JB</td>\n",
       "      <td>N668DN</td>\n",
       "      <td>N39463</td>\n",
       "      <td>N516JB</td>\n",
       "      <td>N829AS</td>\n",
       "      <td>N593JB</td>\n",
       "      <td>N3ALAA</td>\n",
       "      <td>...</td>\n",
       "      <td>N281JB</td>\n",
       "      <td>N346JB</td>\n",
       "      <td>N565JB</td>\n",
       "      <td>N516JB</td>\n",
       "      <td>N740EV</td>\n",
       "      <td>NaN</td>\n",
       "      <td>NaN</td>\n",
       "      <td>N535MQ</td>\n",
       "      <td>N511MQ</td>\n",
       "      <td>N839MQ</td>\n",
       "    </tr>\n",
       "    <tr>\n",
       "      <th>origin</th>\n",
       "      <td>EWR</td>\n",
       "      <td>LGA</td>\n",
       "      <td>JFK</td>\n",
       "      <td>JFK</td>\n",
       "      <td>LGA</td>\n",
       "      <td>EWR</td>\n",
       "      <td>EWR</td>\n",
       "      <td>LGA</td>\n",
       "      <td>JFK</td>\n",
       "      <td>LGA</td>\n",
       "      <td>...</td>\n",
       "      <td>JFK</td>\n",
       "      <td>JFK</td>\n",
       "      <td>JFK</td>\n",
       "      <td>JFK</td>\n",
       "      <td>LGA</td>\n",
       "      <td>JFK</td>\n",
       "      <td>LGA</td>\n",
       "      <td>LGA</td>\n",
       "      <td>LGA</td>\n",
       "      <td>LGA</td>\n",
       "    </tr>\n",
       "    <tr>\n",
       "      <th>dest</th>\n",
       "      <td>IAH</td>\n",
       "      <td>IAH</td>\n",
       "      <td>MIA</td>\n",
       "      <td>BQN</td>\n",
       "      <td>ATL</td>\n",
       "      <td>ORD</td>\n",
       "      <td>FLL</td>\n",
       "      <td>IAD</td>\n",
       "      <td>MCO</td>\n",
       "      <td>ORD</td>\n",
       "      <td>...</td>\n",
       "      <td>BUF</td>\n",
       "      <td>ROC</td>\n",
       "      <td>BOS</td>\n",
       "      <td>PSE</td>\n",
       "      <td>BNA</td>\n",
       "      <td>DCA</td>\n",
       "      <td>SYR</td>\n",
       "      <td>BNA</td>\n",
       "      <td>CLE</td>\n",
       "      <td>RDU</td>\n",
       "    </tr>\n",
       "    <tr>\n",
       "      <th>air_time</th>\n",
       "      <td>227.0</td>\n",
       "      <td>227.0</td>\n",
       "      <td>160.0</td>\n",
       "      <td>183.0</td>\n",
       "      <td>116.0</td>\n",
       "      <td>150.0</td>\n",
       "      <td>158.0</td>\n",
       "      <td>53.0</td>\n",
       "      <td>140.0</td>\n",
       "      <td>138.0</td>\n",
       "      <td>...</td>\n",
       "      <td>52.0</td>\n",
       "      <td>47.0</td>\n",
       "      <td>33.0</td>\n",
       "      <td>196.0</td>\n",
       "      <td>NaN</td>\n",
       "      <td>NaN</td>\n",
       "      <td>NaN</td>\n",
       "      <td>NaN</td>\n",
       "      <td>NaN</td>\n",
       "      <td>NaN</td>\n",
       "    </tr>\n",
       "    <tr>\n",
       "      <th>distance</th>\n",
       "      <td>1400</td>\n",
       "      <td>1416</td>\n",
       "      <td>1089</td>\n",
       "      <td>1576</td>\n",
       "      <td>762</td>\n",
       "      <td>719</td>\n",
       "      <td>1065</td>\n",
       "      <td>229</td>\n",
       "      <td>944</td>\n",
       "      <td>733</td>\n",
       "      <td>...</td>\n",
       "      <td>301</td>\n",
       "      <td>264</td>\n",
       "      <td>187</td>\n",
       "      <td>1617</td>\n",
       "      <td>764</td>\n",
       "      <td>213</td>\n",
       "      <td>198</td>\n",
       "      <td>764</td>\n",
       "      <td>419</td>\n",
       "      <td>431</td>\n",
       "    </tr>\n",
       "    <tr>\n",
       "      <th>hour</th>\n",
       "      <td>5</td>\n",
       "      <td>5</td>\n",
       "      <td>5</td>\n",
       "      <td>5</td>\n",
       "      <td>6</td>\n",
       "      <td>5</td>\n",
       "      <td>6</td>\n",
       "      <td>6</td>\n",
       "      <td>6</td>\n",
       "      <td>6</td>\n",
       "      <td>...</td>\n",
       "      <td>22</td>\n",
       "      <td>22</td>\n",
       "      <td>22</td>\n",
       "      <td>23</td>\n",
       "      <td>18</td>\n",
       "      <td>14</td>\n",
       "      <td>22</td>\n",
       "      <td>12</td>\n",
       "      <td>11</td>\n",
       "      <td>8</td>\n",
       "    </tr>\n",
       "    <tr>\n",
       "      <th>minute</th>\n",
       "      <td>15</td>\n",
       "      <td>29</td>\n",
       "      <td>40</td>\n",
       "      <td>45</td>\n",
       "      <td>0</td>\n",
       "      <td>58</td>\n",
       "      <td>0</td>\n",
       "      <td>0</td>\n",
       "      <td>0</td>\n",
       "      <td>0</td>\n",
       "      <td>...</td>\n",
       "      <td>50</td>\n",
       "      <td>46</td>\n",
       "      <td>55</td>\n",
       "      <td>59</td>\n",
       "      <td>42</td>\n",
       "      <td>55</td>\n",
       "      <td>0</td>\n",
       "      <td>10</td>\n",
       "      <td>59</td>\n",
       "      <td>40</td>\n",
       "    </tr>\n",
       "    <tr>\n",
       "      <th>time_hour</th>\n",
       "      <td>2013-01-01 05:00:00</td>\n",
       "      <td>2013-01-01 05:00:00</td>\n",
       "      <td>2013-01-01 05:00:00</td>\n",
       "      <td>2013-01-01 05:00:00</td>\n",
       "      <td>2013-01-01 06:00:00</td>\n",
       "      <td>2013-01-01 05:00:00</td>\n",
       "      <td>2013-01-01 06:00:00</td>\n",
       "      <td>2013-01-01 06:00:00</td>\n",
       "      <td>2013-01-01 06:00:00</td>\n",
       "      <td>2013-01-01 06:00:00</td>\n",
       "      <td>...</td>\n",
       "      <td>2013-09-30 22:00:00</td>\n",
       "      <td>2013-09-30 22:00:00</td>\n",
       "      <td>2013-09-30 22:00:00</td>\n",
       "      <td>2013-09-30 23:00:00</td>\n",
       "      <td>2013-09-30 18:00:00</td>\n",
       "      <td>2013-09-30 14:00:00</td>\n",
       "      <td>2013-09-30 22:00:00</td>\n",
       "      <td>2013-09-30 12:00:00</td>\n",
       "      <td>2013-09-30 11:00:00</td>\n",
       "      <td>2013-09-30 08:00:00</td>\n",
       "    </tr>\n",
       "  </tbody>\n",
       "</table>\n",
       "<p>19 rows × 336776 columns</p>\n",
       "</div>"
      ],
      "text/plain": [
       "                             0                    1                    2       \\\n",
       "year                           2013                 2013                 2013   \n",
       "month                             1                    1                    1   \n",
       "day                               1                    1                    1   \n",
       "dep_time                      517.0                533.0                542.0   \n",
       "sched_dep_time                  515                  529                  540   \n",
       "dep_delay                       2.0                  4.0                  2.0   \n",
       "arr_time                      830.0                850.0                923.0   \n",
       "sched_arr_time                  819                  830                  850   \n",
       "arr_delay                      11.0                 20.0                 33.0   \n",
       "carrier                          UA                   UA                   AA   \n",
       "flight                         1545                 1714                 1141   \n",
       "tailnum                      N14228               N24211               N619AA   \n",
       "origin                          EWR                  LGA                  JFK   \n",
       "dest                            IAH                  IAH                  MIA   \n",
       "air_time                      227.0                227.0                160.0   \n",
       "distance                       1400                 1416                 1089   \n",
       "hour                              5                    5                    5   \n",
       "minute                           15                   29                   40   \n",
       "time_hour       2013-01-01 05:00:00  2013-01-01 05:00:00  2013-01-01 05:00:00   \n",
       "\n",
       "                             3                    4                    5       \\\n",
       "year                           2013                 2013                 2013   \n",
       "month                             1                    1                    1   \n",
       "day                               1                    1                    1   \n",
       "dep_time                      544.0                554.0                554.0   \n",
       "sched_dep_time                  545                  600                  558   \n",
       "dep_delay                      -1.0                 -6.0                 -4.0   \n",
       "arr_time                     1004.0                812.0                740.0   \n",
       "sched_arr_time                 1022                  837                  728   \n",
       "arr_delay                     -18.0                -25.0                 12.0   \n",
       "carrier                          B6                   DL                   UA   \n",
       "flight                          725                  461                 1696   \n",
       "tailnum                      N804JB               N668DN               N39463   \n",
       "origin                          JFK                  LGA                  EWR   \n",
       "dest                            BQN                  ATL                  ORD   \n",
       "air_time                      183.0                116.0                150.0   \n",
       "distance                       1576                  762                  719   \n",
       "hour                              5                    6                    5   \n",
       "minute                           45                    0                   58   \n",
       "time_hour       2013-01-01 05:00:00  2013-01-01 06:00:00  2013-01-01 05:00:00   \n",
       "\n",
       "                             6                    7                    8       \\\n",
       "year                           2013                 2013                 2013   \n",
       "month                             1                    1                    1   \n",
       "day                               1                    1                    1   \n",
       "dep_time                      555.0                557.0                557.0   \n",
       "sched_dep_time                  600                  600                  600   \n",
       "dep_delay                      -5.0                 -3.0                 -3.0   \n",
       "arr_time                      913.0                709.0                838.0   \n",
       "sched_arr_time                  854                  723                  846   \n",
       "arr_delay                      19.0                -14.0                 -8.0   \n",
       "carrier                          B6                   EV                   B6   \n",
       "flight                          507                 5708                   79   \n",
       "tailnum                      N516JB               N829AS               N593JB   \n",
       "origin                          EWR                  LGA                  JFK   \n",
       "dest                            FLL                  IAD                  MCO   \n",
       "air_time                      158.0                 53.0                140.0   \n",
       "distance                       1065                  229                  944   \n",
       "hour                              6                    6                    6   \n",
       "minute                            0                    0                    0   \n",
       "time_hour       2013-01-01 06:00:00  2013-01-01 06:00:00  2013-01-01 06:00:00   \n",
       "\n",
       "                             9       ...               336766  \\\n",
       "year                           2013  ...                 2013   \n",
       "month                             1  ...                    9   \n",
       "day                               1  ...                   30   \n",
       "dep_time                      558.0  ...               2240.0   \n",
       "sched_dep_time                  600  ...                 2250   \n",
       "dep_delay                      -2.0  ...                -10.0   \n",
       "arr_time                      753.0  ...               2347.0   \n",
       "sched_arr_time                  745  ...                    7   \n",
       "arr_delay                       8.0  ...                -20.0   \n",
       "carrier                          AA  ...                   B6   \n",
       "flight                          301  ...                 2002   \n",
       "tailnum                      N3ALAA  ...               N281JB   \n",
       "origin                          LGA  ...                  JFK   \n",
       "dest                            ORD  ...                  BUF   \n",
       "air_time                      138.0  ...                 52.0   \n",
       "distance                        733  ...                  301   \n",
       "hour                              6  ...                   22   \n",
       "minute                            0  ...                   50   \n",
       "time_hour       2013-01-01 06:00:00  ...  2013-09-30 22:00:00   \n",
       "\n",
       "                             336767               336768               336769  \\\n",
       "year                           2013                 2013                 2013   \n",
       "month                             9                    9                    9   \n",
       "day                              30                   30                   30   \n",
       "dep_time                     2241.0               2307.0               2349.0   \n",
       "sched_dep_time                 2246                 2255                 2359   \n",
       "dep_delay                      -5.0                 12.0                -10.0   \n",
       "arr_time                     2345.0               2359.0                325.0   \n",
       "sched_arr_time                    1                 2358                  350   \n",
       "arr_delay                     -16.0                  1.0                -25.0   \n",
       "carrier                          B6                   B6                   B6   \n",
       "flight                          486                  718                  745   \n",
       "tailnum                      N346JB               N565JB               N516JB   \n",
       "origin                          JFK                  JFK                  JFK   \n",
       "dest                            ROC                  BOS                  PSE   \n",
       "air_time                       47.0                 33.0                196.0   \n",
       "distance                        264                  187                 1617   \n",
       "hour                             22                   22                   23   \n",
       "minute                           46                   55                   59   \n",
       "time_hour       2013-09-30 22:00:00  2013-09-30 22:00:00  2013-09-30 23:00:00   \n",
       "\n",
       "                             336770               336771               336772  \\\n",
       "year                           2013                 2013                 2013   \n",
       "month                             9                    9                    9   \n",
       "day                              30                   30                   30   \n",
       "dep_time                        NaN                  NaN                  NaN   \n",
       "sched_dep_time                 1842                 1455                 2200   \n",
       "dep_delay                       NaN                  NaN                  NaN   \n",
       "arr_time                        NaN                  NaN                  NaN   \n",
       "sched_arr_time                 2019                 1634                 2312   \n",
       "arr_delay                       NaN                  NaN                  NaN   \n",
       "carrier                          EV                   9E                   9E   \n",
       "flight                         5274                 3393                 3525   \n",
       "tailnum                      N740EV                  NaN                  NaN   \n",
       "origin                          LGA                  JFK                  LGA   \n",
       "dest                            BNA                  DCA                  SYR   \n",
       "air_time                        NaN                  NaN                  NaN   \n",
       "distance                        764                  213                  198   \n",
       "hour                             18                   14                   22   \n",
       "minute                           42                   55                    0   \n",
       "time_hour       2013-09-30 18:00:00  2013-09-30 14:00:00  2013-09-30 22:00:00   \n",
       "\n",
       "                             336773               336774               336775  \n",
       "year                           2013                 2013                 2013  \n",
       "month                             9                    9                    9  \n",
       "day                              30                   30                   30  \n",
       "dep_time                        NaN                  NaN                  NaN  \n",
       "sched_dep_time                 1210                 1159                  840  \n",
       "dep_delay                       NaN                  NaN                  NaN  \n",
       "arr_time                        NaN                  NaN                  NaN  \n",
       "sched_arr_time                 1330                 1344                 1020  \n",
       "arr_delay                       NaN                  NaN                  NaN  \n",
       "carrier                          MQ                   MQ                   MQ  \n",
       "flight                         3461                 3572                 3531  \n",
       "tailnum                      N535MQ               N511MQ               N839MQ  \n",
       "origin                          LGA                  LGA                  LGA  \n",
       "dest                            BNA                  CLE                  RDU  \n",
       "air_time                        NaN                  NaN                  NaN  \n",
       "distance                        764                  419                  431  \n",
       "hour                             12                   11                    8  \n",
       "minute                           10                   59                   40  \n",
       "time_hour       2013-09-30 12:00:00  2013-09-30 11:00:00  2013-09-30 08:00:00  \n",
       "\n",
       "[19 rows x 336776 columns]"
      ]
     },
     "execution_count": 59,
     "metadata": {},
     "output_type": "execute_result"
    }
   ],
   "source": [
    "data.T"
   ]
  },
  {
   "cell_type": "code",
   "execution_count": 60,
   "id": "9c062093-efc1-48bc-a878-d42a68e42e0a",
   "metadata": {},
   "outputs": [
    {
     "data": {
      "text/plain": [
       "array([2013], dtype=int64)"
      ]
     },
     "execution_count": 60,
     "metadata": {},
     "output_type": "execute_result"
    }
   ],
   "source": [
    "data.year.unique()"
   ]
  },
  {
   "cell_type": "markdown",
   "id": "92251706-a801-42d7-be40-9d00e46b31f7",
   "metadata": {
    "tags": []
   },
   "source": [
    "##### a) What month had the highest proportion of cancelled flights? What month had the lowest? Interpretany seasonal patterns. Please produce a plot that illustrates the proportion of cancelled flights for each month."
   ]
  },
  {
   "cell_type": "code",
   "execution_count": 33,
   "id": "b8056722-2b15-429b-b436-1aeb7f712531",
   "metadata": {},
   "outputs": [
    {
     "data": {
      "text/plain": [
       "2     1261\n",
       "12    1025\n",
       "6     1009\n",
       "7      940\n",
       "3      861\n",
       "4      668\n",
       "5      563\n",
       "1      521\n",
       "8      486\n",
       "9      452\n",
       "10     236\n",
       "11     233\n",
       "Name: month, dtype: int64"
      ]
     },
     "execution_count": 33,
     "metadata": {},
     "output_type": "execute_result"
    }
   ],
   "source": [
    "monthly_cancelation = data.loc[data[\"dep_time\"].isnull(), 'month'].value_counts()\n",
    "monthly_cancelation"
   ]
  },
  {
   "cell_type": "code",
   "execution_count": 34,
   "id": "61da5002-a774-48fd-b3ab-8c98ec8f34ff",
   "metadata": {},
   "outputs": [
    {
     "data": {
      "text/plain": [
       "7     29425\n",
       "8     29327\n",
       "10    28889\n",
       "3     28834\n",
       "5     28796\n",
       "4     28330\n",
       "6     28243\n",
       "12    28135\n",
       "9     27574\n",
       "11    27268\n",
       "1     27004\n",
       "2     24951\n",
       "Name: month, dtype: int64"
      ]
     },
     "execution_count": 34,
     "metadata": {},
     "output_type": "execute_result"
    }
   ],
   "source": [
    "monthly_flight = data.month.value_counts()\n",
    "monthly_flight"
   ]
  },
  {
   "cell_type": "code",
   "execution_count": 35,
   "id": "7ae702fa-f493-446c-8ed1-a1fbe515ed25",
   "metadata": {},
   "outputs": [
    {
     "data": {
      "text/plain": [
       "7     29425\n",
       "8     29327\n",
       "10    28889\n",
       "3     28834\n",
       "5     28796\n",
       "4     28330\n",
       "6     28243\n",
       "12    28135\n",
       "9     27574\n",
       "11    27268\n",
       "1     27004\n",
       "2     24951\n",
       "13    75484\n",
       "Name: month, dtype: int64"
      ]
     },
     "execution_count": 35,
     "metadata": {},
     "output_type": "execute_result"
    }
   ],
   "source": [
    "monthly_flight[13]=75484\n",
    "monthly_flight"
   ]
  },
  {
   "cell_type": "code",
   "execution_count": 36,
   "id": "f27ded7f-4b0c-4a2a-97b8-0018cdc17de3",
   "metadata": {},
   "outputs": [
    {
     "data": {
      "text/plain": [
       "1     0.019293\n",
       "2     0.050539\n",
       "3     0.029861\n",
       "4     0.023579\n",
       "5     0.019551\n",
       "6     0.035726\n",
       "7     0.031946\n",
       "8     0.016572\n",
       "9     0.016392\n",
       "10    0.008169\n",
       "11    0.008545\n",
       "12    0.036431\n",
       "13         NaN\n",
       "Name: month, dtype: float64"
      ]
     },
     "execution_count": 36,
     "metadata": {},
     "output_type": "execute_result"
    }
   ],
   "source": [
    "monthly_cancelation_proportion = monthly_cancelation / monthly_flight\n",
    "monthly_cancelation_proportion"
   ]
  },
  {
   "cell_type": "code",
   "execution_count": 31,
   "id": "6c9262e8",
   "metadata": {},
   "outputs": [
    {
     "data": {
      "text/plain": [
       "highest proportion of cancelation:    1\n",
       "lowest proportion of cancelation:     9\n",
       "Name: month, dtype: int64"
      ]
     },
     "execution_count": 31,
     "metadata": {},
     "output_type": "execute_result"
    }
   ],
   "source": [
    "monthly_cancelation_proportion.apply({\n",
    "    'highest proportion of cancelation:':'argmax',\n",
    "    'lowest proportion of cancelation:':'argmin'\n",
    "})"
   ]
  },
  {
   "cell_type": "code",
   "execution_count": 32,
   "id": "c4db20ad",
   "metadata": {},
   "outputs": [
    {
     "data": {
      "image/png": "[encoded data removed]",
      "text/plain": [
       "<Figure size 640x480 with 1 Axes>"
      ]
     },
     "metadata": {},
     "output_type": "display_data"
    }
   ],
   "source": [
    "ax = monthly_cancelation_proportion.plot(kind = \"bar\")\n",
    "_ = ax.set(\n",
    "    title = 'proportion of cancelled flights',\n",
    "    xlabel= 'Month Number',\n",
    "    ylabel='Monthly Fraction'\n",
    ")"
   ]
  },
  {
   "cell_type": "code",
   "execution_count": 228,
   "id": "3a287729-6791-40d6-8df5-07a8668038c0",
   "metadata": {},
   "outputs": [],
   "source": [
    "data[\"is_canceled\"] = data[\"arr_time\"].isna() # .apply(lambda x: True if x else False) "
   ]
  },
  {
   "cell_type": "code",
   "execution_count": null,
   "id": "a2736607-0227-44d4-b06f-4e4fa08952c2",
   "metadata": {},
   "outputs": [],
   "source": [
    "data['Cancel']=data['arr_time'].apply(lambda x:True if x==0 else False)"
   ]
  },
  {
   "cell_type": "code",
   "execution_count": 231,
   "id": "98579109-a879-45f4-9c6a-a7f2eb63ac21",
   "metadata": {
    "collapsed": true,
    "jupyter": {
     "outputs_hidden": true
    },
    "tags": []
   },
   "outputs": [
    {
     "name": "stderr",
     "output_type": "stream",
     "text": [
      "<magic-timeit>:1: FutureWarning: The default value of numeric_only in DataFrameGroupBy.sum is deprecated. In a future version, numeric_only will default to False. Either specify numeric_only or select only columns which should be valid for the function.\n",
      "<magic-timeit>:1: FutureWarning: The default value of numeric_only in DataFrameGroupBy.sum is deprecated. In a future version, numeric_only will default to False. Either specify numeric_only or select only columns which should be valid for the function.\n",
      "<magic-timeit>:1: FutureWarning: The default value of numeric_only in DataFrameGroupBy.sum is deprecated. In a future version, numeric_only will default to False. Either specify numeric_only or select only columns which should be valid for the function.\n",
      "<magic-timeit>:1: FutureWarning: The default value of numeric_only in DataFrameGroupBy.sum is deprecated. In a future version, numeric_only will default to False. Either specify numeric_only or select only columns which should be valid for the function.\n",
      "<magic-timeit>:1: FutureWarning: The default value of numeric_only in DataFrameGroupBy.sum is deprecated. In a future version, numeric_only will default to False. Either specify numeric_only or select only columns which should be valid for the function.\n",
      "<magic-timeit>:1: FutureWarning: The default value of numeric_only in DataFrameGroupBy.sum is deprecated. In a future version, numeric_only will default to False. Either specify numeric_only or select only columns which should be valid for the function.\n",
      "<magic-timeit>:1: FutureWarning: The default value of numeric_only in DataFrameGroupBy.sum is deprecated. In a future version, numeric_only will default to False. Either specify numeric_only or select only columns which should be valid for the function.\n",
      "<magic-timeit>:1: FutureWarning: The default value of numeric_only in DataFrameGroupBy.sum is deprecated. In a future version, numeric_only will default to False. Either specify numeric_only or select only columns which should be valid for the function.\n",
      "<magic-timeit>:1: FutureWarning: The default value of numeric_only in DataFrameGroupBy.sum is deprecated. In a future version, numeric_only will default to False. Either specify numeric_only or select only columns which should be valid for the function.\n",
      "<magic-timeit>:1: FutureWarning: The default value of numeric_only in DataFrameGroupBy.sum is deprecated. In a future version, numeric_only will default to False. Either specify numeric_only or select only columns which should be valid for the function.\n",
      "<magic-timeit>:1: FutureWarning: The default value of numeric_only in DataFrameGroupBy.sum is deprecated. In a future version, numeric_only will default to False. Either specify numeric_only or select only columns which should be valid for the function.\n",
      "<magic-timeit>:1: FutureWarning: The default value of numeric_only in DataFrameGroupBy.sum is deprecated. In a future version, numeric_only will default to False. Either specify numeric_only or select only columns which should be valid for the function.\n",
      "<magic-timeit>:1: FutureWarning: The default value of numeric_only in DataFrameGroupBy.sum is deprecated. In a future version, numeric_only will default to False. Either specify numeric_only or select only columns which should be valid for the function.\n",
      "<magic-timeit>:1: FutureWarning: The default value of numeric_only in DataFrameGroupBy.sum is deprecated. In a future version, numeric_only will default to False. Either specify numeric_only or select only columns which should be valid for the function.\n",
      "<magic-timeit>:1: FutureWarning: The default value of numeric_only in DataFrameGroupBy.sum is deprecated. In a future version, numeric_only will default to False. Either specify numeric_only or select only columns which should be valid for the function.\n",
      "<magic-timeit>:1: FutureWarning: The default value of numeric_only in DataFrameGroupBy.sum is deprecated. In a future version, numeric_only will default to False. Either specify numeric_only or select only columns which should be valid for the function.\n",
      "<magic-timeit>:1: FutureWarning: The default value of numeric_only in DataFrameGroupBy.sum is deprecated. In a future version, numeric_only will default to False. Either specify numeric_only or select only columns which should be valid for the function.\n",
      "<magic-timeit>:1: FutureWarning: The default value of numeric_only in DataFrameGroupBy.sum is deprecated. In a future version, numeric_only will default to False. Either specify numeric_only or select only columns which should be valid for the function.\n",
      "<magic-timeit>:1: FutureWarning: The default value of numeric_only in DataFrameGroupBy.sum is deprecated. In a future version, numeric_only will default to False. Either specify numeric_only or select only columns which should be valid for the function.\n",
      "<magic-timeit>:1: FutureWarning: The default value of numeric_only in DataFrameGroupBy.sum is deprecated. In a future version, numeric_only will default to False. Either specify numeric_only or select only columns which should be valid for the function.\n",
      "<magic-timeit>:1: FutureWarning: The default value of numeric_only in DataFrameGroupBy.sum is deprecated. In a future version, numeric_only will default to False. Either specify numeric_only or select only columns which should be valid for the function.\n",
      "<magic-timeit>:1: FutureWarning: The default value of numeric_only in DataFrameGroupBy.sum is deprecated. In a future version, numeric_only will default to False. Either specify numeric_only or select only columns which should be valid for the function.\n",
      "<magic-timeit>:1: FutureWarning: The default value of numeric_only in DataFrameGroupBy.sum is deprecated. In a future version, numeric_only will default to False. Either specify numeric_only or select only columns which should be valid for the function.\n",
      "<magic-timeit>:1: FutureWarning: The default value of numeric_only in DataFrameGroupBy.sum is deprecated. In a future version, numeric_only will default to False. Either specify numeric_only or select only columns which should be valid for the function.\n",
      "<magic-timeit>:1: FutureWarning: The default value of numeric_only in DataFrameGroupBy.sum is deprecated. In a future version, numeric_only will default to False. Either specify numeric_only or select only columns which should be valid for the function.\n",
      "<magic-timeit>:1: FutureWarning: The default value of numeric_only in DataFrameGroupBy.sum is deprecated. In a future version, numeric_only will default to False. Either specify numeric_only or select only columns which should be valid for the function.\n",
      "<magic-timeit>:1: FutureWarning: The default value of numeric_only in DataFrameGroupBy.sum is deprecated. In a future version, numeric_only will default to False. Either specify numeric_only or select only columns which should be valid for the function.\n",
      "<magic-timeit>:1: FutureWarning: The default value of numeric_only in DataFrameGroupBy.sum is deprecated. In a future version, numeric_only will default to False. Either specify numeric_only or select only columns which should be valid for the function.\n",
      "<magic-timeit>:1: FutureWarning: The default value of numeric_only in DataFrameGroupBy.sum is deprecated. In a future version, numeric_only will default to False. Either specify numeric_only or select only columns which should be valid for the function.\n",
      "<magic-timeit>:1: FutureWarning: The default value of numeric_only in DataFrameGroupBy.sum is deprecated. In a future version, numeric_only will default to False. Either specify numeric_only or select only columns which should be valid for the function.\n",
      "<magic-timeit>:1: FutureWarning: The default value of numeric_only in DataFrameGroupBy.sum is deprecated. In a future version, numeric_only will default to False. Either specify numeric_only or select only columns which should be valid for the function.\n",
      "<magic-timeit>:1: FutureWarning: The default value of numeric_only in DataFrameGroupBy.sum is deprecated. In a future version, numeric_only will default to False. Either specify numeric_only or select only columns which should be valid for the function.\n",
      "<magic-timeit>:1: FutureWarning: The default value of numeric_only in DataFrameGroupBy.sum is deprecated. In a future version, numeric_only will default to False. Either specify numeric_only or select only columns which should be valid for the function.\n",
      "<magic-timeit>:1: FutureWarning: The default value of numeric_only in DataFrameGroupBy.sum is deprecated. In a future version, numeric_only will default to False. Either specify numeric_only or select only columns which should be valid for the function.\n",
      "<magic-timeit>:1: FutureWarning: The default value of numeric_only in DataFrameGroupBy.sum is deprecated. In a future version, numeric_only will default to False. Either specify numeric_only or select only columns which should be valid for the function.\n",
      "<magic-timeit>:1: FutureWarning: The default value of numeric_only in DataFrameGroupBy.sum is deprecated. In a future version, numeric_only will default to False. Either specify numeric_only or select only columns which should be valid for the function.\n",
      "<magic-timeit>:1: FutureWarning: The default value of numeric_only in DataFrameGroupBy.sum is deprecated. In a future version, numeric_only will default to False. Either specify numeric_only or select only columns which should be valid for the function.\n",
      "<magic-timeit>:1: FutureWarning: The default value of numeric_only in DataFrameGroupBy.sum is deprecated. In a future version, numeric_only will default to False. Either specify numeric_only or select only columns which should be valid for the function.\n",
      "<magic-timeit>:1: FutureWarning: The default value of numeric_only in DataFrameGroupBy.sum is deprecated. In a future version, numeric_only will default to False. Either specify numeric_only or select only columns which should be valid for the function.\n",
      "<magic-timeit>:1: FutureWarning: The default value of numeric_only in DataFrameGroupBy.sum is deprecated. In a future version, numeric_only will default to False. Either specify numeric_only or select only columns which should be valid for the function.\n",
      "<magic-timeit>:1: FutureWarning: The default value of numeric_only in DataFrameGroupBy.sum is deprecated. In a future version, numeric_only will default to False. Either specify numeric_only or select only columns which should be valid for the function.\n",
      "<magic-timeit>:1: FutureWarning: The default value of numeric_only in DataFrameGroupBy.sum is deprecated. In a future version, numeric_only will default to False. Either specify numeric_only or select only columns which should be valid for the function.\n",
      "<magic-timeit>:1: FutureWarning: The default value of numeric_only in DataFrameGroupBy.sum is deprecated. In a future version, numeric_only will default to False. Either specify numeric_only or select only columns which should be valid for the function.\n",
      "<magic-timeit>:1: FutureWarning: The default value of numeric_only in DataFrameGroupBy.sum is deprecated. In a future version, numeric_only will default to False. Either specify numeric_only or select only columns which should be valid for the function.\n",
      "<magic-timeit>:1: FutureWarning: The default value of numeric_only in DataFrameGroupBy.sum is deprecated. In a future version, numeric_only will default to False. Either specify numeric_only or select only columns which should be valid for the function.\n",
      "<magic-timeit>:1: FutureWarning: The default value of numeric_only in DataFrameGroupBy.sum is deprecated. In a future version, numeric_only will default to False. Either specify numeric_only or select only columns which should be valid for the function.\n",
      "<magic-timeit>:1: FutureWarning: The default value of numeric_only in DataFrameGroupBy.sum is deprecated. In a future version, numeric_only will default to False. Either specify numeric_only or select only columns which should be valid for the function.\n",
      "<magic-timeit>:1: FutureWarning: The default value of numeric_only in DataFrameGroupBy.sum is deprecated. In a future version, numeric_only will default to False. Either specify numeric_only or select only columns which should be valid for the function.\n",
      "<magic-timeit>:1: FutureWarning: The default value of numeric_only in DataFrameGroupBy.sum is deprecated. In a future version, numeric_only will default to False. Either specify numeric_only or select only columns which should be valid for the function.\n",
      "<magic-timeit>:1: FutureWarning: The default value of numeric_only in DataFrameGroupBy.sum is deprecated. In a future version, numeric_only will default to False. Either specify numeric_only or select only columns which should be valid for the function.\n",
      "<magic-timeit>:1: FutureWarning: The default value of numeric_only in DataFrameGroupBy.sum is deprecated. In a future version, numeric_only will default to False. Either specify numeric_only or select only columns which should be valid for the function.\n",
      "<magic-timeit>:1: FutureWarning: The default value of numeric_only in DataFrameGroupBy.sum is deprecated. In a future version, numeric_only will default to False. Either specify numeric_only or select only columns which should be valid for the function.\n",
      "<magic-timeit>:1: FutureWarning: The default value of numeric_only in DataFrameGroupBy.sum is deprecated. In a future version, numeric_only will default to False. Either specify numeric_only or select only columns which should be valid for the function.\n",
      "<magic-timeit>:1: FutureWarning: The default value of numeric_only in DataFrameGroupBy.sum is deprecated. In a future version, numeric_only will default to False. Either specify numeric_only or select only columns which should be valid for the function.\n",
      "<magic-timeit>:1: FutureWarning: The default value of numeric_only in DataFrameGroupBy.sum is deprecated. In a future version, numeric_only will default to False. Either specify numeric_only or select only columns which should be valid for the function.\n",
      "<magic-timeit>:1: FutureWarning: The default value of numeric_only in DataFrameGroupBy.sum is deprecated. In a future version, numeric_only will default to False. Either specify numeric_only or select only columns which should be valid for the function.\n",
      "<magic-timeit>:1: FutureWarning: The default value of numeric_only in DataFrameGroupBy.sum is deprecated. In a future version, numeric_only will default to False. Either specify numeric_only or select only columns which should be valid for the function.\n",
      "<magic-timeit>:1: FutureWarning: The default value of numeric_only in DataFrameGroupBy.sum is deprecated. In a future version, numeric_only will default to False. Either specify numeric_only or select only columns which should be valid for the function.\n",
      "<magic-timeit>:1: FutureWarning: The default value of numeric_only in DataFrameGroupBy.sum is deprecated. In a future version, numeric_only will default to False. Either specify numeric_only or select only columns which should be valid for the function.\n",
      "<magic-timeit>:1: FutureWarning: The default value of numeric_only in DataFrameGroupBy.sum is deprecated. In a future version, numeric_only will default to False. Either specify numeric_only or select only columns which should be valid for the function.\n",
      "<magic-timeit>:1: FutureWarning: The default value of numeric_only in DataFrameGroupBy.sum is deprecated. In a future version, numeric_only will default to False. Either specify numeric_only or select only columns which should be valid for the function.\n",
      "<magic-timeit>:1: FutureWarning: The default value of numeric_only in DataFrameGroupBy.sum is deprecated. In a future version, numeric_only will default to False. Either specify numeric_only or select only columns which should be valid for the function.\n",
      "<magic-timeit>:1: FutureWarning: The default value of numeric_only in DataFrameGroupBy.sum is deprecated. In a future version, numeric_only will default to False. Either specify numeric_only or select only columns which should be valid for the function.\n",
      "<magic-timeit>:1: FutureWarning: The default value of numeric_only in DataFrameGroupBy.sum is deprecated. In a future version, numeric_only will default to False. Either specify numeric_only or select only columns which should be valid for the function.\n",
      "<magic-timeit>:1: FutureWarning: The default value of numeric_only in DataFrameGroupBy.sum is deprecated. In a future version, numeric_only will default to False. Either specify numeric_only or select only columns which should be valid for the function.\n",
      "<magic-timeit>:1: FutureWarning: The default value of numeric_only in DataFrameGroupBy.sum is deprecated. In a future version, numeric_only will default to False. Either specify numeric_only or select only columns which should be valid for the function.\n",
      "<magic-timeit>:1: FutureWarning: The default value of numeric_only in DataFrameGroupBy.sum is deprecated. In a future version, numeric_only will default to False. Either specify numeric_only or select only columns which should be valid for the function.\n",
      "<magic-timeit>:1: FutureWarning: The default value of numeric_only in DataFrameGroupBy.sum is deprecated. In a future version, numeric_only will default to False. Either specify numeric_only or select only columns which should be valid for the function.\n",
      "<magic-timeit>:1: FutureWarning: The default value of numeric_only in DataFrameGroupBy.sum is deprecated. In a future version, numeric_only will default to False. Either specify numeric_only or select only columns which should be valid for the function.\n",
      "<magic-timeit>:1: FutureWarning: The default value of numeric_only in DataFrameGroupBy.sum is deprecated. In a future version, numeric_only will default to False. Either specify numeric_only or select only columns which should be valid for the function.\n",
      "<magic-timeit>:1: FutureWarning: The default value of numeric_only in DataFrameGroupBy.sum is deprecated. In a future version, numeric_only will default to False. Either specify numeric_only or select only columns which should be valid for the function.\n",
      "<magic-timeit>:1: FutureWarning: The default value of numeric_only in DataFrameGroupBy.sum is deprecated. In a future version, numeric_only will default to False. Either specify numeric_only or select only columns which should be valid for the function.\n",
      "<magic-timeit>:1: FutureWarning: The default value of numeric_only in DataFrameGroupBy.sum is deprecated. In a future version, numeric_only will default to False. Either specify numeric_only or select only columns which should be valid for the function.\n",
      "<magic-timeit>:1: FutureWarning: The default value of numeric_only in DataFrameGroupBy.sum is deprecated. In a future version, numeric_only will default to False. Either specify numeric_only or select only columns which should be valid for the function.\n",
      "<magic-timeit>:1: FutureWarning: The default value of numeric_only in DataFrameGroupBy.sum is deprecated. In a future version, numeric_only will default to False. Either specify numeric_only or select only columns which should be valid for the function.\n",
      "<magic-timeit>:1: FutureWarning: The default value of numeric_only in DataFrameGroupBy.sum is deprecated. In a future version, numeric_only will default to False. Either specify numeric_only or select only columns which should be valid for the function.\n",
      "<magic-timeit>:1: FutureWarning: The default value of numeric_only in DataFrameGroupBy.sum is deprecated. In a future version, numeric_only will default to False. Either specify numeric_only or select only columns which should be valid for the function.\n",
      "<magic-timeit>:1: FutureWarning: The default value of numeric_only in DataFrameGroupBy.sum is deprecated. In a future version, numeric_only will default to False. Either specify numeric_only or select only columns which should be valid for the function.\n",
      "<magic-timeit>:1: FutureWarning: The default value of numeric_only in DataFrameGroupBy.sum is deprecated. In a future version, numeric_only will default to False. Either specify numeric_only or select only columns which should be valid for the function.\n",
      "<magic-timeit>:1: FutureWarning: The default value of numeric_only in DataFrameGroupBy.sum is deprecated. In a future version, numeric_only will default to False. Either specify numeric_only or select only columns which should be valid for the function.\n"
     ]
    },
    {
     "name": "stdout",
     "output_type": "stream",
     "text": [
      "43.7 ms ± 1.37 ms per loop (mean ± std. dev. of 7 runs, 10 loops each)\n"
     ]
    },
    {
     "name": "stderr",
     "output_type": "stream",
     "text": [
      "<magic-timeit>:1: FutureWarning: The default value of numeric_only in DataFrameGroupBy.sum is deprecated. In a future version, numeric_only will default to False. Either specify numeric_only or select only columns which should be valid for the function.\n"
     ]
    }
   ],
   "source": [
    "%%timeit\n",
    "data.groupby(\"month\",as_index=True).sum()[\"is_canceled\"]"
   ]
  },
  {
   "cell_type": "code",
   "execution_count": 232,
   "id": "ef4450e9-2f76-4096-9e36-1f6ba747b8a6",
   "metadata": {},
   "outputs": [
    {
     "name": "stdout",
     "output_type": "stream",
     "text": [
      "11.4 ms ± 85.5 µs per loop (mean ± std. dev. of 7 runs, 100 loops each)\n"
     ]
    }
   ],
   "source": [
    "%%timeit\n",
    "data.groupby(\"month\",as_index=True).is_canceled.sum()"
   ]
  },
  {
   "cell_type": "code",
   "execution_count": 239,
   "id": "9533a0e9-38d1-48c2-b9a0-716165d2b899",
   "metadata": {},
   "outputs": [
    {
     "name": "stdout",
     "output_type": "stream",
     "text": [
      "11.3 ms ± 641 µs per loop (mean ± std. dev. of 7 runs, 100 loops each)\n"
     ]
    }
   ],
   "source": [
    "%%timeit\n",
    "data.groupby(\"month\",as_index=True).size()"
   ]
  },
  {
   "cell_type": "code",
   "execution_count": 240,
   "id": "fabba091-9d4e-4a91-877d-4f303ff983ee",
   "metadata": {},
   "outputs": [
    {
     "name": "stdout",
     "output_type": "stream",
     "text": [
      "4.09 ms ± 56 µs per loop (mean ± std. dev. of 7 runs, 100 loops each)\n"
     ]
    }
   ],
   "source": [
    "%%timeit\n",
    "data.month.value_counts(sort=False)"
   ]
  },
  {
   "cell_type": "markdown",
   "id": "1cda509a-5148-462d-a1af-b444de62308c",
   "metadata": {},
   "source": [
    "##### b) What plane (specified by the tailnum variable) traveled the most times from New York City airports in 2013? Plot the number of trips per week over the year."
   ]
  },
  {
   "cell_type": "code",
   "execution_count": 37,
   "id": "57d21bae-5d10-4aa7-a286-78f78063d845",
   "metadata": {},
   "outputs": [
    {
     "data": {
      "text/plain": [
       "array(['EWR', 'LGA', 'JFK'], dtype=object)"
      ]
     },
     "execution_count": 37,
     "metadata": {},
     "output_type": "execute_result"
    }
   ],
   "source": [
    "data.origin.unique()"
   ]
  },
  {
   "cell_type": "code",
   "execution_count": 38,
   "id": "d75da6a8-e5dc-490f-9667-b267f16c894b",
   "metadata": {},
   "outputs": [
    {
     "data": {
      "text/plain": [
       "['JFK', 'LGA', 'EWR']"
      ]
     },
     "execution_count": 38,
     "metadata": {},
     "output_type": "execute_result"
    }
   ],
   "source": [
    "'JFK LGA EWR'.split()"
   ]
  },
  {
   "cell_type": "code",
   "execution_count": 41,
   "id": "367a5d9d-2041-45d0-a422-b12082a2fc68",
   "metadata": {},
   "outputs": [],
   "source": [
    "NY_mask = data.origin.isin('JFK LGA EWR'.split())"
   ]
  },
  {
   "cell_type": "code",
   "execution_count": 42,
   "id": "bedba1cb-0e7f-4fb9-b0ec-dcb474279914",
   "metadata": {},
   "outputs": [
    {
     "data": {
      "text/plain": [
       "(336776, 336776)"
      ]
     },
     "execution_count": 42,
     "metadata": {},
     "output_type": "execute_result"
    }
   ],
   "source": [
    "NY_mask.sum(), len(data)"
   ]
  },
  {
   "cell_type": "code",
   "execution_count": 44,
   "id": "6b275d59-12ab-4631-9341-10bf18155a9b",
   "metadata": {},
   "outputs": [
    {
     "data": {
      "text/plain": [
       "'N725MQ'"
      ]
     },
     "execution_count": 44,
     "metadata": {},
     "output_type": "execute_result"
    }
   ],
   "source": [
    "data.loc[NY_mask, 'tailnum'].value_counts().idxmax()"
   ]
  },
  {
   "cell_type": "code",
   "execution_count": 93,
   "id": "e3bf9c9f-57d9-4c55-9baa-948f1ca208c6",
   "metadata": {},
   "outputs": [
    {
     "name": "stdout",
     "output_type": "stream",
     "text": [
      "46 ms ± 1.13 ms per loop (mean ± std. dev. of 7 runs, 10 loops each)\n"
     ]
    }
   ],
   "source": [
    "%%timeit\n",
    "data.loc[NY_mask, 'tailnum'].value_counts().nlargest(1)"
   ]
  },
  {
   "cell_type": "code",
   "execution_count": 95,
   "id": "2f46f1ee",
   "metadata": {},
   "outputs": [
    {
     "name": "stdout",
     "output_type": "stream",
     "text": [
      "203 ms ± 8.94 ms per loop (mean ± std. dev. of 7 runs, 1 loop each)\n"
     ]
    }
   ],
   "source": [
    "%%timeit\n",
    "(data[(data[\"year\"]==2013)&(data[\"origin\"]==\"JFK\")|(data[\"origin\"]==\"LGA\")|(data[\"origin\"]==\"EWR\")]\n",
    " .groupby([\"tailnum\"])[\"tailnum\"]\n",
    " .count()\n",
    " .nlargest(1))"
   ]
  },
  {
   "cell_type": "code",
   "execution_count": 270,
   "id": "8d9f3c8e-6c16-494b-a2a0-e5e226b48230",
   "metadata": {},
   "outputs": [
    {
     "data": {
      "text/plain": [
       "('N725MQ', 575)"
      ]
     },
     "execution_count": 270,
     "metadata": {},
     "output_type": "execute_result"
    }
   ],
   "source": [
    "tailnum_flies = data.loc[NY_mask, 'tailnum'].value_counts()\n",
    "most_traveled = tailnum_flies.idxmax()\n",
    "most_traveled, tailnum_flies[most_traveled]"
   ]
  },
  {
   "cell_type": "code",
   "execution_count": 45,
   "id": "5ac8deb8-cf3f-4070-a0a4-124d268f7353",
   "metadata": {},
   "outputs": [],
   "source": [
    "date = pd.to_datetime(data['year month day'.split()])"
   ]
  },
  {
   "cell_type": "code",
   "execution_count": 46,
   "id": "e065cf43-01c0-4caf-b48c-b69fb771fcce",
   "metadata": {},
   "outputs": [
    {
     "data": {
      "text/plain": [
       "0        2013-01-01\n",
       "1        2013-01-01\n",
       "2        2013-01-01\n",
       "3        2013-01-01\n",
       "4        2013-01-01\n",
       "            ...    \n",
       "336771   2013-09-30\n",
       "336772   2013-09-30\n",
       "336773   2013-09-30\n",
       "336774   2013-09-30\n",
       "336775   2013-09-30\n",
       "Length: 336776, dtype: datetime64[ns]"
      ]
     },
     "execution_count": 46,
     "metadata": {},
     "output_type": "execute_result"
    }
   ],
   "source": [
    "date"
   ]
  },
  {
   "cell_type": "code",
   "execution_count": 155,
   "id": "77c7a114-478c-47b9-8288-cab37ca80393",
   "metadata": {},
   "outputs": [
    {
     "data": {
      "image/png": "[encoded data removed]",
      "text/plain": [
       "<Figure size 640x480 with 1 Axes>"
      ]
     },
     "metadata": {},
     "output_type": "display_data"
    }
   ],
   "source": [
    "weekly_trip = date.dt.isocalendar().week.value_counts(sort=False)\n",
    "weekly_trip.sort_index(inplace=True)\n",
    "ax = weekly_trip.plot()\n",
    "_ = ax.set(xlabel='Week number', ylabel='week trips', title='NY weekly trips')"
   ]
  },
  {
   "cell_type": "code",
   "execution_count": 156,
   "id": "15839023-1ec3-47fa-a615-6d2a2ab5577a",
   "metadata": {},
   "outputs": [
    {
     "data": {
      "image/png": "[encoded data removed]",
      "text/plain": [
       "<Figure size 640x480 with 1 Axes>"
      ]
     },
     "metadata": {},
     "output_type": "display_data"
    }
   ],
   "source": [
    "date = pd.to_datetime(data.loc[data.tailnum == most_traveled, 'year month day'.split()])\n",
    "weekly_trip = date.dt.isocalendar().week.value_counts(sort=False)\n",
    "weekly_trip.sort_index(inplace=True)\n",
    "ax = weekly_trip.plot()\n",
    "_ = ax.set(xlabel='Week number', ylabel='week trips', title=f'Plane \"{most_traveled}\" NY weekly trips')"
   ]
  },
  {
   "cell_type": "markdown",
   "id": "8066f094-c423-4741-9205-fb955bb3e32a",
   "metadata": {},
   "source": [
    "##### c) Download the plane data from [ https://github.com/MapsaBootCamp/useful_datasets/blob/master/structuralData/planes.csv ]. Use the flights and planes tables to answer the following questions: What is the oldest plane (specified by the tailnum variable) that flew from New York City airports in 2013? How many airplanes that flew from New York City are included in the planes table?"
   ]
  },
  {
   "cell_type": "code",
   "execution_count": 48,
   "id": "783c8a6a-6f51-4d38-bc76-2b28454f88db",
   "metadata": {},
   "outputs": [
    {
     "data": {
      "text/html": [
       "<div>\n",
       "<style scoped>\n",
       "    .dataframe tbody tr th:only-of-type {\n",
       "        vertical-align: middle;\n",
       "    }\n",
       "\n",
       "    .dataframe tbody tr th {\n",
       "        vertical-align: top;\n",
       "    }\n",
       "\n",
       "    .dataframe thead th {\n",
       "        text-align: right;\n",
       "    }\n",
       "</style>\n",
       "<table border=\"1\" class=\"dataframe\">\n",
       "  <thead>\n",
       "    <tr style=\"text-align: right;\">\n",
       "      <th></th>\n",
       "      <th>year</th>\n",
       "      <th>type</th>\n",
       "      <th>manufacturer</th>\n",
       "      <th>model</th>\n",
       "      <th>engines</th>\n",
       "      <th>seats</th>\n",
       "      <th>speed</th>\n",
       "      <th>engine</th>\n",
       "    </tr>\n",
       "    <tr>\n",
       "      <th>tailnum</th>\n",
       "      <th></th>\n",
       "      <th></th>\n",
       "      <th></th>\n",
       "      <th></th>\n",
       "      <th></th>\n",
       "      <th></th>\n",
       "      <th></th>\n",
       "      <th></th>\n",
       "    </tr>\n",
       "  </thead>\n",
       "  <tbody>\n",
       "    <tr>\n",
       "      <th>N10156</th>\n",
       "      <td>2004.0</td>\n",
       "      <td>Fixed wing multi engine</td>\n",
       "      <td>EMBRAER</td>\n",
       "      <td>EMB-145XR</td>\n",
       "      <td>2</td>\n",
       "      <td>55</td>\n",
       "      <td>NaN</td>\n",
       "      <td>Turbo-fan</td>\n",
       "    </tr>\n",
       "    <tr>\n",
       "      <th>N102UW</th>\n",
       "      <td>1998.0</td>\n",
       "      <td>Fixed wing multi engine</td>\n",
       "      <td>AIRBUS INDUSTRIE</td>\n",
       "      <td>A320-214</td>\n",
       "      <td>2</td>\n",
       "      <td>182</td>\n",
       "      <td>NaN</td>\n",
       "      <td>Turbo-fan</td>\n",
       "    </tr>\n",
       "    <tr>\n",
       "      <th>N103US</th>\n",
       "      <td>1999.0</td>\n",
       "      <td>Fixed wing multi engine</td>\n",
       "      <td>AIRBUS INDUSTRIE</td>\n",
       "      <td>A320-214</td>\n",
       "      <td>2</td>\n",
       "      <td>182</td>\n",
       "      <td>NaN</td>\n",
       "      <td>Turbo-fan</td>\n",
       "    </tr>\n",
       "  </tbody>\n",
       "</table>\n",
       "</div>"
      ],
      "text/plain": [
       "           year                     type      manufacturer      model  \\\n",
       "tailnum                                                                 \n",
       "N10156   2004.0  Fixed wing multi engine           EMBRAER  EMB-145XR   \n",
       "N102UW   1998.0  Fixed wing multi engine  AIRBUS INDUSTRIE   A320-214   \n",
       "N103US   1999.0  Fixed wing multi engine  AIRBUS INDUSTRIE   A320-214   \n",
       "\n",
       "         engines  seats  speed     engine  \n",
       "tailnum                                    \n",
       "N10156         2     55    NaN  Turbo-fan  \n",
       "N102UW         2    182    NaN  Turbo-fan  \n",
       "N103US         2    182    NaN  Turbo-fan  "
      ]
     },
     "execution_count": 48,
     "metadata": {},
     "output_type": "execute_result"
    }
   ],
   "source": [
    "df = pd.read_csv('data/planes.csv', index_col='tailnum')\n",
    "df.head(3)"
   ]
  },
  {
   "cell_type": "code",
   "execution_count": 260,
   "id": "e16b269a-42d2-4c03-9106-088d7a6cfa35",
   "metadata": {},
   "outputs": [
    {
     "data": {
      "text/plain": [
       "0"
      ]
     },
     "execution_count": 260,
     "metadata": {},
     "output_type": "execute_result"
    }
   ],
   "source": [
    "df.index.duplicated().sum()"
   ]
  },
  {
   "cell_type": "code",
   "execution_count": 120,
   "id": "ee24c8a3-0339-468a-ae45-ea7b0457ae89",
   "metadata": {},
   "outputs": [
    {
     "data": {
      "text/html": [
       "<div>\n",
       "<style scoped>\n",
       "    .dataframe tbody tr th:only-of-type {\n",
       "        vertical-align: middle;\n",
       "    }\n",
       "\n",
       "    .dataframe tbody tr th {\n",
       "        vertical-align: top;\n",
       "    }\n",
       "\n",
       "    .dataframe thead th {\n",
       "        text-align: right;\n",
       "    }\n",
       "</style>\n",
       "<table border=\"1\" class=\"dataframe\">\n",
       "  <thead>\n",
       "    <tr style=\"text-align: right;\">\n",
       "      <th></th>\n",
       "      <th>year</th>\n",
       "      <th>month</th>\n",
       "      <th>day</th>\n",
       "      <th>dep_time</th>\n",
       "      <th>sched_dep_time</th>\n",
       "      <th>dep_delay</th>\n",
       "      <th>arr_time</th>\n",
       "      <th>sched_arr_time</th>\n",
       "      <th>arr_delay</th>\n",
       "      <th>carrier</th>\n",
       "      <th>flight</th>\n",
       "      <th>tailnum</th>\n",
       "      <th>origin</th>\n",
       "      <th>dest</th>\n",
       "      <th>air_time</th>\n",
       "      <th>distance</th>\n",
       "      <th>hour</th>\n",
       "      <th>minute</th>\n",
       "      <th>time_hour</th>\n",
       "    </tr>\n",
       "  </thead>\n",
       "  <tbody>\n",
       "    <tr>\n",
       "      <th>0</th>\n",
       "      <td>2013</td>\n",
       "      <td>1</td>\n",
       "      <td>1</td>\n",
       "      <td>517.0</td>\n",
       "      <td>515</td>\n",
       "      <td>2.0</td>\n",
       "      <td>830.0</td>\n",
       "      <td>819</td>\n",
       "      <td>11.0</td>\n",
       "      <td>UA</td>\n",
       "      <td>1545</td>\n",
       "      <td>N14228</td>\n",
       "      <td>EWR</td>\n",
       "      <td>IAH</td>\n",
       "      <td>227.0</td>\n",
       "      <td>1400</td>\n",
       "      <td>5</td>\n",
       "      <td>15</td>\n",
       "      <td>2013-01-01 05:00:00</td>\n",
       "    </tr>\n",
       "    <tr>\n",
       "      <th>1</th>\n",
       "      <td>2013</td>\n",
       "      <td>1</td>\n",
       "      <td>1</td>\n",
       "      <td>533.0</td>\n",
       "      <td>529</td>\n",
       "      <td>4.0</td>\n",
       "      <td>850.0</td>\n",
       "      <td>830</td>\n",
       "      <td>20.0</td>\n",
       "      <td>UA</td>\n",
       "      <td>1714</td>\n",
       "      <td>N24211</td>\n",
       "      <td>LGA</td>\n",
       "      <td>IAH</td>\n",
       "      <td>227.0</td>\n",
       "      <td>1416</td>\n",
       "      <td>5</td>\n",
       "      <td>29</td>\n",
       "      <td>2013-01-01 05:00:00</td>\n",
       "    </tr>\n",
       "  </tbody>\n",
       "</table>\n",
       "</div>"
      ],
      "text/plain": [
       "   year  month  day  dep_time  sched_dep_time  dep_delay  arr_time  \\\n",
       "0  2013      1    1     517.0             515        2.0     830.0   \n",
       "1  2013      1    1     533.0             529        4.0     850.0   \n",
       "\n",
       "   sched_arr_time  arr_delay carrier  flight tailnum origin dest  air_time  \\\n",
       "0             819       11.0      UA    1545  N14228    EWR  IAH     227.0   \n",
       "1             830       20.0      UA    1714  N24211    LGA  IAH     227.0   \n",
       "\n",
       "   distance  hour  minute            time_hour  \n",
       "0      1400     5      15  2013-01-01 05:00:00  \n",
       "1      1416     5      29  2013-01-01 05:00:00  "
      ]
     },
     "execution_count": 120,
     "metadata": {},
     "output_type": "execute_result"
    }
   ],
   "source": [
    "data_NY = data.loc[NY_mask]\n",
    "data_NY.head(2)"
   ]
  },
  {
   "cell_type": "code",
   "execution_count": 137,
   "id": "1aade40f-03de-4576-9f0e-9dee1edcb745",
   "metadata": {},
   "outputs": [
    {
     "name": "stdout",
     "output_type": "stream",
     "text": [
      "Total tailnum in NY: 4044,\n",
      "Total tailnum in planes data: 3322,\n",
      "number of them in plane names: 3322\n"
     ]
    }
   ],
   "source": [
    "tailnum_NY = set(data_NY.tailnum.unique())\n",
    "planes_tailnames = set(df.index)\n",
    "in_both = tailnum_NY & planes_tailnames\n",
    "print(f'Total tailnum in NY: {len(tailnum_NY)},\\n'\n",
    " f'Total tailnum in planes data: {len(planes_tailnames)},\\n'\n",
    " f'number of them in plane names: {len(in_both)}'\n",
    ")"
   ]
  },
  {
   "cell_type": "code",
   "execution_count": 148,
   "id": "5b9dcc19-5ba9-400f-ae92-a472c86319c3",
   "metadata": {},
   "outputs": [
    {
     "data": {
      "text/plain": [
       "'Oldest NY plane from the list is: N381AA'"
      ]
     },
     "execution_count": 148,
     "metadata": {},
     "output_type": "execute_result"
    }
   ],
   "source": [
    "f'Oldest NY plane from the list is: {df.year.idxmin()}'"
   ]
  },
  {
   "cell_type": "markdown",
   "id": "20d6d704-57ad-403b-9b2b-99e6b21a3c0a",
   "metadata": {},
   "source": [
    "##### d) Use the flights and planes tables to answer the following questions: How many planes have a missing date of manufacture? What are the five most common manufacturers (Note: pay close attention to the same manufacturer being represented multiple times)? Has the distribution of manufacturer changed over time as reflected by the airplanes flying from NYC in 2013? Produce a plot that backs up your claim."
   ]
  },
  {
   "cell_type": "code",
   "execution_count": 49,
   "id": "38ef35db-828d-40ee-9f6e-a289f7760564",
   "metadata": {},
   "outputs": [
    {
     "data": {
      "text/html": [
       "<div>\n",
       "<style scoped>\n",
       "    .dataframe tbody tr th:only-of-type {\n",
       "        vertical-align: middle;\n",
       "    }\n",
       "\n",
       "    .dataframe tbody tr th {\n",
       "        vertical-align: top;\n",
       "    }\n",
       "\n",
       "    .dataframe thead th {\n",
       "        text-align: right;\n",
       "    }\n",
       "</style>\n",
       "<table border=\"1\" class=\"dataframe\">\n",
       "  <thead>\n",
       "    <tr style=\"text-align: right;\">\n",
       "      <th></th>\n",
       "      <th>year</th>\n",
       "      <th>type</th>\n",
       "      <th>manufacturer</th>\n",
       "      <th>model</th>\n",
       "      <th>engines</th>\n",
       "      <th>seats</th>\n",
       "      <th>speed</th>\n",
       "      <th>engine</th>\n",
       "    </tr>\n",
       "    <tr>\n",
       "      <th>tailnum</th>\n",
       "      <th></th>\n",
       "      <th></th>\n",
       "      <th></th>\n",
       "      <th></th>\n",
       "      <th></th>\n",
       "      <th></th>\n",
       "      <th></th>\n",
       "      <th></th>\n",
       "    </tr>\n",
       "  </thead>\n",
       "  <tbody>\n",
       "    <tr>\n",
       "      <th>N10156</th>\n",
       "      <td>2004.0</td>\n",
       "      <td>Fixed wing multi engine</td>\n",
       "      <td>EMBRAER</td>\n",
       "      <td>EMB-145XR</td>\n",
       "      <td>2</td>\n",
       "      <td>55</td>\n",
       "      <td>NaN</td>\n",
       "      <td>Turbo-fan</td>\n",
       "    </tr>\n",
       "    <tr>\n",
       "      <th>N102UW</th>\n",
       "      <td>1998.0</td>\n",
       "      <td>Fixed wing multi engine</td>\n",
       "      <td>AIRBUS INDUSTRIE</td>\n",
       "      <td>A320-214</td>\n",
       "      <td>2</td>\n",
       "      <td>182</td>\n",
       "      <td>NaN</td>\n",
       "      <td>Turbo-fan</td>\n",
       "    </tr>\n",
       "    <tr>\n",
       "      <th>N103US</th>\n",
       "      <td>1999.0</td>\n",
       "      <td>Fixed wing multi engine</td>\n",
       "      <td>AIRBUS INDUSTRIE</td>\n",
       "      <td>A320-214</td>\n",
       "      <td>2</td>\n",
       "      <td>182</td>\n",
       "      <td>NaN</td>\n",
       "      <td>Turbo-fan</td>\n",
       "    </tr>\n",
       "    <tr>\n",
       "      <th>N104UW</th>\n",
       "      <td>1999.0</td>\n",
       "      <td>Fixed wing multi engine</td>\n",
       "      <td>AIRBUS INDUSTRIE</td>\n",
       "      <td>A320-214</td>\n",
       "      <td>2</td>\n",
       "      <td>182</td>\n",
       "      <td>NaN</td>\n",
       "      <td>Turbo-fan</td>\n",
       "    </tr>\n",
       "    <tr>\n",
       "      <th>N10575</th>\n",
       "      <td>2002.0</td>\n",
       "      <td>Fixed wing multi engine</td>\n",
       "      <td>EMBRAER</td>\n",
       "      <td>EMB-145LR</td>\n",
       "      <td>2</td>\n",
       "      <td>55</td>\n",
       "      <td>NaN</td>\n",
       "      <td>Turbo-fan</td>\n",
       "    </tr>\n",
       "    <tr>\n",
       "      <th>...</th>\n",
       "      <td>...</td>\n",
       "      <td>...</td>\n",
       "      <td>...</td>\n",
       "      <td>...</td>\n",
       "      <td>...</td>\n",
       "      <td>...</td>\n",
       "      <td>...</td>\n",
       "      <td>...</td>\n",
       "    </tr>\n",
       "    <tr>\n",
       "      <th>N997AT</th>\n",
       "      <td>2002.0</td>\n",
       "      <td>Fixed wing multi engine</td>\n",
       "      <td>BOEING</td>\n",
       "      <td>717-200</td>\n",
       "      <td>2</td>\n",
       "      <td>100</td>\n",
       "      <td>NaN</td>\n",
       "      <td>Turbo-fan</td>\n",
       "    </tr>\n",
       "    <tr>\n",
       "      <th>N997DL</th>\n",
       "      <td>1992.0</td>\n",
       "      <td>Fixed wing multi engine</td>\n",
       "      <td>MCDONNELL DOUGLAS AIRCRAFT CO</td>\n",
       "      <td>MD-88</td>\n",
       "      <td>2</td>\n",
       "      <td>142</td>\n",
       "      <td>NaN</td>\n",
       "      <td>Turbo-fan</td>\n",
       "    </tr>\n",
       "    <tr>\n",
       "      <th>N998AT</th>\n",
       "      <td>2002.0</td>\n",
       "      <td>Fixed wing multi engine</td>\n",
       "      <td>BOEING</td>\n",
       "      <td>717-200</td>\n",
       "      <td>2</td>\n",
       "      <td>100</td>\n",
       "      <td>NaN</td>\n",
       "      <td>Turbo-fan</td>\n",
       "    </tr>\n",
       "    <tr>\n",
       "      <th>N998DL</th>\n",
       "      <td>1992.0</td>\n",
       "      <td>Fixed wing multi engine</td>\n",
       "      <td>MCDONNELL DOUGLAS CORPORATION</td>\n",
       "      <td>MD-88</td>\n",
       "      <td>2</td>\n",
       "      <td>142</td>\n",
       "      <td>NaN</td>\n",
       "      <td>Turbo-jet</td>\n",
       "    </tr>\n",
       "    <tr>\n",
       "      <th>N999DN</th>\n",
       "      <td>1992.0</td>\n",
       "      <td>Fixed wing multi engine</td>\n",
       "      <td>MCDONNELL DOUGLAS CORPORATION</td>\n",
       "      <td>MD-88</td>\n",
       "      <td>2</td>\n",
       "      <td>142</td>\n",
       "      <td>NaN</td>\n",
       "      <td>Turbo-jet</td>\n",
       "    </tr>\n",
       "  </tbody>\n",
       "</table>\n",
       "<p>3322 rows × 8 columns</p>\n",
       "</div>"
      ],
      "text/plain": [
       "           year                     type                   manufacturer  \\\n",
       "tailnum                                                                   \n",
       "N10156   2004.0  Fixed wing multi engine                        EMBRAER   \n",
       "N102UW   1998.0  Fixed wing multi engine               AIRBUS INDUSTRIE   \n",
       "N103US   1999.0  Fixed wing multi engine               AIRBUS INDUSTRIE   \n",
       "N104UW   1999.0  Fixed wing multi engine               AIRBUS INDUSTRIE   \n",
       "N10575   2002.0  Fixed wing multi engine                        EMBRAER   \n",
       "...         ...                      ...                            ...   \n",
       "N997AT   2002.0  Fixed wing multi engine                         BOEING   \n",
       "N997DL   1992.0  Fixed wing multi engine  MCDONNELL DOUGLAS AIRCRAFT CO   \n",
       "N998AT   2002.0  Fixed wing multi engine                         BOEING   \n",
       "N998DL   1992.0  Fixed wing multi engine  MCDONNELL DOUGLAS CORPORATION   \n",
       "N999DN   1992.0  Fixed wing multi engine  MCDONNELL DOUGLAS CORPORATION   \n",
       "\n",
       "             model  engines  seats  speed     engine  \n",
       "tailnum                                               \n",
       "N10156   EMB-145XR        2     55    NaN  Turbo-fan  \n",
       "N102UW    A320-214        2    182    NaN  Turbo-fan  \n",
       "N103US    A320-214        2    182    NaN  Turbo-fan  \n",
       "N104UW    A320-214        2    182    NaN  Turbo-fan  \n",
       "N10575   EMB-145LR        2     55    NaN  Turbo-fan  \n",
       "...            ...      ...    ...    ...        ...  \n",
       "N997AT     717-200        2    100    NaN  Turbo-fan  \n",
       "N997DL       MD-88        2    142    NaN  Turbo-fan  \n",
       "N998AT     717-200        2    100    NaN  Turbo-fan  \n",
       "N998DL       MD-88        2    142    NaN  Turbo-jet  \n",
       "N999DN       MD-88        2    142    NaN  Turbo-jet  \n",
       "\n",
       "[3322 rows x 8 columns]"
      ]
     },
     "execution_count": 49,
     "metadata": {},
     "output_type": "execute_result"
    }
   ],
   "source": [
    "df.groupby"
   ]
  },
  {
   "cell_type": "code",
   "execution_count": 165,
   "id": "239ffd7f-5106-4d69-bb9e-d7bd608827b9",
   "metadata": {},
   "outputs": [
    {
     "name": "stdout",
     "output_type": "stream",
     "text": [
      "planes have a missing date of manufacture:  70\n"
     ]
    }
   ],
   "source": [
    "print('planes have a missing date of manufacture:', df.year.isna().sum())"
   ]
  },
  {
   "cell_type": "code",
   "execution_count": 170,
   "id": "e77ebfdf-f2a9-4716-9ae0-3881f7aa0e28",
   "metadata": {},
   "outputs": [
    {
     "data": {
      "text/plain": [
       "AGUSTA SPA                          1\n",
       "AIRBUS                            336\n",
       "AIRBUS INDUSTRIE                  400\n",
       "AMERICAN AIRCRAFT INC               2\n",
       "AVIAT AIRCRAFT INC                  1\n",
       "AVIONS MARCEL DASSAULT              1\n",
       "BARKER JACK L                       1\n",
       "BEECH                               2\n",
       "BELL                                2\n",
       "BOEING                           1630\n",
       "BOMBARDIER INC                    368\n",
       "CANADAIR                            9\n",
       "CANADAIR LTD                        1\n",
       "CESSNA                              9\n",
       "CIRRUS DESIGN CORP                  1\n",
       "DEHAVILLAND                         1\n",
       "DOUGLAS                             1\n",
       "EMBRAER                           299\n",
       "FRIEDEMANN JON                      1\n",
       "GULFSTREAM AEROSPACE                2\n",
       "HURLEY JAMES LARRY                  1\n",
       "JOHN G HESS                         1\n",
       "KILDALL GARY                        1\n",
       "LAMBERT RICHARD                     1\n",
       "LEARJET INC                         1\n",
       "LEBLANC GLENN T                     1\n",
       "MARZ BARRY                          1\n",
       "MCDONNELL DOUGLAS                 120\n",
       "MCDONNELL DOUGLAS AIRCRAFT CO     103\n",
       "MCDONNELL DOUGLAS CORPORATION      14\n",
       "PAIR MIKE E                         1\n",
       "PIPER                               5\n",
       "ROBINSON HELICOPTER CO              1\n",
       "SIKORSKY                            1\n",
       "STEWART MACO                        2\n",
       "Name: manufacturer, dtype: int64"
      ]
     },
     "execution_count": 170,
     "metadata": {},
     "output_type": "execute_result"
    }
   ],
   "source": [
    "df.manufacturer.value_counts(sort=False).sort_index()"
   ]
  },
  {
   "cell_type": "code",
   "execution_count": 175,
   "id": "ddb54c27-0ad8-450b-95e6-0524e98970c7",
   "metadata": {},
   "outputs": [],
   "source": [
    "pair_names = [\n",
    "    ('AIRBUS INDUSTRIE', 'AIRBUS'),\n",
    "    ('CANADAIR LTD', 'CANADAIR'),\n",
    "    ('MCDONNELL DOUGLAS AIRCRAFT CO', 'MCDONNELL DOUGLAS'),\n",
    "    ('MCDONNELL DOUGLAS CORPORATION', 'MCDONNELL DOUGLAS'),\n",
    "]"
   ]
  },
  {
   "cell_type": "code",
   "execution_count": 176,
   "id": "c65325eb-4007-400f-bc2e-776e9fac0d72",
   "metadata": {},
   "outputs": [],
   "source": [
    "for a, b in pair_names:\n",
    "    df.loc[df.manufacturer==a, 'manufacturer'] = b"
   ]
  },
  {
   "cell_type": "code",
   "execution_count": 177,
   "id": "ed04c8ee-cc3d-4cef-8949-fbf61359578d",
   "metadata": {},
   "outputs": [
    {
     "name": "stdout",
     "output_type": "stream",
     "text": [
      "the five most common manufacturers:\n",
      " BOEING, AIRBUS, BOMBARDIER INC, EMBRAER, MCDONNELL DOUGLAS\n"
     ]
    }
   ],
   "source": [
    "print('the five most common manufacturers:\\n',\n",
    "      ', '.join(df.manufacturer.value_counts()[:5].index)\n",
    "     )"
   ]
  },
  {
   "cell_type": "markdown",
   "id": "30cf6379-efa0-42fc-bf77-7b355c306f03",
   "metadata": {},
   "source": [
    "##\n",
    "<span style=\"font-wight:bold;font-size:20px\">3. Regular Expressions:</span> Write a regular expression to match patterns in the following strings. Demonstrate\n",
    "that your regular expression indeed matched that pattern by including codes and results."
   ]
  },
  {
   "cell_type": "markdown",
   "id": "61ff2529-6cf3-497d-ad82-9c066214c047",
   "metadata": {},
   "source": [
    "https://regex101.com/"
   ]
  },
  {
   "cell_type": "markdown",
   "id": "dd803993-9326-4b85-b281-b444350f2380",
   "metadata": {},
   "source": [
    "##### a) We have a list vText as follows. Write a regular expression that matches g, og, go or ogo in vText and replace the matches with ‘.’."
   ]
  },
  {
   "cell_type": "code",
   "execution_count": 51,
   "id": "14e6e3e2-33a1-40cc-9d17-9fd9222bd865",
   "metadata": {},
   "outputs": [],
   "source": [
    "vText = ['google','logo','dig', 'blog', 'boogie']"
   ]
  },
  {
   "cell_type": "code",
   "execution_count": 187,
   "id": "991d0849-7fbd-4e56-a020-a783cd649d7e",
   "metadata": {},
   "outputs": [
    {
     "data": {
      "text/plain": [
       "\"['..le', 'l.', 'di.', 'bl.', 'bo.ie']\""
      ]
     },
     "execution_count": 187,
     "metadata": {},
     "output_type": "execute_result"
    }
   ],
   "source": [
    "re.sub(r\"o{0,1}go{0,1}\", \".\" , str(vText))"
   ]
  },
  {
   "cell_type": "code",
   "execution_count": 188,
   "id": "8855a720-da3a-4d63-83de-b5fd7294eb6c",
   "metadata": {},
   "outputs": [
    {
     "data": {
      "text/plain": [
       "\"['..le', 'l.', 'di.', 'bl.', 'bo.ie']\""
      ]
     },
     "execution_count": 188,
     "metadata": {},
     "output_type": "execute_result"
    }
   ],
   "source": [
    "re.sub(r\"o?go?\", \".\" , str(vText))"
   ]
  },
  {
   "cell_type": "code",
   "execution_count": 192,
   "id": "88e146b7-91c1-47d4-8256-fd0b69ac3d22",
   "metadata": {},
   "outputs": [
    {
     "name": "stdout",
     "output_type": "stream",
     "text": [
      "8.23 µs ± 68.3 ns per loop (mean ± std. dev. of 7 runs, 100,000 loops each)\n"
     ]
    }
   ],
   "source": [
    "%%timeit\n",
    "[re.sub(r\"o{0,1}go{0,1}\", \".\" , vt) for vt in vText]"
   ]
  },
  {
   "cell_type": "code",
   "execution_count": 193,
   "id": "f745ec45-ba98-4009-8e9e-68efbcc73c90",
   "metadata": {},
   "outputs": [
    {
     "name": "stdout",
     "output_type": "stream",
     "text": [
      "4.81 µs ± 115 ns per loop (mean ± std. dev. of 7 runs, 100,000 loops each)\n"
     ]
    }
   ],
   "source": [
    "%%timeit\n",
    "prog = re.compile(r\"o?go?\")\n",
    "[prog.sub(\".\" , vt) for vt in vText]"
   ]
  },
  {
   "cell_type": "code",
   "execution_count": 194,
   "id": "8f2dba85-093f-41e1-b3d7-fd8207717b3d",
   "metadata": {},
   "outputs": [
    {
     "data": {
      "text/plain": [
       "['..le', 'l.', 'di.', 'bl.', 'bo.ie']"
      ]
     },
     "execution_count": 194,
     "metadata": {},
     "output_type": "execute_result"
    }
   ],
   "source": [
    "prog = re.compile(r\"o?go?\")\n",
    "[prog.sub(\".\" , vt) for vt in vText]"
   ]
  },
  {
   "cell_type": "code",
   "execution_count": 52,
   "id": "f18c6334-7dfe-4c04-acce-92c525fac263",
   "metadata": {},
   "outputs": [
    {
     "data": {
      "text/plain": [
       "\"['.o.le', 'l.o', 'di.', 'bl.', 'bo.ie']\""
      ]
     },
     "execution_count": 52,
     "metadata": {},
     "output_type": "execute_result"
    }
   ],
   "source": [
    "re.sub(pattern=r'g|og|go|ogo', string=str(vText), repl='.')"
   ]
  },
  {
   "cell_type": "markdown",
   "id": "506dd8e8-b32b-42b3-897d-0fc574b6484c",
   "metadata": {},
   "source": [
    "##### b) Replace only the 5 or 6 digit numbers with the word “found” in the following list. Please make sure that 3, 4, or 7 digit numbers do not get changed."
   ]
  },
  {
   "cell_type": "code",
   "execution_count": 184,
   "id": "8b95b018-82e2-400d-a288-d68a1c019f2b",
   "metadata": {},
   "outputs": [],
   "source": [
    "vPhone = ['874','6783','345345', '32120', '468349', '8149674']"
   ]
  },
  {
   "cell_type": "code",
   "execution_count": 186,
   "id": "5ac59c7f-6687-466d-ad19-833f2e6da9c1",
   "metadata": {},
   "outputs": [
    {
     "data": {
      "text/plain": [
       "\"['874', '6783', found, found, found, '8149674']\""
      ]
     },
     "execution_count": 186,
     "metadata": {},
     "output_type": "execute_result"
    }
   ],
   "source": [
    "re.sub(r\"\\D\\d{5,6}\\D\", \"found\" , str(vPhone))"
   ]
  },
  {
   "cell_type": "code",
   "execution_count": 262,
   "id": "134df8fb-f657-4688-bae4-36f7533a1d0a",
   "metadata": {},
   "outputs": [
    {
     "name": "stdout",
     "output_type": "stream",
     "text": [
      "3.83 µs ± 75.5 ns per loop (mean ± std. dev. of 7 runs, 100,000 loops each)\n"
     ]
    }
   ],
   "source": [
    "%%timeit\n",
    "prog = re.compile(r\"^\\d{5,6}$\")\n",
    "[prog.sub(\"found\" , vt) for vt in vPhone]"
   ]
  },
  {
   "cell_type": "code",
   "execution_count": 264,
   "id": "09724908-a1b4-48f0-89c4-8837685f91f3",
   "metadata": {},
   "outputs": [
    {
     "name": "stdout",
     "output_type": "stream",
     "text": [
      "6.95 µs ± 78.7 ns per loop (mean ± std. dev. of 7 runs, 100,000 loops each)\n"
     ]
    }
   ],
   "source": [
    "%%timeit\n",
    "pattern='^\\d{5,6}$'\n",
    "result=[]\n",
    "for string in vPhone:\n",
    "    if re.search(pattern,string):\n",
    "        result.append('found')\n",
    "    else:\n",
    "        result.append(string)"
   ]
  },
  {
   "cell_type": "markdown",
   "id": "dd7787da-c76a-46ce-839c-f31a0acbe1db",
   "metadata": {},
   "source": [
    "##### c) Replace all the characters that are not among the 26 English characters or a space. Please replace with an empty spring."
   ]
  },
  {
   "cell_type": "code",
   "execution_count": 198,
   "id": "772d5f4a-fd83-4bab-96c1-18f5f4c18e60",
   "metadata": {},
   "outputs": [],
   "source": [
    "myText = \"#y%o$u @g!o*t t9h(e) so#lu!tio$n c%or_r+e%ct\""
   ]
  },
  {
   "cell_type": "code",
   "execution_count": 199,
   "id": "d1372291-d85b-49a4-b919-e2b6d62cc607",
   "metadata": {},
   "outputs": [
    {
     "data": {
      "text/plain": [
       "'you got the solution correct'"
      ]
     },
     "execution_count": 199,
     "metadata": {},
     "output_type": "execute_result"
    }
   ],
   "source": [
    "re.sub(r\"[^a-zA-Z ]\", \"\" , str(myText))"
   ]
  },
  {
   "cell_type": "code",
   "execution_count": 200,
   "id": "343d514b-19db-4ab6-9561-3d7e412f1b4a",
   "metadata": {},
   "outputs": [
    {
     "data": {
      "text/plain": [
       "'you got the solution correct'"
      ]
     },
     "execution_count": 200,
     "metadata": {},
     "output_type": "execute_result"
    }
   ],
   "source": [
    "re.sub(r\"[^a-zA-Z ]\", \"\" , myText)"
   ]
  },
  {
   "cell_type": "markdown",
   "id": "830d18d6-a556-4da1-ac68-76f2b268d08e",
   "metadata": {},
   "source": [
    "##### d) In the following text, replace all the words that are exactly 3 or 4 characters long with triple dots ‘. . . ’"
   ]
  },
  {
   "cell_type": "code",
   "execution_count": 202,
   "id": "676266d1-8ea0-4edd-b9df-6e2f46de6e26",
   "metadata": {},
   "outputs": [],
   "source": [
    "myText2 = \"Each of the three and four character words will be gone now\""
   ]
  },
  {
   "cell_type": "code",
   "execution_count": 205,
   "id": "0e2cce50-9269-4239-a064-e0f5de78c5f7",
   "metadata": {},
   "outputs": [
    {
     "data": {
      "text/plain": [
       "'... of ... three ... ... character words ... be ... ...'"
      ]
     },
     "execution_count": 205,
     "metadata": {},
     "output_type": "execute_result"
    }
   ],
   "source": [
    "re.sub(r\"\\b[a-zA-Z]{3,4}\\b\", \"...\" , myText2)"
   ]
  },
  {
   "cell_type": "code",
   "execution_count": 206,
   "id": "0b1084b8-ab9f-4e66-a405-0c5e0b304059",
   "metadata": {},
   "outputs": [
    {
     "data": {
      "text/plain": [
       "'... of ... three ... ... character words ... be ... ...'"
      ]
     },
     "execution_count": 206,
     "metadata": {},
     "output_type": "execute_result"
    }
   ],
   "source": [
    "re.sub(r\"\\b\\S{3,4}\\b\", \"...\" , myText2)"
   ]
  },
  {
   "cell_type": "markdown",
   "id": "9e069cf8-63ec-4fd5-8d01-3e000533881f",
   "metadata": {},
   "source": [
    "##### e) Extract all the three numbers embedded in the following text."
   ]
  },
  {
   "cell_type": "code",
   "execution_count": 242,
   "id": "391276cb-b8f3-406b-a017-8c4312f9253a",
   "metadata": {},
   "outputs": [],
   "source": [
    "bigText = 'There are four 20@14 numbers hid989den in the 500 texts'"
   ]
  },
  {
   "cell_type": "code",
   "execution_count": 244,
   "id": "42fd8a2e-d093-4961-bc5a-e23c88a5202e",
   "metadata": {},
   "outputs": [
    {
     "data": {
      "text/plain": [
       "['20', '14', '989', '500']"
      ]
     },
     "execution_count": 244,
     "metadata": {},
     "output_type": "execute_result"
    }
   ],
   "source": [
    "re.findall(r\"[\\d]+\", bigText)"
   ]
  },
  {
   "cell_type": "code",
   "execution_count": 245,
   "id": "ff96c869-5741-4ced-a3a1-5b5e5132386a",
   "metadata": {},
   "outputs": [
    {
     "data": {
      "text/plain": [
       "['20', '14', '989', '500']"
      ]
     },
     "execution_count": 245,
     "metadata": {},
     "output_type": "execute_result"
    }
   ],
   "source": [
    "re.findall(r\"\\d{1,}\" ,bigText )"
   ]
  },
  {
   "cell_type": "code",
   "execution_count": 246,
   "id": "f696810d-aff0-4c4b-a134-c91ce4d229f1",
   "metadata": {},
   "outputs": [
    {
     "data": {
      "text/plain": [
       "['20', '14', '989', '500']"
      ]
     },
     "execution_count": 246,
     "metadata": {},
     "output_type": "execute_result"
    }
   ],
   "source": [
    "re.findall(r\"\\d+\", bigText)"
   ]
  },
  {
   "cell_type": "markdown",
   "id": "9c2de3bc-7b9d-4292-a998-1a3c5594ec53",
   "metadata": {},
   "source": [
    "##### f) Extract all the words between parenthesis from the following string text and count number of words."
   ]
  },
  {
   "cell_type": "code",
   "execution_count": 207,
   "id": "ff687571-8659-4e98-8229-d3ba642b7c96",
   "metadata": {},
   "outputs": [],
   "source": [
    "myTextf = 'The salries are reported (in millions) for every company.'"
   ]
  },
  {
   "cell_type": "code",
   "execution_count": 208,
   "id": "e3599ecf-eec1-4374-88d4-b9d6df53287a",
   "metadata": {},
   "outputs": [
    {
     "data": {
      "text/plain": [
       "(['in millions'], 10)"
      ]
     },
     "execution_count": 208,
     "metadata": {},
     "output_type": "execute_result"
    }
   ],
   "source": [
    "a = re.findall(r\"\\({1}(.*)\\){1}\", str(myTextf))\n",
    "b =re.findall(r\"[a-zA-Z]\",str(a))\n",
    "a , len(b)"
   ]
  },
  {
   "cell_type": "code",
   "execution_count": 209,
   "id": "6fffb2fb-842b-4c9c-ace4-671d53ab5828",
   "metadata": {},
   "outputs": [
    {
     "data": {
      "text/plain": [
       "(['in millions'], 2)"
      ]
     },
     "execution_count": 209,
     "metadata": {},
     "output_type": "execute_result"
    }
   ],
   "source": [
    "a = re.findall(r\"\\({1}(.*)\\){1}\", str(myTextf))\n",
    "b =re.findall(r\"[a-zA-Z]\\b\",str(a))\n",
    "a , len(b)"
   ]
  },
  {
   "cell_type": "markdown",
   "id": "adb63503-1385-4ce4-b711-1c74af77ae9d",
   "metadata": {},
   "source": [
    "##### g) Extract the texts in between _ and dot(.) in the following list. Your output should be ‘bill’, ‘pay’, ‘fine-book’."
   ]
  },
  {
   "cell_type": "code",
   "execution_count": 53,
   "id": "138531b1-b467-4da4-be01-d43d45a332e9",
   "metadata": {},
   "outputs": [],
   "source": [
    "myText4 = [\"H_bill.xls\", \"Big_H_pay.xls\", \"Use_case_fine-book.pdf\"]"
   ]
  },
  {
   "cell_type": "code",
   "execution_count": 248,
   "id": "1ae17907-703f-49ef-a168-d04c1072cfe5",
   "metadata": {},
   "outputs": [
    {
     "data": {
      "text/plain": [
       "\"['H_bill.xls', 'Big_H_pay.xls', 'Use_case_fine-book.pdf']\""
      ]
     },
     "execution_count": 248,
     "metadata": {},
     "output_type": "execute_result"
    }
   ],
   "source": [
    "str(myText4)"
   ]
  },
  {
   "cell_type": "code",
   "execution_count": 54,
   "id": "4acc9d49-f77e-41b0-9676-2d9ad09afba3",
   "metadata": {},
   "outputs": [
    {
     "data": {
      "text/plain": [
       "['bill', 'pay', 'fine-book']"
      ]
     },
     "execution_count": 54,
     "metadata": {},
     "output_type": "execute_result"
    }
   ],
   "source": [
    "re.findall(r\"\\_([^_]+)\\.\", str(myText4))"
   ]
  },
  {
   "cell_type": "code",
   "execution_count": 251,
   "id": "1d6fd4ef-0e35-4f3c-8009-0fe3fb4281d6",
   "metadata": {},
   "outputs": [
    {
     "name": "stdout",
     "output_type": "stream",
     "text": [
      "bill\n",
      "pay\n",
      "fine-book\n"
     ]
    }
   ],
   "source": [
    "for item in myText4:\n",
    "    print(re.findall(r\"(\\_[A-Za-z\\-\\s]+\\.)\" ,item )[0][1:-1])"
   ]
  },
  {
   "cell_type": "markdown",
   "id": "c636aab9-20ea-4895-a589-7bff34f6d8ea",
   "metadata": {},
   "source": [
    "##### h) Extract the numbers (return only integers) that are followed by the units ‘ml’ or ‘lb’ in the following text."
   ]
  },
  {
   "cell_type": "code",
   "execution_count": 56,
   "id": "2fde1405-5b94-4775-82f3-3708dbb02b34",
   "metadata": {},
   "outputs": [],
   "source": [
    "myTexth = 'Received 10 apples with 200ml water at 8pm with 15 lb meat and 2lb salt'"
   ]
  },
  {
   "cell_type": "code",
   "execution_count": 254,
   "id": "9a920c6c-8156-43cf-912e-18287a6b5205",
   "metadata": {},
   "outputs": [
    {
     "name": "stdout",
     "output_type": "stream",
     "text": [
      "4.25 µs ± 79.3 ns per loop (mean ± std. dev. of 7 runs, 100,000 loops each)\n"
     ]
    }
   ],
   "source": [
    "%%timeit\n",
    "re.findall(r\"(\\d+) ?[(ml)|(lb)]\", myTexth)"
   ]
  },
  {
   "cell_type": "code",
   "execution_count": 57,
   "id": "97528b43-96f4-40d5-8b6b-1e8d27e081aa",
   "metadata": {},
   "outputs": [
    {
     "name": "stdout",
     "output_type": "stream",
     "text": [
      "4.31 µs ± 191 ns per loop (mean ± std. dev. of 7 runs, 100,000 loops each)\n"
     ]
    }
   ],
   "source": [
    "%%timeit\n",
    "re.findall(r\"\\d+(?= ?(?:(?:ml)|(?:lb))\\W)\" , myTexth)"
   ]
  },
  {
   "cell_type": "code",
   "execution_count": 58,
   "id": "d2594317-a78b-4f33-9ca7-a4c7ce726cfa",
   "metadata": {},
   "outputs": [
    {
     "data": {
      "text/plain": [
       "['200', '15', '2']"
      ]
     },
     "execution_count": 58,
     "metadata": {},
     "output_type": "execute_result"
    }
   ],
   "source": [
    "re.findall(r\"\\d+(?= ?(?:(?:ml)|(?:lb))\\W)\" , myTexth)"
   ]
  },
  {
   "cell_type": "markdown",
   "id": "c730900e-5d30-490c-b53e-1ab271d84041",
   "metadata": {},
   "source": [
    "##### i) Extract only the word in between pair of symbols \\\\$. Count number of words you have found between pairs of dollar sign \\\\$"
   ]
  },
  {
   "cell_type": "code",
   "execution_count": 91,
   "id": "79220ba1-6eac-4aab-8e3b-3c1455677551",
   "metadata": {},
   "outputs": [],
   "source": [
    "myTexti = 'Math symbols are $written$ in $between$ dollar $signs$'"
   ]
  },
  {
   "cell_type": "code",
   "execution_count": 92,
   "id": "20daf141-048f-4244-abde-e339efde03a6",
   "metadata": {},
   "outputs": [
    {
     "data": {
      "text/plain": [
       "['written', 'between', 'signs']"
      ]
     },
     "execution_count": 92,
     "metadata": {},
     "output_type": "execute_result"
    }
   ],
   "source": [
    "re.findall(r\"\\$(\\w+)\\$\", str(myTexti))"
   ]
  },
  {
   "cell_type": "markdown",
   "id": "c7d17049-c284-4f51-9293-82cf84c1f331",
   "metadata": {},
   "source": [
    "##### j) Extract all the valid equations in the following text."
   ]
  },
  {
   "cell_type": "code",
   "execution_count": 220,
   "id": "cb1d7f28-d7be-4130-9c95-ea304bf3aa9b",
   "metadata": {},
   "outputs": [],
   "source": [
    "myTextj = 'equation1: 2+3=5, equation2 is: 2*3=6, do not extract 2w3=6'"
   ]
  },
  {
   "cell_type": "code",
   "execution_count": 122,
   "id": "8b0721d7",
   "metadata": {},
   "outputs": [
    {
     "data": {
      "text/plain": [
       "['2+3=5', '2*3=6']"
      ]
     },
     "execution_count": 122,
     "metadata": {},
     "output_type": "execute_result"
    }
   ],
   "source": [
    "re.findall(r\"\\d[+*]\\d=\\d\", str(myTextj))"
   ]
  }
 ],
 "metadata": {
  "kernelspec": {
   "display_name": "Python 3 (ipykernel)",
   "language": "python",
   "name": "python3"
  },
  "language_info": {
   "codemirror_mode": {
    "name": "ipython",
    "version": 3
   },
   "file_extension": ".py",
   "mimetype": "text/x-python",
   "name": "python",
   "nbconvert_exporter": "python",
   "pygments_lexer": "ipython3",
   "version": "3.9.6"
  }
 },
 "nbformat": 4,
 "nbformat_minor": 5
}
