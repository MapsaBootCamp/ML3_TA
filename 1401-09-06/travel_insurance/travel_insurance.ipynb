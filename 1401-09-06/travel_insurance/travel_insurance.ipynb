{
 "cells": [
  {
   "cell_type": "markdown",
   "id": "a8335c8a-a8bc-457e-ac47-1c3e60c053c8",
   "metadata": {},
   "source": [
    "# Travel Insurance"
   ]
  },
  {
   "cell_type": "markdown",
   "id": "a89f3f28-2e8c-4e78-ae35-eec6c5e683ad",
   "metadata": {},
   "source": [
    "Problem Description: [Link in Quera](https://quera.org/problemset/125316/)"
   ]
  },
  {
   "cell_type": "code",
   "execution_count": 1,
   "id": "959ecb7e-e585-44e7-8d51-6c8660d1c322",
   "metadata": {},
   "outputs": [],
   "source": [
    "import pandas as pd\n",
    "import numpy as np"
   ]
  },
  {
   "cell_type": "code",
   "execution_count": 2,
   "id": "64e8edc2-e77d-43c6-8c86-1b072fe1b9b8",
   "metadata": {},
   "outputs": [
    {
     "data": {
      "text/html": [
       "<div>\n",
       "<style scoped>\n",
       "    .dataframe tbody tr th:only-of-type {\n",
       "        vertical-align: middle;\n",
       "    }\n",
       "\n",
       "    .dataframe tbody tr th {\n",
       "        vertical-align: top;\n",
       "    }\n",
       "\n",
       "    .dataframe thead th {\n",
       "        text-align: right;\n",
       "    }\n",
       "</style>\n",
       "<table border=\"1\" class=\"dataframe\">\n",
       "  <thead>\n",
       "    <tr style=\"text-align: right;\">\n",
       "      <th></th>\n",
       "      <th>Customer Id</th>\n",
       "      <th>Age</th>\n",
       "      <th>Employment Type</th>\n",
       "      <th>GraduateOrNot</th>\n",
       "      <th>AnnualIncome</th>\n",
       "      <th>FamilyMembers</th>\n",
       "      <th>ChronicDiseases</th>\n",
       "      <th>FrequentFlyer</th>\n",
       "      <th>EverTravelledAbroad</th>\n",
       "      <th>TravelInsurance</th>\n",
       "    </tr>\n",
       "  </thead>\n",
       "  <tbody>\n",
       "    <tr>\n",
       "      <th>0</th>\n",
       "      <td>3JUN0VW6F043</td>\n",
       "      <td>34</td>\n",
       "      <td>Private Sector/Self Employed</td>\n",
       "      <td>Yes</td>\n",
       "      <td>1300000</td>\n",
       "      <td>6</td>\n",
       "      <td>0</td>\n",
       "      <td>Yes</td>\n",
       "      <td>No</td>\n",
       "      <td>No</td>\n",
       "    </tr>\n",
       "    <tr>\n",
       "      <th>1</th>\n",
       "      <td>VLHY2ABIR4QL</td>\n",
       "      <td>28</td>\n",
       "      <td>Private Sector/Self Employed</td>\n",
       "      <td>Yes</td>\n",
       "      <td>750000</td>\n",
       "      <td>7</td>\n",
       "      <td>0</td>\n",
       "      <td>Yes</td>\n",
       "      <td>No</td>\n",
       "      <td>No</td>\n",
       "    </tr>\n",
       "    <tr>\n",
       "      <th>2</th>\n",
       "      <td>6E3F7UNXYNFF</td>\n",
       "      <td>28</td>\n",
       "      <td>Private Sector/Self Employed</td>\n",
       "      <td>Yes</td>\n",
       "      <td>750000</td>\n",
       "      <td>6</td>\n",
       "      <td>0</td>\n",
       "      <td>Yes</td>\n",
       "      <td>No</td>\n",
       "      <td>No</td>\n",
       "    </tr>\n",
       "    <tr>\n",
       "      <th>3</th>\n",
       "      <td>JJ8R0ZRYWR31</td>\n",
       "      <td>32</td>\n",
       "      <td>Government Sector</td>\n",
       "      <td>Yes</td>\n",
       "      <td>800000</td>\n",
       "      <td>6</td>\n",
       "      <td>1</td>\n",
       "      <td>No</td>\n",
       "      <td>No</td>\n",
       "      <td>No</td>\n",
       "    </tr>\n",
       "    <tr>\n",
       "      <th>4</th>\n",
       "      <td>2WGFUEX6IEHM</td>\n",
       "      <td>34</td>\n",
       "      <td>Private Sector/Self Employed</td>\n",
       "      <td>Yes</td>\n",
       "      <td>700000</td>\n",
       "      <td>4</td>\n",
       "      <td>1</td>\n",
       "      <td>No</td>\n",
       "      <td>No</td>\n",
       "      <td>No</td>\n",
       "    </tr>\n",
       "    <tr>\n",
       "      <th>...</th>\n",
       "      <td>...</td>\n",
       "      <td>...</td>\n",
       "      <td>...</td>\n",
       "      <td>...</td>\n",
       "      <td>...</td>\n",
       "      <td>...</td>\n",
       "      <td>...</td>\n",
       "      <td>...</td>\n",
       "      <td>...</td>\n",
       "      <td>...</td>\n",
       "    </tr>\n",
       "    <tr>\n",
       "      <th>1585</th>\n",
       "      <td>W9JDK752JWHA</td>\n",
       "      <td>29</td>\n",
       "      <td>Private Sector/Self Employed</td>\n",
       "      <td>Yes</td>\n",
       "      <td>600000</td>\n",
       "      <td>3</td>\n",
       "      <td>0</td>\n",
       "      <td>No</td>\n",
       "      <td>No</td>\n",
       "      <td>No</td>\n",
       "    </tr>\n",
       "    <tr>\n",
       "      <th>1586</th>\n",
       "      <td>2JEE5P5T9MT0</td>\n",
       "      <td>34</td>\n",
       "      <td>Private Sector/Self Employed</td>\n",
       "      <td>Yes</td>\n",
       "      <td>850000</td>\n",
       "      <td>3</td>\n",
       "      <td>1</td>\n",
       "      <td>No</td>\n",
       "      <td>Yes</td>\n",
       "      <td>No</td>\n",
       "    </tr>\n",
       "    <tr>\n",
       "      <th>1587</th>\n",
       "      <td>797K83M5QWO2</td>\n",
       "      <td>34</td>\n",
       "      <td>Private Sector/Self Employed</td>\n",
       "      <td>No</td>\n",
       "      <td>1300000</td>\n",
       "      <td>4</td>\n",
       "      <td>0</td>\n",
       "      <td>No</td>\n",
       "      <td>No</td>\n",
       "      <td>No</td>\n",
       "    </tr>\n",
       "    <tr>\n",
       "      <th>1588</th>\n",
       "      <td>8V9QYC8TCCMF</td>\n",
       "      <td>33</td>\n",
       "      <td>Government Sector</td>\n",
       "      <td>Yes</td>\n",
       "      <td>400000</td>\n",
       "      <td>5</td>\n",
       "      <td>0</td>\n",
       "      <td>No</td>\n",
       "      <td>No</td>\n",
       "      <td>No</td>\n",
       "    </tr>\n",
       "    <tr>\n",
       "      <th>1589</th>\n",
       "      <td>8VEME4MXPTBC</td>\n",
       "      <td>28</td>\n",
       "      <td>Private Sector/Self Employed</td>\n",
       "      <td>Yes</td>\n",
       "      <td>750000</td>\n",
       "      <td>5</td>\n",
       "      <td>1</td>\n",
       "      <td>Yes</td>\n",
       "      <td>No</td>\n",
       "      <td>No</td>\n",
       "    </tr>\n",
       "  </tbody>\n",
       "</table>\n",
       "<p>1590 rows × 10 columns</p>\n",
       "</div>"
      ],
      "text/plain": [
       "       Customer Id  Age               Employment Type GraduateOrNot  \\\n",
       "0     3JUN0VW6F043   34  Private Sector/Self Employed           Yes   \n",
       "1     VLHY2ABIR4QL   28  Private Sector/Self Employed           Yes   \n",
       "2     6E3F7UNXYNFF   28  Private Sector/Self Employed           Yes   \n",
       "3     JJ8R0ZRYWR31   32             Government Sector           Yes   \n",
       "4     2WGFUEX6IEHM   34  Private Sector/Self Employed           Yes   \n",
       "...            ...  ...                           ...           ...   \n",
       "1585  W9JDK752JWHA   29  Private Sector/Self Employed           Yes   \n",
       "1586  2JEE5P5T9MT0   34  Private Sector/Self Employed           Yes   \n",
       "1587  797K83M5QWO2   34  Private Sector/Self Employed            No   \n",
       "1588  8V9QYC8TCCMF   33             Government Sector           Yes   \n",
       "1589  8VEME4MXPTBC   28  Private Sector/Self Employed           Yes   \n",
       "\n",
       "      AnnualIncome  FamilyMembers  ChronicDiseases FrequentFlyer  \\\n",
       "0          1300000              6                0           Yes   \n",
       "1           750000              7                0           Yes   \n",
       "2           750000              6                0           Yes   \n",
       "3           800000              6                1            No   \n",
       "4           700000              4                1            No   \n",
       "...            ...            ...              ...           ...   \n",
       "1585        600000              3                0            No   \n",
       "1586        850000              3                1            No   \n",
       "1587       1300000              4                0            No   \n",
       "1588        400000              5                0            No   \n",
       "1589        750000              5                1           Yes   \n",
       "\n",
       "     EverTravelledAbroad TravelInsurance  \n",
       "0                     No              No  \n",
       "1                     No              No  \n",
       "2                     No              No  \n",
       "3                     No              No  \n",
       "4                     No              No  \n",
       "...                  ...             ...  \n",
       "1585                  No              No  \n",
       "1586                 Yes              No  \n",
       "1587                  No              No  \n",
       "1588                  No              No  \n",
       "1589                  No              No  \n",
       "\n",
       "[1590 rows x 10 columns]"
      ]
     },
     "execution_count": 2,
     "metadata": {},
     "output_type": "execute_result"
    }
   ],
   "source": [
    "df = pd.read_csv('./data/train.csv')\n",
    "df"
   ]
  },
  {
   "cell_type": "markdown",
   "id": "a3057db9-6cdc-4a8a-a5f4-04116b85bcf8",
   "metadata": {},
   "source": [
    "## Q1:"
   ]
  },
  {
   "cell_type": "code",
   "execution_count": 4,
   "id": "b1e94d27-8765-48ce-8b6c-d261fea39b6c",
   "metadata": {},
   "outputs": [
    {
     "data": {
      "text/plain": [
       "'rows: 1590 columns: 10'"
      ]
     },
     "execution_count": 4,
     "metadata": {},
     "output_type": "execute_result"
    }
   ],
   "source": [
    "rows, columns = df.shape\n",
    "f'rows: {rows} columns: {columns}'"
   ]
  },
  {
   "cell_type": "code",
   "execution_count": 7,
   "id": "8bab886a-be2c-44c2-836a-07072f4f9b71",
   "metadata": {},
   "outputs": [
    {
     "data": {
      "text/plain": [
       "'1590 10'"
      ]
     },
     "execution_count": 7,
     "metadata": {},
     "output_type": "execute_result"
    }
   ],
   "source": [
    "q1 = '{} {}'.format(*df.shape)\n",
    "q1"
   ]
  },
  {
   "cell_type": "markdown",
   "id": "0742d5b8-7133-4a7b-af7e-2caf4c55a6e2",
   "metadata": {},
   "source": [
    "## Q2:"
   ]
  },
  {
   "cell_type": "code",
   "execution_count": 8,
   "id": "f3787486-4a84-4315-8722-8e1038621634",
   "metadata": {},
   "outputs": [
    {
     "data": {
      "text/plain": [
       "'The average annual income of customers is 928553'"
      ]
     },
     "execution_count": 8,
     "metadata": {},
     "output_type": "execute_result"
    }
   ],
   "source": [
    "q2 = int(df.AnnualIncome.mean().round())\n",
    "f'The average annual income of customers is {q2}'"
   ]
  },
  {
   "cell_type": "markdown",
   "id": "65e7105e-f7b0-4bdb-afdb-d928b02207d0",
   "metadata": {},
   "source": [
    "## Q3:"
   ]
  },
  {
   "cell_type": "code",
   "execution_count": 5,
   "id": "8609edac-fd7d-4d55-ad15-79852898f423",
   "metadata": {},
   "outputs": [
    {
     "name": "stdout",
     "output_type": "stream",
     "text": [
      "576 µs ± 89 µs per loop (mean ± std. dev. of 7 runs, 1000 loops each)\n"
     ]
    }
   ],
   "source": [
    "%%timeit\n",
    "df[df.EverTravelledAbroad == 'Yes'].shape[0]"
   ]
  },
  {
   "cell_type": "code",
   "execution_count": 6,
   "id": "6d7033ad-7bfd-4565-bd4f-5f47b9867197",
   "metadata": {},
   "outputs": [
    {
     "name": "stdout",
     "output_type": "stream",
     "text": [
      "263 µs ± 3.09 µs per loop (mean ± std. dev. of 7 runs, 1000 loops each)\n"
     ]
    }
   ],
   "source": [
    "%%timeit\n",
    "np.where(df.EverTravelledAbroad == 'Yes', 1, 0).sum()"
   ]
  },
  {
   "cell_type": "code",
   "execution_count": 7,
   "id": "4e0b72d6-89b8-4d33-98c9-0da8539add51",
   "metadata": {},
   "outputs": [
    {
     "name": "stdout",
     "output_type": "stream",
     "text": [
      "1.75 ms ± 86.8 µs per loop (mean ± std. dev. of 7 runs, 1000 loops each)\n"
     ]
    }
   ],
   "source": [
    "%%timeit\n",
    "len(df.query(\"EverTravelledAbroad == 'Yes'\"))"
   ]
  },
  {
   "cell_type": "code",
   "execution_count": 8,
   "id": "375381f6-0da9-4229-92c6-90945dec8bc7",
   "metadata": {},
   "outputs": [
    {
     "name": "stdout",
     "output_type": "stream",
     "text": [
      "509 µs ± 14.3 µs per loop (mean ± std. dev. of 7 runs, 1000 loops each)\n"
     ]
    }
   ],
   "source": [
    "%%timeit\n",
    "df.loc[df.EverTravelledAbroad == 'Yes'].shape[0]"
   ]
  },
  {
   "cell_type": "code",
   "execution_count": 9,
   "id": "4c11c048-2b54-4143-8a6f-ce31388cb4a8",
   "metadata": {},
   "outputs": [
    {
     "name": "stdout",
     "output_type": "stream",
     "text": [
      "313 µs ± 10.1 µs per loop (mean ± std. dev. of 7 runs, 1000 loops each)\n"
     ]
    }
   ],
   "source": [
    "%%timeit\n",
    "(df.EverTravelledAbroad =='Yes').sum()"
   ]
  },
  {
   "cell_type": "code",
   "execution_count": 10,
   "id": "c651f9e7-395d-479e-ad64-a37a2ad3bb67",
   "metadata": {},
   "outputs": [
    {
     "name": "stdout",
     "output_type": "stream",
     "text": [
      "392 µs ± 10.9 µs per loop (mean ± std. dev. of 7 runs, 1000 loops each)\n"
     ]
    }
   ],
   "source": [
    "%%timeit\n",
    "sum(df.EverTravelledAbroad =='Yes')"
   ]
  },
  {
   "cell_type": "code",
   "execution_count": 11,
   "id": "8235ace7-81f4-4c64-a6b0-c9a2929b6436",
   "metadata": {},
   "outputs": [
    {
     "name": "stdout",
     "output_type": "stream",
     "text": [
      "619 µs ± 152 µs per loop (mean ± std. dev. of 7 runs, 1000 loops each)\n"
     ]
    }
   ],
   "source": [
    "%%timeit\n",
    "df.EverTravelledAbroad.value_counts()['Yes']"
   ]
  },
  {
   "cell_type": "code",
   "execution_count": 9,
   "id": "71f80dfa-0613-4cd7-a031-221346a1707f",
   "metadata": {},
   "outputs": [
    {
     "data": {
      "text/plain": [
       "'The number of customers that had foreign travel: 302'"
      ]
     },
     "execution_count": 9,
     "metadata": {},
     "output_type": "execute_result"
    }
   ],
   "source": [
    "q3 = np.where(df.EverTravelledAbroad == 'Yes', 1, 0).sum()\n",
    "f'The number of customers that had foreign travel: {q3}'"
   ]
  },
  {
   "cell_type": "markdown",
   "id": "04ebe7dc-6c21-42a2-b377-5cba2f7f2129",
   "metadata": {},
   "source": [
    "## Q4:"
   ]
  },
  {
   "cell_type": "code",
   "execution_count": 10,
   "id": "84d2a69e-335e-437c-8445-0aa514793bbf",
   "metadata": {},
   "outputs": [
    {
     "data": {
      "text/plain": [
       "array(['Private Sector/Self Employed', 'Government Sector'], dtype=object)"
      ]
     },
     "execution_count": 10,
     "metadata": {},
     "output_type": "execute_result"
    }
   ],
   "source": [
    "df['Employment Type'].unique()"
   ]
  },
  {
   "cell_type": "code",
   "execution_count": 14,
   "id": "db082461-e94f-482d-b367-be6b92f7b565",
   "metadata": {},
   "outputs": [
    {
     "data": {
      "text/plain": [
       "'Private Sector/Self Employed 72.64'"
      ]
     },
     "execution_count": 14,
     "metadata": {},
     "output_type": "execute_result"
    }
   ],
   "source": [
    "em = df['Employment Type'].value_counts(normalize=True) * 100\n",
    "q4 = em[em == em.max()].round(2)\n",
    "q4 = '{} {}'.format(*next(q4.items()))\n",
    "q4"
   ]
  },
  {
   "cell_type": "code",
   "execution_count": 25,
   "id": "d61c938f-f976-4c29-be4a-ec473af28a60",
   "metadata": {},
   "outputs": [],
   "source": [
    "tst = em.nlargest(1).round(2)"
   ]
  },
  {
   "cell_type": "code",
   "execution_count": 26,
   "id": "fc176825-315c-490b-948b-7fcf52258e69",
   "metadata": {},
   "outputs": [
    {
     "data": {
      "text/plain": [
       "72.64"
      ]
     },
     "execution_count": 26,
     "metadata": {},
     "output_type": "execute_result"
    }
   ],
   "source": [
    "tst.item()"
   ]
  },
  {
   "cell_type": "code",
   "execution_count": 27,
   "id": "73447d94-9201-4cdc-9985-751ef8d7925e",
   "metadata": {},
   "outputs": [
    {
     "data": {
      "text/plain": [
       "Private Sector/Self Employed    72.64\n",
       "Name: Employment Type, dtype: float64"
      ]
     },
     "execution_count": 27,
     "metadata": {},
     "output_type": "execute_result"
    }
   ],
   "source": [
    "tst"
   ]
  },
  {
   "cell_type": "code",
   "execution_count": 28,
   "id": "d2602454-b76c-4750-be33-9f96ee247277",
   "metadata": {},
   "outputs": [],
   "source": [
    "a = 'this is a sentence'"
   ]
  },
  {
   "cell_type": "code",
   "execution_count": 30,
   "id": "128ff9f3-adf0-4a70-8802-ff8abc029142",
   "metadata": {},
   "outputs": [
    {
     "data": {
      "text/plain": [
       "<str_iterator at 0x9830145e50>"
      ]
     },
     "execution_count": 30,
     "metadata": {},
     "output_type": "execute_result"
    }
   ],
   "source": [
    "f = iter(a)\n",
    "f"
   ]
  },
  {
   "cell_type": "code",
   "execution_count": 50,
   "id": "d5b7a715-4035-42bb-9db9-9135f674de6f",
   "metadata": {},
   "outputs": [
    {
     "ename": "StopIteration",
     "evalue": "",
     "output_type": "error",
     "traceback": [
      "\u001b[1;31m---------------------------------------------------------------------------\u001b[0m",
      "\u001b[1;31mStopIteration\u001b[0m                             Traceback (most recent call last)",
      "\u001b[1;32mC:\\Users\\AMIREL~1\\AppData\\Local\\Temp/ipykernel_2900/4256387510.py\u001b[0m in \u001b[0;36m<module>\u001b[1;34m\u001b[0m\n\u001b[1;32m----> 1\u001b[1;33m \u001b[0mnext\u001b[0m\u001b[1;33m(\u001b[0m\u001b[0mf\u001b[0m\u001b[1;33m)\u001b[0m\u001b[1;33m\u001b[0m\u001b[1;33m\u001b[0m\u001b[0m\n\u001b[0m",
      "\u001b[1;31mStopIteration\u001b[0m: "
     ]
    }
   ],
   "source": [
    "next(f)"
   ]
  },
  {
   "cell_type": "code",
   "execution_count": 51,
   "id": "2a7aebd0-3441-4e14-a877-5bfb7399907f",
   "metadata": {},
   "outputs": [
    {
     "data": {
      "text/plain": [
       "Private Sector/Self Employed    72.64\n",
       "Name: Employment Type, dtype: float64"
      ]
     },
     "execution_count": 51,
     "metadata": {},
     "output_type": "execute_result"
    }
   ],
   "source": [
    "em.nlargest(1).round(2)"
   ]
  },
  {
   "cell_type": "code",
   "execution_count": null,
   "id": "9271e212-52b2-40d0-87d5-0a9b2811bc13",
   "metadata": {},
   "outputs": [],
   "source": []
  },
  {
   "cell_type": "code",
   "execution_count": 60,
   "id": "6d28d0e5-9793-484e-84d7-7440ec805d50",
   "metadata": {},
   "outputs": [],
   "source": [
    "em = df['Employment Type'].value_counts(normalize=True) * 100\n",
    "q4 = em.nlargest(1).round(2)"
   ]
  },
  {
   "cell_type": "code",
   "execution_count": 75,
   "id": "a50ca733-7523-4796-a9ed-2c25adc5b60e",
   "metadata": {},
   "outputs": [],
   "source": [
    "q4 = em \\\n",
    ".nlargest(1) \\\n",
    ".round(2)"
   ]
  },
  {
   "cell_type": "code",
   "execution_count": null,
   "id": "9f887563-2f31-4de6-96e0-c25f6ac840ab",
   "metadata": {},
   "outputs": [],
   "source": [
    "q4 = (em\n",
    "      .nlargest(1)  \n",
    "      .round(2)\n",
    "     )"
   ]
  },
  {
   "cell_type": "code",
   "execution_count": 61,
   "id": "9347ebcc-e398-4d4f-8163-4f3edfc82c76",
   "metadata": {},
   "outputs": [],
   "source": [
    "rt = q4.items()"
   ]
  },
  {
   "cell_type": "code",
   "execution_count": 62,
   "id": "0389775b-e24e-46ee-96be-51df5a99b7d5",
   "metadata": {},
   "outputs": [
    {
     "data": {
      "text/plain": [
       "<zip at 0x9830146d80>"
      ]
     },
     "execution_count": 62,
     "metadata": {},
     "output_type": "execute_result"
    }
   ],
   "source": [
    "rt."
   ]
  },
  {
   "cell_type": "code",
   "execution_count": 78,
   "id": "6f28a882-222c-47b0-803f-29084cc782eb",
   "metadata": {},
   "outputs": [
    {
     "data": {
      "text/plain": [
       "'Private Sector/Self Employed 72.64'"
      ]
     },
     "execution_count": 78,
     "metadata": {},
     "output_type": "execute_result"
    }
   ],
   "source": [
    "q4 = '{} {}'.format(*next(q4.items()))\n",
    "q4"
   ]
  },
  {
   "cell_type": "markdown",
   "id": "8b7261ae-99f9-4134-99b0-3f875f4b8b56",
   "metadata": {},
   "source": [
    "## Q5:"
   ]
  },
  {
   "cell_type": "code",
   "execution_count": 64,
   "id": "3902167c-651c-4676-a9fe-5eabf58d5636",
   "metadata": {},
   "outputs": [
    {
     "data": {
      "text/plain": [
       "array([0, 1], dtype=int64)"
      ]
     },
     "execution_count": 64,
     "metadata": {},
     "output_type": "execute_result"
    }
   ],
   "source": [
    "df.ChronicDiseases.unique()"
   ]
  },
  {
   "cell_type": "code",
   "execution_count": 65,
   "id": "4f7f275a-0601-44f2-bf87-7bc8042bea35",
   "metadata": {},
   "outputs": [
    {
     "data": {
      "text/plain": [
       "array(['No', 'Yes'], dtype=object)"
      ]
     },
     "execution_count": 65,
     "metadata": {},
     "output_type": "execute_result"
    }
   ],
   "source": [
    "df.TravelInsurance.unique()"
   ]
  },
  {
   "cell_type": "code",
   "execution_count": 73,
   "id": "69c76b86-69ce-44ff-a8b4-504fb4d2caed",
   "metadata": {},
   "outputs": [
    {
     "name": "stdout",
     "output_type": "stream",
     "text": [
      "843 µs ± 40 µs per loop (mean ± std. dev. of 7 runs, 1000 loops each)\n"
     ]
    }
   ],
   "source": [
    "%%timeit\n",
    "dfc = df.loc[df.ChronicDiseases == 1]\n",
    "dfcy = dfc.loc[dfc.TravelInsurance == 'Yes']\n",
    "len(dfcy) / len(dfc) * 100"
   ]
  },
  {
   "cell_type": "code",
   "execution_count": 14,
   "id": "fac0022f-75fc-4bcf-88f4-e07ab8b270e3",
   "metadata": {},
   "outputs": [
    {
     "name": "stdout",
     "output_type": "stream",
     "text": [
      "1.04 ms ± 71.7 µs per loop (mean ± std. dev. of 7 runs, 1000 loops each)\n"
     ]
    }
   ],
   "source": [
    "%%timeit\n",
    "chronic_diseases_mask = (df.ChronicDiseases == 1)\n",
    "chronic_and_insurance_mask = df.ChronicDiseases & (df.TravelInsurance == 'Yes')\n",
    "prs = len(df[chronic_and_insurance_mask]) / len(df[chronic_diseases_mask]) * 100\n",
    "prs = round(prs, 2)\n",
    "prs"
   ]
  },
  {
   "cell_type": "code",
   "execution_count": 15,
   "id": "1eec47ea-fdab-45f6-9d9c-c813f6fbd20f",
   "metadata": {},
   "outputs": [
    {
     "name": "stdout",
     "output_type": "stream",
     "text": [
      "659 µs ± 27.5 µs per loop (mean ± std. dev. of 7 runs, 1000 loops each)\n"
     ]
    }
   ],
   "source": [
    "%%timeit\n",
    "chronic_diseases = df.ChronicDiseases.sum()\n",
    "chronic_and_insurance = ((df.ChronicDiseases == 1) & (df.TravelInsurance == 'Yes')).sum()\n",
    "prs = chronic_and_insurance / chronic_diseases * 100\n",
    "q5 = round(prs, 2)"
   ]
  },
  {
   "cell_type": "code",
   "execution_count": 74,
   "id": "e2123747-ebb8-4fe3-8a09-ea20ff7cb755",
   "metadata": {},
   "outputs": [
    {
     "data": {
      "text/plain": [
       "37.53"
      ]
     },
     "execution_count": 74,
     "metadata": {},
     "output_type": "execute_result"
    }
   ],
   "source": [
    "chronic_diseases = df.ChronicDiseases.sum()\n",
    "chronic_and_insurance = ((df.ChronicDiseases == 1) & (df.TravelInsurance == 'Yes')).sum()\n",
    "prs = chronic_and_insurance / chronic_diseases * 100\n",
    "q5 = round(prs, 2)\n",
    "q5"
   ]
  },
  {
   "cell_type": "markdown",
   "id": "e3a94009-7f70-4054-8014-daaff77eaadd",
   "metadata": {},
   "source": [
    "## Output:"
   ]
  },
  {
   "cell_type": "code",
   "execution_count": 84,
   "id": "ffa134c6-ec56-4d8d-b7f5-0f12a5cbdddd",
   "metadata": {},
   "outputs": [
    {
     "name": "stdout",
     "output_type": "stream",
     "text": [
      "1590 10\n",
      "928553\n",
      "302\n",
      "Private Sector/Self Employed 72.64\n",
      "37.53\n"
     ]
    }
   ],
   "source": [
    "print(*(eval(f'q{i}') for i in range(1,6)), sep='\\n')"
   ]
  },
  {
   "cell_type": "code",
   "execution_count": 85,
   "id": "d30946e3-5bbd-4cf0-a4fe-abc68f9f6c56",
   "metadata": {},
   "outputs": [],
   "source": [
    "with open('output.txt', 'w') as file:\n",
    "    print(*(eval(f'q{i}') for i in range(1,6)), sep='\\n', file=file)"
   ]
  },
  {
   "cell_type": "code",
   "execution_count": null,
   "id": "a6108309-ce97-430c-9545-d3aa21334478",
   "metadata": {},
   "outputs": [],
   "source": []
  }
 ],
 "metadata": {
  "kernelspec": {
   "display_name": "Python 3 (ipykernel)",
   "language": "python",
   "name": "python3"
  },
  "language_info": {
   "codemirror_mode": {
    "name": "ipython",
    "version": 3
   },
   "file_extension": ".py",
   "mimetype": "text/x-python",
   "name": "python",
   "nbconvert_exporter": "python",
   "pygments_lexer": "ipython3",
   "version": "3.9.6"
  }
 },
 "nbformat": 4,
 "nbformat_minor": 5
}
