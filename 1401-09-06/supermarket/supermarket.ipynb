{
 "cells": [
  {
   "cell_type": "markdown",
   "id": "74a0c688-1394-43be-9e16-7c49d2bc3456",
   "metadata": {},
   "source": [
    "# Shopping cart analysis"
   ]
  },
  {
   "cell_type": "markdown",
   "id": "9877a0b3-9e13-4447-b403-4792f0e2f247",
   "metadata": {},
   "source": [
    "Problem Description: [Link in Quera](https://quera.org/problemset/125313/)"
   ]
  },
  {
   "cell_type": "code",
   "execution_count": 2,
   "id": "04dd8e77-dac9-473c-900c-085a397536bf",
   "metadata": {},
   "outputs": [],
   "source": [
    "import pandas as pd"
   ]
  },
  {
   "cell_type": "code",
   "execution_count": 3,
   "id": "7025f757-5063-4bee-b1b6-20a0707ff0ed",
   "metadata": {},
   "outputs": [],
   "source": [
    "df = pd.read_csv('./data/supermarket.zip',\n",
    "                 # dtype={'Product':'category'},\n",
    "                 # parse_dates=['Date']\n",
    "                )"
   ]
  },
  {
   "cell_type": "code",
   "execution_count": 4,
   "id": "ec4e6684-f85a-480a-88c4-070c3d27d014",
   "metadata": {},
   "outputs": [
    {
     "data": {
      "text/html": [
       "<div>\n",
       "<style scoped>\n",
       "    .dataframe tbody tr th:only-of-type {\n",
       "        vertical-align: middle;\n",
       "    }\n",
       "\n",
       "    .dataframe tbody tr th {\n",
       "        vertical-align: top;\n",
       "    }\n",
       "\n",
       "    .dataframe thead th {\n",
       "        text-align: right;\n",
       "    }\n",
       "</style>\n",
       "<table border=\"1\" class=\"dataframe\">\n",
       "  <thead>\n",
       "    <tr style=\"text-align: right;\">\n",
       "      <th></th>\n",
       "      <th>Customer Id</th>\n",
       "      <th>Date</th>\n",
       "      <th>Product</th>\n",
       "    </tr>\n",
       "  </thead>\n",
       "  <tbody>\n",
       "    <tr>\n",
       "      <th>0</th>\n",
       "      <td>JKML5ZWXP0XQ</td>\n",
       "      <td>2020-07-20</td>\n",
       "      <td>tropical fruit</td>\n",
       "    </tr>\n",
       "    <tr>\n",
       "      <th>1</th>\n",
       "      <td>YOGWQIUPDAJ7</td>\n",
       "      <td>2020-04-30</td>\n",
       "      <td>whole milk</td>\n",
       "    </tr>\n",
       "    <tr>\n",
       "      <th>2</th>\n",
       "      <td>Q3NL22281AF6</td>\n",
       "      <td>2020-09-18</td>\n",
       "      <td>pip fruit</td>\n",
       "    </tr>\n",
       "    <tr>\n",
       "      <th>3</th>\n",
       "      <td>C59GRTLMZQAU</td>\n",
       "      <td>2020-12-11</td>\n",
       "      <td>other vegetables</td>\n",
       "    </tr>\n",
       "    <tr>\n",
       "      <th>4</th>\n",
       "      <td>WUSF8LTEQZ5L</td>\n",
       "      <td>2020-01-02</td>\n",
       "      <td>whole milk</td>\n",
       "    </tr>\n",
       "    <tr>\n",
       "      <th>...</th>\n",
       "      <td>...</td>\n",
       "      <td>...</td>\n",
       "      <td>...</td>\n",
       "    </tr>\n",
       "    <tr>\n",
       "      <th>32705</th>\n",
       "      <td>PM1BQU9H9S2Q</td>\n",
       "      <td>2019-06-05</td>\n",
       "      <td>oil</td>\n",
       "    </tr>\n",
       "    <tr>\n",
       "      <th>32706</th>\n",
       "      <td>6AWIAP3ZV551</td>\n",
       "      <td>2019-08-10</td>\n",
       "      <td>sliced cheese</td>\n",
       "    </tr>\n",
       "    <tr>\n",
       "      <th>32707</th>\n",
       "      <td>LRWVFLSC8X5B</td>\n",
       "      <td>2019-02-23</td>\n",
       "      <td>candy</td>\n",
       "    </tr>\n",
       "    <tr>\n",
       "      <th>32708</th>\n",
       "      <td>8KYRMELYKNIH</td>\n",
       "      <td>2019-04-16</td>\n",
       "      <td>cake bar</td>\n",
       "    </tr>\n",
       "    <tr>\n",
       "      <th>32709</th>\n",
       "      <td>41NGW85T47Q1</td>\n",
       "      <td>2019-03-12</td>\n",
       "      <td>fruit/vegetable juice</td>\n",
       "    </tr>\n",
       "  </tbody>\n",
       "</table>\n",
       "<p>32710 rows × 3 columns</p>\n",
       "</div>"
      ],
      "text/plain": [
       "        Customer Id        Date                Product\n",
       "0      JKML5ZWXP0XQ  2020-07-20         tropical fruit\n",
       "1      YOGWQIUPDAJ7  2020-04-30             whole milk\n",
       "2      Q3NL22281AF6  2020-09-18              pip fruit\n",
       "3      C59GRTLMZQAU  2020-12-11       other vegetables\n",
       "4      WUSF8LTEQZ5L  2020-01-02             whole milk\n",
       "...             ...         ...                    ...\n",
       "32705  PM1BQU9H9S2Q  2019-06-05                    oil\n",
       "32706  6AWIAP3ZV551  2019-08-10          sliced cheese\n",
       "32707  LRWVFLSC8X5B  2019-02-23                  candy\n",
       "32708  8KYRMELYKNIH  2019-04-16               cake bar\n",
       "32709  41NGW85T47Q1  2019-03-12  fruit/vegetable juice\n",
       "\n",
       "[32710 rows x 3 columns]"
      ]
     },
     "execution_count": 4,
     "metadata": {},
     "output_type": "execute_result"
    }
   ],
   "source": [
    "df"
   ]
  },
  {
   "cell_type": "code",
   "execution_count": 5,
   "id": "3b5eece9-f7ff-48a4-b8b7-d738bf3b2d8c",
   "metadata": {},
   "outputs": [
    {
     "name": "stdout",
     "output_type": "stream",
     "text": [
      "<class 'pandas.core.frame.DataFrame'>\n",
      "RangeIndex: 32710 entries, 0 to 32709\n",
      "Data columns (total 3 columns):\n",
      " #   Column       Non-Null Count  Dtype \n",
      "---  ------       --------------  ----- \n",
      " 0   Customer Id  32710 non-null  object\n",
      " 1   Date         32710 non-null  object\n",
      " 2   Product      32710 non-null  object\n",
      "dtypes: object(3)\n",
      "memory usage: 766.8+ KB\n"
     ]
    }
   ],
   "source": [
    "df.info()"
   ]
  },
  {
   "cell_type": "markdown",
   "id": "0f3b3285-29b7-4b54-b607-b4cd6a128a76",
   "metadata": {},
   "source": [
    "## <div direction=rtl, align=right> تعداد محصولات یکتا در کل دادگان، چندتاست؟ </div>"
   ]
  },
  {
   "cell_type": "code",
   "execution_count": 5,
   "id": "62feb3b5-42a1-4c7a-a571-f56df106e68c",
   "metadata": {},
   "outputs": [
    {
     "data": {
      "text/plain": [
       "137"
      ]
     },
     "execution_count": 5,
     "metadata": {},
     "output_type": "execute_result"
    }
   ],
   "source": [
    "q1 = df.Product.nunique()\n",
    "q1"
   ]
  },
  {
   "cell_type": "markdown",
   "id": "a59b6d02-cfc2-4849-bbb5-47af2f194361",
   "metadata": {},
   "source": [
    "## <div direction=rtl, align=right> میزان فروش به ازای هر روز به صورت میانگین چند است (تا دو رقم بعد از اعشار)؟ </div>"
   ]
  },
  {
   "cell_type": "code",
   "execution_count": 13,
   "id": "da139072-bab4-463d-85f3-4a4c84360adf",
   "metadata": {},
   "outputs": [
    {
     "data": {
      "text/plain": [
       "44.93"
      ]
     },
     "execution_count": 13,
     "metadata": {},
     "output_type": "execute_result"
    }
   ],
   "source": [
    "res = df.Product.size / df.Date.nunique()\n",
    "q2 = round(res, 2)\n",
    "q2"
   ]
  },
  {
   "cell_type": "code",
   "execution_count": 6,
   "id": "62c97a87-cdff-44b1-8f6d-f1f3b8605bf9",
   "metadata": {},
   "outputs": [
    {
     "data": {
      "text/plain": [
       "44.93"
      ]
     },
     "execution_count": 6,
     "metadata": {},
     "output_type": "execute_result"
    }
   ],
   "source": [
    "q2 = (df[['Date', 'Product']]\n",
    "      .groupby('Date')\n",
    "      .count()\n",
    "      .mean()\n",
    "      .round(2)\n",
    "      .item()\n",
    "     )\n",
    "q2"
   ]
  },
  {
   "cell_type": "markdown",
   "id": "4cef195b-535a-4311-b411-cc10c908edd6",
   "metadata": {},
   "source": [
    "## <div direction=rtl, align=right> چهار محصولی که کمتر از بقیه در سبد مشتریان قرار گرفته‌اند، کدامند (ترتیب مهم نیست)؟ </div>"
   ]
  },
  {
   "cell_type": "code",
   "execution_count": 7,
   "id": "f08e352e-ec17-4f4d-9247-8eb04570c923",
   "metadata": {},
   "outputs": [],
   "source": [
    "sales_of_each_product = df.Product.value_counts(ascending=True)"
   ]
  },
  {
   "cell_type": "code",
   "execution_count": 8,
   "id": "1de14a08-6a2e-4609-b7eb-6b24ccbc000c",
   "metadata": {},
   "outputs": [
    {
     "data": {
      "text/plain": [
       "'preservation products,kitchen utensil,baby cosmetics,bags'"
      ]
     },
     "execution_count": 8,
     "metadata": {},
     "output_type": "execute_result"
    }
   ],
   "source": [
    "q3 = ','.join(\n",
    "    map(\n",
    "        str,\n",
    "        sales_of_each_product[:4].index\n",
    "    )\n",
    ")\n",
    "q3"
   ]
  },
  {
   "cell_type": "markdown",
   "id": "dd9ce528-6b30-4961-84a2-b38d0f792a7c",
   "metadata": {},
   "source": [
    "## <div direction=rtl, align=right> پنج مشتری‌ای که در سال ۲۰۲۰، بیشترین تعداد \"سبد\" را داشته‌اند، کدامند (ترتیب مهم نیست)؟ </div>"
   ]
  },
  {
   "cell_type": "code",
   "execution_count": 9,
   "id": "fdffdb33-9951-483a-b86c-14e5b300d98f",
   "metadata": {},
   "outputs": [],
   "source": [
    "df.sort_values('Date', inplace=True)"
   ]
  },
  {
   "cell_type": "code",
   "execution_count": 10,
   "id": "ebf40d3e-ec98-47b4-a0de-01f74926569f",
   "metadata": {},
   "outputs": [
    {
     "data": {
      "text/html": [
       "<div>\n",
       "<style scoped>\n",
       "    .dataframe tbody tr th:only-of-type {\n",
       "        vertical-align: middle;\n",
       "    }\n",
       "\n",
       "    .dataframe tbody tr th {\n",
       "        vertical-align: top;\n",
       "    }\n",
       "\n",
       "    .dataframe thead th {\n",
       "        text-align: right;\n",
       "    }\n",
       "</style>\n",
       "<table border=\"1\" class=\"dataframe\">\n",
       "  <thead>\n",
       "    <tr style=\"text-align: right;\">\n",
       "      <th></th>\n",
       "      <th>Customer Id</th>\n",
       "      <th>Date</th>\n",
       "      <th>Product</th>\n",
       "    </tr>\n",
       "  </thead>\n",
       "  <tbody>\n",
       "    <tr>\n",
       "      <th>14554</th>\n",
       "      <td>BNREUVSNK4KI</td>\n",
       "      <td>2020-01-01</td>\n",
       "      <td>brown bread</td>\n",
       "    </tr>\n",
       "    <tr>\n",
       "      <th>2944</th>\n",
       "      <td>JCDI7PFUKHTO</td>\n",
       "      <td>2020-01-01</td>\n",
       "      <td>sausage</td>\n",
       "    </tr>\n",
       "    <tr>\n",
       "      <th>13322</th>\n",
       "      <td>2T4TPX1TFIJT</td>\n",
       "      <td>2020-01-01</td>\n",
       "      <td>tropical fruit</td>\n",
       "    </tr>\n",
       "    <tr>\n",
       "      <th>15759</th>\n",
       "      <td>LAOPYEIMY8JU</td>\n",
       "      <td>2020-01-01</td>\n",
       "      <td>turkey</td>\n",
       "    </tr>\n",
       "    <tr>\n",
       "      <th>18764</th>\n",
       "      <td>O5HGE614NF7Q</td>\n",
       "      <td>2020-01-01</td>\n",
       "      <td>pickled vegetables</td>\n",
       "    </tr>\n",
       "    <tr>\n",
       "      <th>...</th>\n",
       "      <td>...</td>\n",
       "      <td>...</td>\n",
       "      <td>...</td>\n",
       "    </tr>\n",
       "    <tr>\n",
       "      <th>14588</th>\n",
       "      <td>2O2YLJ5FUAJT</td>\n",
       "      <td>2020-12-29</td>\n",
       "      <td>bottled beer</td>\n",
       "    </tr>\n",
       "    <tr>\n",
       "      <th>17620</th>\n",
       "      <td>5USJ20248CHY</td>\n",
       "      <td>2020-12-29</td>\n",
       "      <td>herbs</td>\n",
       "    </tr>\n",
       "    <tr>\n",
       "      <th>29635</th>\n",
       "      <td>0LRNCT5AF6LF</td>\n",
       "      <td>2020-12-29</td>\n",
       "      <td>rolls/buns</td>\n",
       "    </tr>\n",
       "    <tr>\n",
       "      <th>6344</th>\n",
       "      <td>NV334BJ2XM2Z</td>\n",
       "      <td>2020-12-29</td>\n",
       "      <td>tropical fruit</td>\n",
       "    </tr>\n",
       "    <tr>\n",
       "      <th>1006</th>\n",
       "      <td>JOS88LWNW3ST</td>\n",
       "      <td>2020-12-29</td>\n",
       "      <td>yogurt</td>\n",
       "    </tr>\n",
       "  </tbody>\n",
       "</table>\n",
       "<p>16988 rows × 3 columns</p>\n",
       "</div>"
      ],
      "text/plain": [
       "        Customer Id        Date             Product\n",
       "14554  BNREUVSNK4KI  2020-01-01         brown bread\n",
       "2944   JCDI7PFUKHTO  2020-01-01             sausage\n",
       "13322  2T4TPX1TFIJT  2020-01-01      tropical fruit\n",
       "15759  LAOPYEIMY8JU  2020-01-01              turkey\n",
       "18764  O5HGE614NF7Q  2020-01-01  pickled vegetables\n",
       "...             ...         ...                 ...\n",
       "14588  2O2YLJ5FUAJT  2020-12-29        bottled beer\n",
       "17620  5USJ20248CHY  2020-12-29               herbs\n",
       "29635  0LRNCT5AF6LF  2020-12-29          rolls/buns\n",
       "6344   NV334BJ2XM2Z  2020-12-29      tropical fruit\n",
       "1006   JOS88LWNW3ST  2020-12-29              yogurt\n",
       "\n",
       "[16988 rows x 3 columns]"
      ]
     },
     "execution_count": 10,
     "metadata": {},
     "output_type": "execute_result"
    }
   ],
   "source": [
    "df.loc[df.Date>'2020']"
   ]
  },
  {
   "cell_type": "code",
   "execution_count": 16,
   "id": "7f8b1931-26ed-4316-92a4-f250372352fb",
   "metadata": {},
   "outputs": [],
   "source": [
    "Customer2020 = (\n",
    "    df\n",
    "    .loc[df.Date>'2020', ['Customer Id', 'Date']]\n",
    "    .groupby(['Customer Id'])\n",
    "    .nunique()\n",
    ")"
   ]
  },
  {
   "cell_type": "code",
   "execution_count": 17,
   "id": "57926266-1650-4b3d-9e1a-8ca7f6cb865e",
   "metadata": {},
   "outputs": [
    {
     "data": {
      "text/html": [
       "<div>\n",
       "<style scoped>\n",
       "    .dataframe tbody tr th:only-of-type {\n",
       "        vertical-align: middle;\n",
       "    }\n",
       "\n",
       "    .dataframe tbody tr th {\n",
       "        vertical-align: top;\n",
       "    }\n",
       "\n",
       "    .dataframe thead th {\n",
       "        text-align: right;\n",
       "    }\n",
       "</style>\n",
       "<table border=\"1\" class=\"dataframe\">\n",
       "  <thead>\n",
       "    <tr style=\"text-align: right;\">\n",
       "      <th></th>\n",
       "      <th>Date</th>\n",
       "    </tr>\n",
       "    <tr>\n",
       "      <th>Customer Id</th>\n",
       "      <th></th>\n",
       "    </tr>\n",
       "  </thead>\n",
       "  <tbody>\n",
       "    <tr>\n",
       "      <th>0011457U6R3Y</th>\n",
       "      <td>1</td>\n",
       "    </tr>\n",
       "    <tr>\n",
       "      <th>00D4E3I1MS2R</th>\n",
       "      <td>3</td>\n",
       "    </tr>\n",
       "    <tr>\n",
       "      <th>011K5G14VFYQ</th>\n",
       "      <td>1</td>\n",
       "    </tr>\n",
       "    <tr>\n",
       "      <th>018OA73Z6TR6</th>\n",
       "      <td>3</td>\n",
       "    </tr>\n",
       "    <tr>\n",
       "      <th>01HFRBUAX0R7</th>\n",
       "      <td>1</td>\n",
       "    </tr>\n",
       "    <tr>\n",
       "      <th>...</th>\n",
       "      <td>...</td>\n",
       "    </tr>\n",
       "    <tr>\n",
       "      <th>ZYK1C5SUQ37I</th>\n",
       "      <td>1</td>\n",
       "    </tr>\n",
       "    <tr>\n",
       "      <th>ZYLKVTPXLLUH</th>\n",
       "      <td>4</td>\n",
       "    </tr>\n",
       "    <tr>\n",
       "      <th>ZYPGG9P8NXLT</th>\n",
       "      <td>1</td>\n",
       "    </tr>\n",
       "    <tr>\n",
       "      <th>ZZ22WYIS9ORL</th>\n",
       "      <td>4</td>\n",
       "    </tr>\n",
       "    <tr>\n",
       "      <th>ZZRT1GFUKTZ7</th>\n",
       "      <td>2</td>\n",
       "    </tr>\n",
       "  </tbody>\n",
       "</table>\n",
       "<p>3298 rows × 1 columns</p>\n",
       "</div>"
      ],
      "text/plain": [
       "              Date\n",
       "Customer Id       \n",
       "0011457U6R3Y     1\n",
       "00D4E3I1MS2R     3\n",
       "011K5G14VFYQ     1\n",
       "018OA73Z6TR6     3\n",
       "01HFRBUAX0R7     1\n",
       "...            ...\n",
       "ZYK1C5SUQ37I     1\n",
       "ZYLKVTPXLLUH     4\n",
       "ZYPGG9P8NXLT     1\n",
       "ZZ22WYIS9ORL     4\n",
       "ZZRT1GFUKTZ7     2\n",
       "\n",
       "[3298 rows x 1 columns]"
      ]
     },
     "execution_count": 17,
     "metadata": {},
     "output_type": "execute_result"
    }
   ],
   "source": [
    "Customer2020"
   ]
  },
  {
   "cell_type": "code",
   "execution_count": 14,
   "id": "19c4383e-d128-4aba-bd0d-9847cc9a628a",
   "metadata": {},
   "outputs": [],
   "source": [
    "df2 = df.loc[df.Date.str.contains('2020')]"
   ]
  },
  {
   "cell_type": "code",
   "execution_count": 15,
   "id": "8585876d-1922-4fb2-a474-da5188db4825",
   "metadata": {},
   "outputs": [
    {
     "data": {
      "text/plain": [
       "Customer Id\n",
       "0ZRF32AJ06BC    26\n",
       "KACGV5OJXMJW    23\n",
       "0P1TPIH74E79    21\n",
       "3HRBE45N5NB6    20\n",
       "ED8WY0DE27XG    20\n",
       "                ..\n",
       "9F72DLDOMRJQ     1\n",
       "3RYPXAQGHMWN     1\n",
       "RHH9PMYZLJ0K     1\n",
       "X678EDW1N59W     1\n",
       "7ERD4BG8GASE     1\n",
       "Length: 3298, dtype: int64"
      ]
     },
     "execution_count": 15,
     "metadata": {},
     "output_type": "execute_result"
    }
   ],
   "source": [
    "df2.value_counts('Customer Id')"
   ]
  },
  {
   "cell_type": "code",
   "execution_count": 19,
   "id": "aeb2c978-b9c6-44df-8f9a-e0aff4a641bf",
   "metadata": {},
   "outputs": [
    {
     "data": {
      "text/html": [
       "<div>\n",
       "<style scoped>\n",
       "    .dataframe tbody tr th:only-of-type {\n",
       "        vertical-align: middle;\n",
       "    }\n",
       "\n",
       "    .dataframe tbody tr th {\n",
       "        vertical-align: top;\n",
       "    }\n",
       "\n",
       "    .dataframe thead th {\n",
       "        text-align: right;\n",
       "    }\n",
       "</style>\n",
       "<table border=\"1\" class=\"dataframe\">\n",
       "  <thead>\n",
       "    <tr style=\"text-align: right;\">\n",
       "      <th></th>\n",
       "      <th>Date</th>\n",
       "    </tr>\n",
       "    <tr>\n",
       "      <th>Customer Id</th>\n",
       "      <th></th>\n",
       "    </tr>\n",
       "  </thead>\n",
       "  <tbody>\n",
       "    <tr>\n",
       "      <th>0ZRF32AJ06BC</th>\n",
       "      <td>7</td>\n",
       "    </tr>\n",
       "    <tr>\n",
       "      <th>E7FD9BU4OK0F</th>\n",
       "      <td>7</td>\n",
       "    </tr>\n",
       "    <tr>\n",
       "      <th>M2DT2Z00NQCH</th>\n",
       "      <td>7</td>\n",
       "    </tr>\n",
       "    <tr>\n",
       "      <th>M722MPITBY07</th>\n",
       "      <td>7</td>\n",
       "    </tr>\n",
       "    <tr>\n",
       "      <th>QBUS9NZY39BE</th>\n",
       "      <td>7</td>\n",
       "    </tr>\n",
       "  </tbody>\n",
       "</table>\n",
       "</div>"
      ],
      "text/plain": [
       "              Date\n",
       "Customer Id       \n",
       "0ZRF32AJ06BC     7\n",
       "E7FD9BU4OK0F     7\n",
       "M2DT2Z00NQCH     7\n",
       "M722MPITBY07     7\n",
       "QBUS9NZY39BE     7"
      ]
     },
     "execution_count": 19,
     "metadata": {},
     "output_type": "execute_result"
    }
   ],
   "source": [
    "Customer2020.nlargest(5, 'Date')"
   ]
  },
  {
   "cell_type": "code",
   "execution_count": 12,
   "id": "4d9328b0-1aa2-4861-81e2-61cb9c05560d",
   "metadata": {},
   "outputs": [
    {
     "data": {
      "text/plain": [
       "'M722MPITBY07,E7FD9BU4OK0F,0ZRF32AJ06BC,M2DT2Z00NQCH,QBUS9NZY39BE'"
      ]
     },
     "execution_count": 12,
     "metadata": {},
     "output_type": "execute_result"
    }
   ],
   "source": [
    "q4 = ','.join(\n",
    "    Customer2020\n",
    "    .sort_values(by='Date', ascending=False)\n",
    "    .head(5)\n",
    "    .index\n",
    ")\n",
    "q4"
   ]
  },
  {
   "cell_type": "markdown",
   "id": "265113fe-6ac2-4524-a96a-690e45124379",
   "metadata": {},
   "source": [
    "## <div direction=rtl, align=right> کدام روز هفته، بیشترین تعداد محصول فروش رفته‌است؟ </div>"
   ]
  },
  {
   "cell_type": "code",
   "execution_count": 20,
   "id": "0d2901e7-0306-4154-b764-9f4efa8b9293",
   "metadata": {},
   "outputs": [
    {
     "data": {
      "text/plain": [
       "0    2020-07-20\n",
       "1    2020-04-30\n",
       "2    2020-09-18\n",
       "3    2020-12-11\n",
       "4    2020-01-02\n",
       "Name: Date, dtype: object"
      ]
     },
     "execution_count": 20,
     "metadata": {},
     "output_type": "execute_result"
    }
   ],
   "source": [
    "df.Date.head()"
   ]
  },
  {
   "cell_type": "code",
   "execution_count": 13,
   "id": "3d498fff-144d-4931-938c-8af4e7ea3cf6",
   "metadata": {},
   "outputs": [
    {
     "name": "stdout",
     "output_type": "stream",
     "text": [
      "3.82 s ± 7.21 ms per loop (mean ± std. dev. of 7 runs, 1 loop each)\n"
     ]
    }
   ],
   "source": [
    "%%timeit\n",
    "df_day = df.Date.apply(lambda x: pd.to_datetime(x).strftime(\"%A\"))"
   ]
  },
  {
   "cell_type": "code",
   "execution_count": 14,
   "id": "2e0906ab-dd2c-4e44-8c8e-ba78ad9310e3",
   "metadata": {},
   "outputs": [
    {
     "name": "stdout",
     "output_type": "stream",
     "text": [
      "16.5 ms ± 206 µs per loop (mean ± std. dev. of 7 runs, 100 loops each)\n"
     ]
    }
   ],
   "source": [
    "%%timeit\n",
    "df_day = (\n",
    "    pd.to_datetime(df.Date)\n",
    "    .dt.day_name()\n",
    ")"
   ]
  },
  {
   "cell_type": "code",
   "execution_count": 21,
   "id": "76ddd446-4184-4344-8967-e7eb9fb5461a",
   "metadata": {},
   "outputs": [
    {
     "data": {
      "text/plain": [
       "0           Monday\n",
       "1         Thursday\n",
       "2           Friday\n",
       "3           Friday\n",
       "4         Thursday\n",
       "           ...    \n",
       "32705    Wednesday\n",
       "32706     Saturday\n",
       "32707     Saturday\n",
       "32708      Tuesday\n",
       "32709      Tuesday\n",
       "Name: Date, Length: 32710, dtype: object"
      ]
     },
     "execution_count": 21,
     "metadata": {},
     "output_type": "execute_result"
    }
   ],
   "source": [
    "df_day = (\n",
    "    pd.to_datetime(df.Date)\n",
    "    .dt.day_name()\n",
    ")\n",
    "df_day"
   ]
  },
  {
   "cell_type": "code",
   "execution_count": 16,
   "id": "375b233e-4f83-4a00-b833-eec1e832c94b",
   "metadata": {},
   "outputs": [
    {
     "data": {
      "text/plain": [
       "Wednesday    4846\n",
       "Tuesday      4802\n",
       "Saturday     4774\n",
       "Monday       4655\n",
       "Thursday     4614\n",
       "Friday       4539\n",
       "Sunday       4480\n",
       "Name: Date, dtype: int64"
      ]
     },
     "execution_count": 16,
     "metadata": {},
     "output_type": "execute_result"
    }
   ],
   "source": [
    "df_day.value_counts()"
   ]
  },
  {
   "cell_type": "code",
   "execution_count": 17,
   "id": "6c7f92e5-8eef-444f-8dae-faa4977a7920",
   "metadata": {},
   "outputs": [
    {
     "data": {
      "text/plain": [
       "'Wednesday'"
      ]
     },
     "execution_count": 17,
     "metadata": {},
     "output_type": "execute_result"
    }
   ],
   "source": [
    "q5 = df_day.value_counts().index[0]\n",
    "q5"
   ]
  },
  {
   "cell_type": "markdown",
   "id": "79b63d2e-6290-40c2-a391-084a8602b7d9",
   "metadata": {},
   "source": [
    "## <div style=\"direction:rtl;align:right\"> پنج محصولی که بیشترین support را دارند به ترتیب نزولی کدامند؟ </div>"
   ]
  },
  {
   "cell_type": "code",
   "execution_count": 25,
   "id": "d1105040-f1f7-4b47-aa5e-b5ab45c74afc",
   "metadata": {},
   "outputs": [
    {
     "data": {
      "text/plain": [
       "14753"
      ]
     },
     "execution_count": 25,
     "metadata": {},
     "output_type": "execute_result"
    }
   ],
   "source": [
    "basket = df.groupby(['Customer Id', 'Date'])\n",
    "n_basket = basket.ngroups\n",
    "n_basket"
   ]
  },
  {
   "cell_type": "code",
   "execution_count": 26,
   "id": "09b422c8-7cf9-456d-a6b2-861d1790030d",
   "metadata": {},
   "outputs": [],
   "source": [
    "df_pd = df[['Product', 'Date']].value_counts()"
   ]
  },
  {
   "cell_type": "code",
   "execution_count": 27,
   "id": "1c079cc0-d901-44c5-92a3-d291ff0d8b65",
   "metadata": {},
   "outputs": [
    {
     "data": {
      "text/plain": [
       "Product           Date      \n",
       "whole milk        2020-01-04    13\n",
       "                  2020-08-27    11\n",
       "                  2020-08-18    10\n",
       "                  2020-11-27    10\n",
       "                  2020-11-20     9\n",
       "                                ..\n",
       "organic products  2019-10-22     1\n",
       "                  2019-12-04     1\n",
       "                  2020-01-03     1\n",
       "                  2020-03-06     1\n",
       "curd              2019-05-03     1\n",
       "Length: 21335, dtype: int64"
      ]
     },
     "execution_count": 27,
     "metadata": {},
     "output_type": "execute_result"
    }
   ],
   "source": [
    "df_pd"
   ]
  },
  {
   "cell_type": "code",
   "execution_count": 28,
   "id": "114c0d4c-3440-4e2f-b140-1d7d66a64f60",
   "metadata": {},
   "outputs": [
    {
     "data": {
      "text/plain": [
       "Product\n",
       "whole milk               2363\n",
       "other vegetables         1827\n",
       "rolls/buns               1646\n",
       "soda                     1453\n",
       "yogurt                   1285\n",
       "                         ... \n",
       "make up remover             5\n",
       "bags                        4\n",
       "baby cosmetics              3\n",
       "preservation products       1\n",
       "kitchen utensil             1\n",
       "Length: 137, dtype: int64"
      ]
     },
     "execution_count": 28,
     "metadata": {},
     "output_type": "execute_result"
    }
   ],
   "source": [
    "n_product_in_baskets = (\n",
    "    df_pd\n",
    "    .groupby(level=0)\n",
    "    .sum()\n",
    "    .sort_values(ascending=False)\n",
    ")\n",
    "n_product_in_baskets"
   ]
  },
  {
   "cell_type": "code",
   "execution_count": 29,
   "id": "730ac330-9fda-42eb-8ee6-be50f5825b98",
   "metadata": {},
   "outputs": [
    {
     "data": {
      "text/plain": [
       "Product\n",
       "whole milk               0.160171\n",
       "other vegetables         0.123839\n",
       "rolls/buns               0.111571\n",
       "soda                     0.098488\n",
       "yogurt                   0.087101\n",
       "                           ...   \n",
       "make up remover          0.000339\n",
       "bags                     0.000271\n",
       "baby cosmetics           0.000203\n",
       "preservation products    0.000068\n",
       "kitchen utensil          0.000068\n",
       "Length: 137, dtype: float64"
      ]
     },
     "execution_count": 29,
     "metadata": {},
     "output_type": "execute_result"
    }
   ],
   "source": [
    "product_support = n_product_in_baskets / n_basket\n",
    "product_support"
   ]
  },
  {
   "cell_type": "code",
   "execution_count": 29,
   "id": "6acfe778-545f-4501-a52a-896377faf64e",
   "metadata": {},
   "outputs": [
    {
     "data": {
      "text/plain": [
       "'whole milk,other vegetables,rolls/buns,soda,yogurt'"
      ]
     },
     "execution_count": 29,
     "metadata": {},
     "output_type": "execute_result"
    }
   ],
   "source": [
    "q6 = ','.join(product_support[:5].index)\n",
    "q6"
   ]
  },
  {
   "cell_type": "code",
   "execution_count": 31,
   "id": "ba433602-ec37-4fd0-8547-2e56849f3201",
   "metadata": {},
   "outputs": [
    {
     "data": {
      "text/plain": [
       "53"
      ]
     },
     "execution_count": 31,
     "metadata": {},
     "output_type": "execute_result"
    }
   ],
   "source": [
    "(product_support >= 0.01).sum()"
   ]
  },
  {
   "cell_type": "markdown",
   "id": "e63bae66-e926-4b6d-ab2a-77540a8ce4e1",
   "metadata": {},
   "source": [
    "## <div style=\"direction:rtl;align:right\"> از بین مواردی که support آن‌ها، حداقل ۰.۰۱ می‌باشد. دو الگویی که بیشترین confidence را دارند، به ترتیب نزولی کدامند؟ </div>"
   ]
  },
  {
   "cell_type": "markdown",
   "id": "ee7bfed2-dcc1-4f7f-860c-a655ee411479",
   "metadata": {
    "jp-MarkdownHeadingCollapsed": true,
    "tags": []
   },
   "source": [
    "### Naive method:"
   ]
  },
  {
   "cell_type": "code",
   "execution_count": 68,
   "id": "f5f6f54b-747a-4604-8417-952f34f49061",
   "metadata": {},
   "outputs": [],
   "source": [
    "high_product_support = product_support[product_support > 0.01]\n",
    "high_product_support = list(map(lambda x:set((x,)),high_product_support.index))"
   ]
  },
  {
   "cell_type": "code",
   "execution_count": 54,
   "id": "8142812e-7419-46f1-8125-4a4d5ff0b65d",
   "metadata": {},
   "outputs": [],
   "source": [
    "baskets_list =[frozenset(b.Product) for a, b in basket]"
   ]
  },
  {
   "cell_type": "code",
   "execution_count": 69,
   "id": "7623b3e2-638d-48fc-97a1-76252728773f",
   "metadata": {},
   "outputs": [
    {
     "data": {
      "text/plain": [
       "[({'whole milk'}, 0.16017081271605776)]"
      ]
     },
     "execution_count": 69,
     "metadata": {},
     "output_type": "execute_result"
    }
   ],
   "source": [
    "high_sups = []\n",
    "for name1 in high_product_support:\n",
    "    for name2, sup2 in high_sups:\n",
    "        break\n",
    "    high_sups.append((name1, sup1))\n",
    "    break\n",
    "high_sups"
   ]
  },
  {
   "cell_type": "code",
   "execution_count": 63,
   "id": "c9c39a5a-9b3e-403d-943b-46cc3b903ee7",
   "metadata": {},
   "outputs": [
    {
     "data": {
      "text/plain": [
       "{'UHT-milk',\n",
       " 'beef',\n",
       " 'berries',\n",
       " 'beverages',\n",
       " 'bottled beer',\n",
       " 'bottled water',\n",
       " 'brown bread',\n",
       " 'butter',\n",
       " 'butter milk',\n",
       " 'candy',\n",
       " 'chewing gum',\n",
       " 'chicken',\n",
       " 'chocolate',\n",
       " 'citrus fruit',\n",
       " 'coffee',\n",
       " 'curd',\n",
       " 'dessert',\n",
       " 'domestic eggs',\n",
       " 'frozen meals',\n",
       " 'frozen vegetables',\n",
       " 'fruit/vegetable juice',\n",
       " 'grapes',\n",
       " 'hamburger meat',\n",
       " 'hard cheese',\n",
       " 'herbs',\n",
       " 'hygiene articles',\n",
       " 'ice cream',\n",
       " 'long life bakery product',\n",
       " 'margarine',\n",
       " 'meat',\n",
       " 'napkins',\n",
       " 'oil',\n",
       " 'onions',\n",
       " 'other vegetables',\n",
       " 'pastry',\n",
       " 'pip fruit',\n",
       " 'processed cheese',\n",
       " 'rolls/buns',\n",
       " 'root vegetables',\n",
       " 'salty snack',\n",
       " 'sausage',\n",
       " 'sliced cheese',\n",
       " 'soda',\n",
       " 'soft cheese',\n",
       " 'specialty bar',\n",
       " 'specialty chocolate',\n",
       " 'sugar',\n",
       " 'tropical fruit',\n",
       " 'waffles',\n",
       " 'whipped/sour cream',\n",
       " 'white bread',\n",
       " 'whole milk',\n",
       " 'yogurt'}"
      ]
     },
     "execution_count": 63,
     "metadata": {},
     "output_type": "execute_result"
    }
   ],
   "source": [
    "high_product_support"
   ]
  },
  {
   "cell_type": "code",
   "execution_count": 57,
   "id": "ecce93ef-0e42-4fad-b722-654c76d1457f",
   "metadata": {},
   "outputs": [
    {
     "data": {
      "text/plain": [
       "0.16017081271605776"
      ]
     },
     "execution_count": 57,
     "metadata": {},
     "output_type": "execute_result"
    }
   ],
   "source": [
    "high_product_support[name1]"
   ]
  },
  {
   "cell_type": "markdown",
   "id": "5658f8f9-1d06-4e39-ba5f-1d63595b6358",
   "metadata": {},
   "source": [
    "### mlxtend"
   ]
  },
  {
   "cell_type": "code",
   "execution_count": null,
   "id": "d7298f4b-9b52-4c97-bc76-cb9b8c17ef4d",
   "metadata": {},
   "outputs": [],
   "source": []
  },
  {
   "cell_type": "markdown",
   "id": "5245acaf-2f03-4b01-92bc-ec8514cd61fd",
   "metadata": {},
   "source": [
    "## Output:"
   ]
  },
  {
   "cell_type": "code",
   "execution_count": null,
   "id": "7833089d-e711-437c-850d-dff5a527f1f6",
   "metadata": {},
   "outputs": [],
   "source": [
    "print(*(eval(f'q{i}') for i in range(1,8)), sep='\\n')"
   ]
  },
  {
   "cell_type": "code",
   "execution_count": null,
   "id": "4f8a4581-d355-48e4-ae59-91d09a1b57f5",
   "metadata": {},
   "outputs": [],
   "source": [
    "with open('output.txt', 'w') as file:\n",
    "    print(*(eval(f'q{i}') for i in range(1,7)), sep='\\n', file=file)"
   ]
  },
  {
   "cell_type": "code",
   "execution_count": null,
   "id": "d7792d5b-fc73-4357-aca2-95ba128b0a74",
   "metadata": {},
   "outputs": [],
   "source": []
  }
 ],
 "metadata": {
  "kernelspec": {
   "display_name": "Python 3 (ipykernel)",
   "language": "python",
   "name": "python3"
  },
  "language_info": {
   "codemirror_mode": {
    "name": "ipython",
    "version": 3
   },
   "file_extension": ".py",
   "mimetype": "text/x-python",
   "name": "python",
   "nbconvert_exporter": "python",
   "pygments_lexer": "ipython3",
   "version": "3.9.6"
  }
 },
 "nbformat": 4,
 "nbformat_minor": 5
}
