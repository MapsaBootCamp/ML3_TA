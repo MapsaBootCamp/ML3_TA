{
 "cells": [
  {
   "cell_type": "code",
   "execution_count": 1,
   "id": "a7fa3d74-4015-486b-82d9-c16efdfa6aae",
   "metadata": {},
   "outputs": [],
   "source": [
    "import numpy as np"
   ]
  },
  {
   "cell_type": "code",
   "execution_count": 2,
   "id": "e0610209-1a1e-44fa-b70e-5591c6e580bd",
   "metadata": {},
   "outputs": [],
   "source": [
    "from sklearn.datasets import make_classification"
   ]
  },
  {
   "cell_type": "code",
   "execution_count": 3,
   "id": "03a8efb2-23a1-43db-90a6-2f7fcd70e95a",
   "metadata": {},
   "outputs": [],
   "source": [
    "from sklearn.naive_bayes import GaussianNB"
   ]
  },
  {
   "cell_type": "code",
   "execution_count": 4,
   "id": "7364aadf-39fd-4cd8-82e2-8e7bc0265807",
   "metadata": {},
   "outputs": [],
   "source": [
    "from naive_bayes_classifier import NaiveBayesClassifier"
   ]
  },
  {
   "cell_type": "markdown",
   "id": "77bc2d48-1fa4-42e6-9453-0786765c2a07",
   "metadata": {},
   "source": [
    "## Simple data test"
   ]
  },
  {
   "cell_type": "code",
   "execution_count": 5,
   "id": "31a8f385-6c01-4fa6-8d72-6e3789ee23b9",
   "metadata": {},
   "outputs": [],
   "source": [
    "X, y = make_classification(\n",
    "    n_features=7, n_redundant=2, n_informative=3, random_state=1, n_clusters_per_class=3\n",
    ")"
   ]
  },
  {
   "cell_type": "code",
   "execution_count": 6,
   "id": "5f1c9872-1ec6-4111-8b13-6d2759df105d",
   "metadata": {},
   "outputs": [
    {
     "data": {
      "text/plain": [
       "(100, 7)"
      ]
     },
     "execution_count": 6,
     "metadata": {},
     "output_type": "execute_result"
    }
   ],
   "source": [
    "X.shape"
   ]
  },
  {
   "cell_type": "code",
   "execution_count": 7,
   "id": "f9d11589-7ce7-4b5f-9c92-516a0e412c06",
   "metadata": {},
   "outputs": [
    {
     "data": {
      "text/plain": [
       "0.84"
      ]
     },
     "execution_count": 7,
     "metadata": {},
     "output_type": "execute_result"
    }
   ],
   "source": [
    "skmodel = GaussianNB().fit(X, y)\n",
    "skmodel.score(X, y)"
   ]
  },
  {
   "cell_type": "code",
   "execution_count": 8,
   "id": "861094ef-e76f-4318-8a7e-22013f682741",
   "metadata": {},
   "outputs": [
    {
     "data": {
      "text/plain": [
       "0.84"
      ]
     },
     "execution_count": 8,
     "metadata": {},
     "output_type": "execute_result"
    }
   ],
   "source": [
    "my_model = NaiveBayesClassifier().fit(X, y)\n",
    "my_model.score(X, y)"
   ]
  },
  {
   "cell_type": "code",
   "execution_count": 9,
   "id": "9b21818c-0114-4247-9478-a30f00fe70e4",
   "metadata": {},
   "outputs": [
    {
     "data": {
      "text/plain": [
       "True"
      ]
     },
     "execution_count": 9,
     "metadata": {},
     "output_type": "execute_result"
    }
   ],
   "source": [
    "all(skmodel.predict(X) == my_model.predict(X))"
   ]
  },
  {
   "cell_type": "markdown",
   "id": "27620dcc-c4e9-46d7-a6d8-6f1d47a2a9de",
   "metadata": {},
   "source": [
    "## Run time comparison"
   ]
  },
  {
   "cell_type": "code",
   "execution_count": 10,
   "id": "d298da9f-7501-4e2d-a978-c6876c45dfd6",
   "metadata": {},
   "outputs": [
    {
     "name": "stdout",
     "output_type": "stream",
     "text": [
      "1.89 ms ± 122 µs per loop (mean ± std. dev. of 7 runs, 1000 loops each)\n"
     ]
    }
   ],
   "source": [
    "%%timeit\n",
    "skmodel = GaussianNB().fit(X, y)\n",
    "skmodel.score(X, y)"
   ]
  },
  {
   "cell_type": "code",
   "execution_count": 11,
   "id": "173bc1be-6013-4f91-9b55-550783a19b8f",
   "metadata": {},
   "outputs": [
    {
     "name": "stdout",
     "output_type": "stream",
     "text": [
      "642 µs ± 28.9 µs per loop (mean ± std. dev. of 7 runs, 1000 loops each)\n"
     ]
    }
   ],
   "source": [
    "%%timeit\n",
    "my_model = NaiveBayesClassifier()\n",
    "my_model.fit(X, y)\n",
    "my_model.score(X, y)"
   ]
  }
 ],
 "metadata": {
  "kernelspec": {
   "display_name": "Python 3 (ipykernel)",
   "language": "python",
   "name": "python3"
  },
  "language_info": {
   "codemirror_mode": {
    "name": "ipython",
    "version": 3
   },
   "file_extension": ".py",
   "mimetype": "text/x-python",
   "name": "python",
   "nbconvert_exporter": "python",
   "pygments_lexer": "ipython3",
   "version": "3.9.6"
  }
 },
 "nbformat": 4,
 "nbformat_minor": 5
}
